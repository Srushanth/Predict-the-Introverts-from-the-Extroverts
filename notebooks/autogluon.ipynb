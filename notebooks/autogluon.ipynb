{
 "cells": [
  {
   "cell_type": "code",
   "execution_count": 1,
   "id": "fe3b327f",
   "metadata": {},
   "outputs": [],
   "source": [
    "import pandas as pd"
   ]
  },
  {
   "cell_type": "code",
   "execution_count": 2,
   "id": "1de4b7eb",
   "metadata": {},
   "outputs": [],
   "source": [
    "import sys\n",
    "import os\n",
    "\n",
    "# Get the parent of the current working directory\n",
    "parent_dir = os.path.abspath(os.path.join(os.getcwd(), '..'))\n",
    "\n",
    "# Add to sys.path\n",
    "if parent_dir not in sys.path:\n",
    "    sys.path.insert(0, parent_dir)\n"
   ]
  },
  {
   "cell_type": "code",
   "execution_count": 3,
   "id": "bf8292b9",
   "metadata": {},
   "outputs": [
    {
     "data": {
      "application/vnd.microsoft.datawrangler.viewer.v0+json": {
       "columns": [
        {
         "name": "index",
         "rawType": "int64",
         "type": "integer"
        },
        {
         "name": "id",
         "rawType": "int64",
         "type": "integer"
        },
        {
         "name": "Time_spent_Alone",
         "rawType": "float64",
         "type": "float"
        },
        {
         "name": "Stage_fear",
         "rawType": "object",
         "type": "string"
        },
        {
         "name": "Social_event_attendance",
         "rawType": "float64",
         "type": "float"
        },
        {
         "name": "Going_outside",
         "rawType": "float64",
         "type": "float"
        },
        {
         "name": "Drained_after_socializing",
         "rawType": "object",
         "type": "unknown"
        },
        {
         "name": "Friends_circle_size",
         "rawType": "float64",
         "type": "float"
        },
        {
         "name": "Post_frequency",
         "rawType": "float64",
         "type": "float"
        },
        {
         "name": "Personality",
         "rawType": "object",
         "type": "string"
        }
       ],
       "ref": "986d0e43-3d46-43ff-8b26-dd8f33dc36c1",
       "rows": [
        [
         "0",
         "0",
         "0.0",
         "No",
         "6.0",
         "4.0",
         "No",
         "15.0",
         "5.0",
         "Extrovert"
        ],
        [
         "1",
         "1",
         "1.0",
         "No",
         "7.0",
         "3.0",
         "No",
         "10.0",
         "8.0",
         "Extrovert"
        ],
        [
         "2",
         "2",
         "6.0",
         "Yes",
         "1.0",
         "0.0",
         null,
         "3.0",
         "0.0",
         "Introvert"
        ],
        [
         "3",
         "3",
         "3.0",
         "No",
         "7.0",
         "3.0",
         "No",
         "11.0",
         "5.0",
         "Extrovert"
        ],
        [
         "4",
         "4",
         "1.0",
         "No",
         "4.0",
         "4.0",
         "No",
         "13.0",
         null,
         "Extrovert"
        ]
       ],
       "shape": {
        "columns": 9,
        "rows": 5
       }
      },
      "text/html": [
       "<div>\n",
       "<style scoped>\n",
       "    .dataframe tbody tr th:only-of-type {\n",
       "        vertical-align: middle;\n",
       "    }\n",
       "\n",
       "    .dataframe tbody tr th {\n",
       "        vertical-align: top;\n",
       "    }\n",
       "\n",
       "    .dataframe thead th {\n",
       "        text-align: right;\n",
       "    }\n",
       "</style>\n",
       "<table border=\"1\" class=\"dataframe\">\n",
       "  <thead>\n",
       "    <tr style=\"text-align: right;\">\n",
       "      <th></th>\n",
       "      <th>id</th>\n",
       "      <th>Time_spent_Alone</th>\n",
       "      <th>Stage_fear</th>\n",
       "      <th>Social_event_attendance</th>\n",
       "      <th>Going_outside</th>\n",
       "      <th>Drained_after_socializing</th>\n",
       "      <th>Friends_circle_size</th>\n",
       "      <th>Post_frequency</th>\n",
       "      <th>Personality</th>\n",
       "    </tr>\n",
       "  </thead>\n",
       "  <tbody>\n",
       "    <tr>\n",
       "      <th>0</th>\n",
       "      <td>0</td>\n",
       "      <td>0.0</td>\n",
       "      <td>No</td>\n",
       "      <td>6.0</td>\n",
       "      <td>4.0</td>\n",
       "      <td>No</td>\n",
       "      <td>15.0</td>\n",
       "      <td>5.0</td>\n",
       "      <td>Extrovert</td>\n",
       "    </tr>\n",
       "    <tr>\n",
       "      <th>1</th>\n",
       "      <td>1</td>\n",
       "      <td>1.0</td>\n",
       "      <td>No</td>\n",
       "      <td>7.0</td>\n",
       "      <td>3.0</td>\n",
       "      <td>No</td>\n",
       "      <td>10.0</td>\n",
       "      <td>8.0</td>\n",
       "      <td>Extrovert</td>\n",
       "    </tr>\n",
       "    <tr>\n",
       "      <th>2</th>\n",
       "      <td>2</td>\n",
       "      <td>6.0</td>\n",
       "      <td>Yes</td>\n",
       "      <td>1.0</td>\n",
       "      <td>0.0</td>\n",
       "      <td>NaN</td>\n",
       "      <td>3.0</td>\n",
       "      <td>0.0</td>\n",
       "      <td>Introvert</td>\n",
       "    </tr>\n",
       "    <tr>\n",
       "      <th>3</th>\n",
       "      <td>3</td>\n",
       "      <td>3.0</td>\n",
       "      <td>No</td>\n",
       "      <td>7.0</td>\n",
       "      <td>3.0</td>\n",
       "      <td>No</td>\n",
       "      <td>11.0</td>\n",
       "      <td>5.0</td>\n",
       "      <td>Extrovert</td>\n",
       "    </tr>\n",
       "    <tr>\n",
       "      <th>4</th>\n",
       "      <td>4</td>\n",
       "      <td>1.0</td>\n",
       "      <td>No</td>\n",
       "      <td>4.0</td>\n",
       "      <td>4.0</td>\n",
       "      <td>No</td>\n",
       "      <td>13.0</td>\n",
       "      <td>NaN</td>\n",
       "      <td>Extrovert</td>\n",
       "    </tr>\n",
       "  </tbody>\n",
       "</table>\n",
       "</div>"
      ],
      "text/plain": [
       "   id  Time_spent_Alone Stage_fear  Social_event_attendance  Going_outside  \\\n",
       "0   0               0.0         No                      6.0            4.0   \n",
       "1   1               1.0         No                      7.0            3.0   \n",
       "2   2               6.0        Yes                      1.0            0.0   \n",
       "3   3               3.0         No                      7.0            3.0   \n",
       "4   4               1.0         No                      4.0            4.0   \n",
       "\n",
       "  Drained_after_socializing  Friends_circle_size  Post_frequency Personality  \n",
       "0                        No                 15.0             5.0   Extrovert  \n",
       "1                        No                 10.0             8.0   Extrovert  \n",
       "2                       NaN                  3.0             0.0   Introvert  \n",
       "3                        No                 11.0             5.0   Extrovert  \n",
       "4                        No                 13.0             NaN   Extrovert  "
      ]
     },
     "execution_count": 3,
     "metadata": {},
     "output_type": "execute_result"
    }
   ],
   "source": [
    "df = pd.read_csv(\"../data/train.csv\")\n",
    "df.head()"
   ]
  },
  {
   "cell_type": "code",
   "execution_count": 4,
   "id": "727c7220",
   "metadata": {},
   "outputs": [
    {
     "data": {
      "text/plain": [
       "(18524, 9)"
      ]
     },
     "execution_count": 4,
     "metadata": {},
     "output_type": "execute_result"
    }
   ],
   "source": [
    "df.shape"
   ]
  },
  {
   "cell_type": "code",
   "execution_count": 5,
   "id": "de0d3abc",
   "metadata": {},
   "outputs": [
    {
     "name": "stdout",
     "output_type": "stream",
     "text": [
      "<class 'pandas.core.frame.DataFrame'>\n",
      "RangeIndex: 18524 entries, 0 to 18523\n",
      "Data columns (total 9 columns):\n",
      " #   Column                     Non-Null Count  Dtype  \n",
      "---  ------                     --------------  -----  \n",
      " 0   id                         18524 non-null  int64  \n",
      " 1   Time_spent_Alone           17334 non-null  float64\n",
      " 2   Stage_fear                 16631 non-null  object \n",
      " 3   Social_event_attendance    17344 non-null  float64\n",
      " 4   Going_outside              17058 non-null  float64\n",
      " 5   Drained_after_socializing  17375 non-null  object \n",
      " 6   Friends_circle_size        17470 non-null  float64\n",
      " 7   Post_frequency             17260 non-null  float64\n",
      " 8   Personality                18524 non-null  object \n",
      "dtypes: float64(5), int64(1), object(3)\n",
      "memory usage: 1.3+ MB\n"
     ]
    }
   ],
   "source": [
    "df.info()"
   ]
  },
  {
   "cell_type": "code",
   "execution_count": 6,
   "id": "4cd446b1",
   "metadata": {},
   "outputs": [
    {
     "data": {
      "text/plain": [
       "18524"
      ]
     },
     "execution_count": 6,
     "metadata": {},
     "output_type": "execute_result"
    }
   ],
   "source": [
    "df[\"id\"].unique().size"
   ]
  },
  {
   "cell_type": "markdown",
   "id": "ed32412b",
   "metadata": {},
   "source": [
    "Since the number of data samples and the unique values in \"id\" column is matching, dropping the column."
   ]
  },
  {
   "cell_type": "code",
   "execution_count": 7,
   "id": "60d33dc9",
   "metadata": {},
   "outputs": [],
   "source": [
    "df.drop(columns=[\"id\"], inplace=True)"
   ]
  },
  {
   "cell_type": "code",
   "execution_count": 8,
   "id": "5ca4d999",
   "metadata": {},
   "outputs": [
    {
     "name": "stdout",
     "output_type": "stream",
     "text": [
      "<class 'pandas.core.frame.DataFrame'>\n",
      "RangeIndex: 18524 entries, 0 to 18523\n",
      "Data columns (total 8 columns):\n",
      " #   Column                     Non-Null Count  Dtype  \n",
      "---  ------                     --------------  -----  \n",
      " 0   Time_spent_Alone           17334 non-null  float64\n",
      " 1   Stage_fear                 16631 non-null  object \n",
      " 2   Social_event_attendance    17344 non-null  float64\n",
      " 3   Going_outside              17058 non-null  float64\n",
      " 4   Drained_after_socializing  17375 non-null  object \n",
      " 5   Friends_circle_size        17470 non-null  float64\n",
      " 6   Post_frequency             17260 non-null  float64\n",
      " 7   Personality                18524 non-null  object \n",
      "dtypes: float64(5), object(3)\n",
      "memory usage: 1.1+ MB\n"
     ]
    }
   ],
   "source": [
    "df.info()"
   ]
  },
  {
   "cell_type": "code",
   "execution_count": 9,
   "id": "6987a673",
   "metadata": {},
   "outputs": [
    {
     "data": {
      "application/vnd.microsoft.datawrangler.viewer.v0+json": {
       "columns": [
        {
         "name": "index",
         "rawType": "object",
         "type": "string"
        },
        {
         "name": "Time_spent_Alone",
         "rawType": "float64",
         "type": "float"
        },
        {
         "name": "Social_event_attendance",
         "rawType": "float64",
         "type": "float"
        },
        {
         "name": "Going_outside",
         "rawType": "float64",
         "type": "float"
        },
        {
         "name": "Friends_circle_size",
         "rawType": "float64",
         "type": "float"
        },
        {
         "name": "Post_frequency",
         "rawType": "float64",
         "type": "float"
        }
       ],
       "ref": "75f65e7a-d335-4f24-a893-e0e6e7e512e9",
       "rows": [
        [
         "count",
         "17334.0",
         "17344.0",
         "17058.0",
         "17470.0",
         "17260.0"
        ],
        [
         "mean",
         "3.1377639321564557",
         "5.265106088560886",
         "4.044319380935631",
         "7.996737263880939",
         "4.982097334878332"
        ],
        [
         "std",
         "3.0037863347217413",
         "2.753359060440941",
         "2.0625798113009637",
         "4.223483912812513",
         "2.879138992717586"
        ],
        [
         "min",
         "0.0",
         "0.0",
         "0.0",
         "0.0",
         "0.0"
        ],
        [
         "25%",
         "1.0",
         "3.0",
         "3.0",
         "5.0",
         "3.0"
        ],
        [
         "50%",
         "2.0",
         "5.0",
         "4.0",
         "8.0",
         "5.0"
        ],
        [
         "75%",
         "4.0",
         "8.0",
         "6.0",
         "12.0",
         "7.0"
        ],
        [
         "max",
         "11.0",
         "10.0",
         "7.0",
         "15.0",
         "10.0"
        ]
       ],
       "shape": {
        "columns": 5,
        "rows": 8
       }
      },
      "text/html": [
       "<div>\n",
       "<style scoped>\n",
       "    .dataframe tbody tr th:only-of-type {\n",
       "        vertical-align: middle;\n",
       "    }\n",
       "\n",
       "    .dataframe tbody tr th {\n",
       "        vertical-align: top;\n",
       "    }\n",
       "\n",
       "    .dataframe thead th {\n",
       "        text-align: right;\n",
       "    }\n",
       "</style>\n",
       "<table border=\"1\" class=\"dataframe\">\n",
       "  <thead>\n",
       "    <tr style=\"text-align: right;\">\n",
       "      <th></th>\n",
       "      <th>Time_spent_Alone</th>\n",
       "      <th>Social_event_attendance</th>\n",
       "      <th>Going_outside</th>\n",
       "      <th>Friends_circle_size</th>\n",
       "      <th>Post_frequency</th>\n",
       "    </tr>\n",
       "  </thead>\n",
       "  <tbody>\n",
       "    <tr>\n",
       "      <th>count</th>\n",
       "      <td>17334.000000</td>\n",
       "      <td>17344.000000</td>\n",
       "      <td>17058.000000</td>\n",
       "      <td>17470.000000</td>\n",
       "      <td>17260.000000</td>\n",
       "    </tr>\n",
       "    <tr>\n",
       "      <th>mean</th>\n",
       "      <td>3.137764</td>\n",
       "      <td>5.265106</td>\n",
       "      <td>4.044319</td>\n",
       "      <td>7.996737</td>\n",
       "      <td>4.982097</td>\n",
       "    </tr>\n",
       "    <tr>\n",
       "      <th>std</th>\n",
       "      <td>3.003786</td>\n",
       "      <td>2.753359</td>\n",
       "      <td>2.062580</td>\n",
       "      <td>4.223484</td>\n",
       "      <td>2.879139</td>\n",
       "    </tr>\n",
       "    <tr>\n",
       "      <th>min</th>\n",
       "      <td>0.000000</td>\n",
       "      <td>0.000000</td>\n",
       "      <td>0.000000</td>\n",
       "      <td>0.000000</td>\n",
       "      <td>0.000000</td>\n",
       "    </tr>\n",
       "    <tr>\n",
       "      <th>25%</th>\n",
       "      <td>1.000000</td>\n",
       "      <td>3.000000</td>\n",
       "      <td>3.000000</td>\n",
       "      <td>5.000000</td>\n",
       "      <td>3.000000</td>\n",
       "    </tr>\n",
       "    <tr>\n",
       "      <th>50%</th>\n",
       "      <td>2.000000</td>\n",
       "      <td>5.000000</td>\n",
       "      <td>4.000000</td>\n",
       "      <td>8.000000</td>\n",
       "      <td>5.000000</td>\n",
       "    </tr>\n",
       "    <tr>\n",
       "      <th>75%</th>\n",
       "      <td>4.000000</td>\n",
       "      <td>8.000000</td>\n",
       "      <td>6.000000</td>\n",
       "      <td>12.000000</td>\n",
       "      <td>7.000000</td>\n",
       "    </tr>\n",
       "    <tr>\n",
       "      <th>max</th>\n",
       "      <td>11.000000</td>\n",
       "      <td>10.000000</td>\n",
       "      <td>7.000000</td>\n",
       "      <td>15.000000</td>\n",
       "      <td>10.000000</td>\n",
       "    </tr>\n",
       "  </tbody>\n",
       "</table>\n",
       "</div>"
      ],
      "text/plain": [
       "       Time_spent_Alone  Social_event_attendance  Going_outside  \\\n",
       "count      17334.000000             17344.000000   17058.000000   \n",
       "mean           3.137764                 5.265106       4.044319   \n",
       "std            3.003786                 2.753359       2.062580   \n",
       "min            0.000000                 0.000000       0.000000   \n",
       "25%            1.000000                 3.000000       3.000000   \n",
       "50%            2.000000                 5.000000       4.000000   \n",
       "75%            4.000000                 8.000000       6.000000   \n",
       "max           11.000000                10.000000       7.000000   \n",
       "\n",
       "       Friends_circle_size  Post_frequency  \n",
       "count         17470.000000    17260.000000  \n",
       "mean              7.996737        4.982097  \n",
       "std               4.223484        2.879139  \n",
       "min               0.000000        0.000000  \n",
       "25%               5.000000        3.000000  \n",
       "50%               8.000000        5.000000  \n",
       "75%              12.000000        7.000000  \n",
       "max              15.000000       10.000000  "
      ]
     },
     "execution_count": 9,
     "metadata": {},
     "output_type": "execute_result"
    }
   ],
   "source": [
    "df.describe()"
   ]
  },
  {
   "cell_type": "code",
   "execution_count": 10,
   "id": "92a65fcf",
   "metadata": {},
   "outputs": [
    {
     "data": {
      "application/vnd.microsoft.datawrangler.viewer.v0+json": {
       "columns": [
        {
         "name": "index",
         "rawType": "int64",
         "type": "integer"
        },
        {
         "name": "Time_spent_Alone",
         "rawType": "float64",
         "type": "float"
        },
        {
         "name": "Stage_fear",
         "rawType": "object",
         "type": "string"
        },
        {
         "name": "Social_event_attendance",
         "rawType": "float64",
         "type": "float"
        },
        {
         "name": "Going_outside",
         "rawType": "float64",
         "type": "float"
        },
        {
         "name": "Drained_after_socializing",
         "rawType": "object",
         "type": "unknown"
        },
        {
         "name": "Friends_circle_size",
         "rawType": "float64",
         "type": "float"
        },
        {
         "name": "Post_frequency",
         "rawType": "float64",
         "type": "float"
        },
        {
         "name": "Personality",
         "rawType": "object",
         "type": "string"
        }
       ],
       "ref": "da259c7d-45c3-4ec6-9f7f-5a530a975f94",
       "rows": [
        [
         "0",
         "0.0",
         "No",
         "6.0",
         "4.0",
         "No",
         "15.0",
         "5.0",
         "Extrovert"
        ],
        [
         "1",
         "1.0",
         "No",
         "7.0",
         "3.0",
         "No",
         "10.0",
         "8.0",
         "Extrovert"
        ],
        [
         "2",
         "6.0",
         "Yes",
         "1.0",
         "0.0",
         null,
         "3.0",
         "0.0",
         "Introvert"
        ],
        [
         "3",
         "3.0",
         "No",
         "7.0",
         "3.0",
         "No",
         "11.0",
         "5.0",
         "Extrovert"
        ],
        [
         "4",
         "1.0",
         "No",
         "4.0",
         "4.0",
         "No",
         "13.0",
         null,
         "Extrovert"
        ]
       ],
       "shape": {
        "columns": 8,
        "rows": 5
       }
      },
      "text/html": [
       "<div>\n",
       "<style scoped>\n",
       "    .dataframe tbody tr th:only-of-type {\n",
       "        vertical-align: middle;\n",
       "    }\n",
       "\n",
       "    .dataframe tbody tr th {\n",
       "        vertical-align: top;\n",
       "    }\n",
       "\n",
       "    .dataframe thead th {\n",
       "        text-align: right;\n",
       "    }\n",
       "</style>\n",
       "<table border=\"1\" class=\"dataframe\">\n",
       "  <thead>\n",
       "    <tr style=\"text-align: right;\">\n",
       "      <th></th>\n",
       "      <th>Time_spent_Alone</th>\n",
       "      <th>Stage_fear</th>\n",
       "      <th>Social_event_attendance</th>\n",
       "      <th>Going_outside</th>\n",
       "      <th>Drained_after_socializing</th>\n",
       "      <th>Friends_circle_size</th>\n",
       "      <th>Post_frequency</th>\n",
       "      <th>Personality</th>\n",
       "    </tr>\n",
       "  </thead>\n",
       "  <tbody>\n",
       "    <tr>\n",
       "      <th>0</th>\n",
       "      <td>0.0</td>\n",
       "      <td>No</td>\n",
       "      <td>6.0</td>\n",
       "      <td>4.0</td>\n",
       "      <td>No</td>\n",
       "      <td>15.0</td>\n",
       "      <td>5.0</td>\n",
       "      <td>Extrovert</td>\n",
       "    </tr>\n",
       "    <tr>\n",
       "      <th>1</th>\n",
       "      <td>1.0</td>\n",
       "      <td>No</td>\n",
       "      <td>7.0</td>\n",
       "      <td>3.0</td>\n",
       "      <td>No</td>\n",
       "      <td>10.0</td>\n",
       "      <td>8.0</td>\n",
       "      <td>Extrovert</td>\n",
       "    </tr>\n",
       "    <tr>\n",
       "      <th>2</th>\n",
       "      <td>6.0</td>\n",
       "      <td>Yes</td>\n",
       "      <td>1.0</td>\n",
       "      <td>0.0</td>\n",
       "      <td>NaN</td>\n",
       "      <td>3.0</td>\n",
       "      <td>0.0</td>\n",
       "      <td>Introvert</td>\n",
       "    </tr>\n",
       "    <tr>\n",
       "      <th>3</th>\n",
       "      <td>3.0</td>\n",
       "      <td>No</td>\n",
       "      <td>7.0</td>\n",
       "      <td>3.0</td>\n",
       "      <td>No</td>\n",
       "      <td>11.0</td>\n",
       "      <td>5.0</td>\n",
       "      <td>Extrovert</td>\n",
       "    </tr>\n",
       "    <tr>\n",
       "      <th>4</th>\n",
       "      <td>1.0</td>\n",
       "      <td>No</td>\n",
       "      <td>4.0</td>\n",
       "      <td>4.0</td>\n",
       "      <td>No</td>\n",
       "      <td>13.0</td>\n",
       "      <td>NaN</td>\n",
       "      <td>Extrovert</td>\n",
       "    </tr>\n",
       "  </tbody>\n",
       "</table>\n",
       "</div>"
      ],
      "text/plain": [
       "   Time_spent_Alone Stage_fear  Social_event_attendance  Going_outside  \\\n",
       "0               0.0         No                      6.0            4.0   \n",
       "1               1.0         No                      7.0            3.0   \n",
       "2               6.0        Yes                      1.0            0.0   \n",
       "3               3.0         No                      7.0            3.0   \n",
       "4               1.0         No                      4.0            4.0   \n",
       "\n",
       "  Drained_after_socializing  Friends_circle_size  Post_frequency Personality  \n",
       "0                        No                 15.0             5.0   Extrovert  \n",
       "1                        No                 10.0             8.0   Extrovert  \n",
       "2                       NaN                  3.0             0.0   Introvert  \n",
       "3                        No                 11.0             5.0   Extrovert  \n",
       "4                        No                 13.0             NaN   Extrovert  "
      ]
     },
     "execution_count": 10,
     "metadata": {},
     "output_type": "execute_result"
    }
   ],
   "source": [
    "df.head()"
   ]
  },
  {
   "cell_type": "code",
   "execution_count": 11,
   "id": "5cdc9b71",
   "metadata": {},
   "outputs": [
    {
     "data": {
      "application/vnd.microsoft.datawrangler.viewer.v0+json": {
       "columns": [
        {
         "name": "index",
         "rawType": "object",
         "type": "string"
        },
        {
         "name": "0",
         "rawType": "int64",
         "type": "integer"
        }
       ],
       "ref": "9f26a52a-d4d5-4eb2-a584-64a219f2c181",
       "rows": [
        [
         "Time_spent_Alone",
         "1190"
        ],
        [
         "Stage_fear",
         "1893"
        ],
        [
         "Social_event_attendance",
         "1180"
        ],
        [
         "Going_outside",
         "1466"
        ],
        [
         "Drained_after_socializing",
         "1149"
        ],
        [
         "Friends_circle_size",
         "1054"
        ],
        [
         "Post_frequency",
         "1264"
        ],
        [
         "Personality",
         "0"
        ]
       ],
       "shape": {
        "columns": 1,
        "rows": 8
       }
      },
      "text/plain": [
       "Time_spent_Alone             1190\n",
       "Stage_fear                   1893\n",
       "Social_event_attendance      1180\n",
       "Going_outside                1466\n",
       "Drained_after_socializing    1149\n",
       "Friends_circle_size          1054\n",
       "Post_frequency               1264\n",
       "Personality                     0\n",
       "dtype: int64"
      ]
     },
     "execution_count": 11,
     "metadata": {},
     "output_type": "execute_result"
    }
   ],
   "source": [
    "df.isna().sum()"
   ]
  },
  {
   "cell_type": "code",
   "execution_count": 12,
   "id": "ecf32559",
   "metadata": {},
   "outputs": [],
   "source": [
    "# df.dropna(inplace=True)"
   ]
  },
  {
   "cell_type": "code",
   "execution_count": 13,
   "id": "5d5e4b89",
   "metadata": {},
   "outputs": [
    {
     "data": {
      "application/vnd.microsoft.datawrangler.viewer.v0+json": {
       "columns": [
        {
         "name": "index",
         "rawType": "int64",
         "type": "integer"
        },
        {
         "name": "Time_spent_Alone",
         "rawType": "float64",
         "type": "float"
        },
        {
         "name": "Stage_fear",
         "rawType": "object",
         "type": "string"
        },
        {
         "name": "Social_event_attendance",
         "rawType": "float64",
         "type": "float"
        },
        {
         "name": "Going_outside",
         "rawType": "float64",
         "type": "float"
        },
        {
         "name": "Drained_after_socializing",
         "rawType": "object",
         "type": "unknown"
        },
        {
         "name": "Friends_circle_size",
         "rawType": "float64",
         "type": "float"
        },
        {
         "name": "Post_frequency",
         "rawType": "float64",
         "type": "float"
        },
        {
         "name": "Personality",
         "rawType": "object",
         "type": "string"
        }
       ],
       "ref": "493cd737-fc50-4094-bb5f-328758948e6a",
       "rows": [
        [
         "0",
         "0.0",
         "No",
         "6.0",
         "4.0",
         "No",
         "15.0",
         "5.0",
         "Extrovert"
        ],
        [
         "1",
         "1.0",
         "No",
         "7.0",
         "3.0",
         "No",
         "10.0",
         "8.0",
         "Extrovert"
        ],
        [
         "2",
         "6.0",
         "Yes",
         "1.0",
         "0.0",
         null,
         "3.0",
         "0.0",
         "Introvert"
        ],
        [
         "3",
         "3.0",
         "No",
         "7.0",
         "3.0",
         "No",
         "11.0",
         "5.0",
         "Extrovert"
        ],
        [
         "4",
         "1.0",
         "No",
         "4.0",
         "4.0",
         "No",
         "13.0",
         null,
         "Extrovert"
        ]
       ],
       "shape": {
        "columns": 8,
        "rows": 5
       }
      },
      "text/html": [
       "<div>\n",
       "<style scoped>\n",
       "    .dataframe tbody tr th:only-of-type {\n",
       "        vertical-align: middle;\n",
       "    }\n",
       "\n",
       "    .dataframe tbody tr th {\n",
       "        vertical-align: top;\n",
       "    }\n",
       "\n",
       "    .dataframe thead th {\n",
       "        text-align: right;\n",
       "    }\n",
       "</style>\n",
       "<table border=\"1\" class=\"dataframe\">\n",
       "  <thead>\n",
       "    <tr style=\"text-align: right;\">\n",
       "      <th></th>\n",
       "      <th>Time_spent_Alone</th>\n",
       "      <th>Stage_fear</th>\n",
       "      <th>Social_event_attendance</th>\n",
       "      <th>Going_outside</th>\n",
       "      <th>Drained_after_socializing</th>\n",
       "      <th>Friends_circle_size</th>\n",
       "      <th>Post_frequency</th>\n",
       "      <th>Personality</th>\n",
       "    </tr>\n",
       "  </thead>\n",
       "  <tbody>\n",
       "    <tr>\n",
       "      <th>0</th>\n",
       "      <td>0.0</td>\n",
       "      <td>No</td>\n",
       "      <td>6.0</td>\n",
       "      <td>4.0</td>\n",
       "      <td>No</td>\n",
       "      <td>15.0</td>\n",
       "      <td>5.0</td>\n",
       "      <td>Extrovert</td>\n",
       "    </tr>\n",
       "    <tr>\n",
       "      <th>1</th>\n",
       "      <td>1.0</td>\n",
       "      <td>No</td>\n",
       "      <td>7.0</td>\n",
       "      <td>3.0</td>\n",
       "      <td>No</td>\n",
       "      <td>10.0</td>\n",
       "      <td>8.0</td>\n",
       "      <td>Extrovert</td>\n",
       "    </tr>\n",
       "    <tr>\n",
       "      <th>2</th>\n",
       "      <td>6.0</td>\n",
       "      <td>Yes</td>\n",
       "      <td>1.0</td>\n",
       "      <td>0.0</td>\n",
       "      <td>NaN</td>\n",
       "      <td>3.0</td>\n",
       "      <td>0.0</td>\n",
       "      <td>Introvert</td>\n",
       "    </tr>\n",
       "    <tr>\n",
       "      <th>3</th>\n",
       "      <td>3.0</td>\n",
       "      <td>No</td>\n",
       "      <td>7.0</td>\n",
       "      <td>3.0</td>\n",
       "      <td>No</td>\n",
       "      <td>11.0</td>\n",
       "      <td>5.0</td>\n",
       "      <td>Extrovert</td>\n",
       "    </tr>\n",
       "    <tr>\n",
       "      <th>4</th>\n",
       "      <td>1.0</td>\n",
       "      <td>No</td>\n",
       "      <td>4.0</td>\n",
       "      <td>4.0</td>\n",
       "      <td>No</td>\n",
       "      <td>13.0</td>\n",
       "      <td>NaN</td>\n",
       "      <td>Extrovert</td>\n",
       "    </tr>\n",
       "  </tbody>\n",
       "</table>\n",
       "</div>"
      ],
      "text/plain": [
       "   Time_spent_Alone Stage_fear  Social_event_attendance  Going_outside  \\\n",
       "0               0.0         No                      6.0            4.0   \n",
       "1               1.0         No                      7.0            3.0   \n",
       "2               6.0        Yes                      1.0            0.0   \n",
       "3               3.0         No                      7.0            3.0   \n",
       "4               1.0         No                      4.0            4.0   \n",
       "\n",
       "  Drained_after_socializing  Friends_circle_size  Post_frequency Personality  \n",
       "0                        No                 15.0             5.0   Extrovert  \n",
       "1                        No                 10.0             8.0   Extrovert  \n",
       "2                       NaN                  3.0             0.0   Introvert  \n",
       "3                        No                 11.0             5.0   Extrovert  \n",
       "4                        No                 13.0             NaN   Extrovert  "
      ]
     },
     "execution_count": 13,
     "metadata": {},
     "output_type": "execute_result"
    }
   ],
   "source": [
    "df.head()"
   ]
  },
  {
   "cell_type": "code",
   "execution_count": 14,
   "id": "abbc01b1",
   "metadata": {},
   "outputs": [],
   "source": [
    "df[\"Personality\"] = df[\"Personality\"].map({\"Introvert\": 0, \"Extrovert\": 1})"
   ]
  },
  {
   "cell_type": "code",
   "execution_count": 15,
   "id": "acddb90c",
   "metadata": {},
   "outputs": [
    {
     "data": {
      "application/vnd.microsoft.datawrangler.viewer.v0+json": {
       "columns": [
        {
         "name": "index",
         "rawType": "int64",
         "type": "integer"
        },
        {
         "name": "Time_spent_Alone",
         "rawType": "float64",
         "type": "float"
        },
        {
         "name": "Stage_fear",
         "rawType": "object",
         "type": "string"
        },
        {
         "name": "Social_event_attendance",
         "rawType": "float64",
         "type": "float"
        },
        {
         "name": "Going_outside",
         "rawType": "float64",
         "type": "float"
        },
        {
         "name": "Drained_after_socializing",
         "rawType": "object",
         "type": "unknown"
        },
        {
         "name": "Friends_circle_size",
         "rawType": "float64",
         "type": "float"
        },
        {
         "name": "Post_frequency",
         "rawType": "float64",
         "type": "float"
        },
        {
         "name": "Personality",
         "rawType": "int64",
         "type": "integer"
        }
       ],
       "ref": "3e02c2b6-3c50-4fae-b225-f4503892ffb8",
       "rows": [
        [
         "0",
         "0.0",
         "No",
         "6.0",
         "4.0",
         "No",
         "15.0",
         "5.0",
         "1"
        ],
        [
         "1",
         "1.0",
         "No",
         "7.0",
         "3.0",
         "No",
         "10.0",
         "8.0",
         "1"
        ],
        [
         "2",
         "6.0",
         "Yes",
         "1.0",
         "0.0",
         null,
         "3.0",
         "0.0",
         "0"
        ],
        [
         "3",
         "3.0",
         "No",
         "7.0",
         "3.0",
         "No",
         "11.0",
         "5.0",
         "1"
        ],
        [
         "4",
         "1.0",
         "No",
         "4.0",
         "4.0",
         "No",
         "13.0",
         null,
         "1"
        ]
       ],
       "shape": {
        "columns": 8,
        "rows": 5
       }
      },
      "text/html": [
       "<div>\n",
       "<style scoped>\n",
       "    .dataframe tbody tr th:only-of-type {\n",
       "        vertical-align: middle;\n",
       "    }\n",
       "\n",
       "    .dataframe tbody tr th {\n",
       "        vertical-align: top;\n",
       "    }\n",
       "\n",
       "    .dataframe thead th {\n",
       "        text-align: right;\n",
       "    }\n",
       "</style>\n",
       "<table border=\"1\" class=\"dataframe\">\n",
       "  <thead>\n",
       "    <tr style=\"text-align: right;\">\n",
       "      <th></th>\n",
       "      <th>Time_spent_Alone</th>\n",
       "      <th>Stage_fear</th>\n",
       "      <th>Social_event_attendance</th>\n",
       "      <th>Going_outside</th>\n",
       "      <th>Drained_after_socializing</th>\n",
       "      <th>Friends_circle_size</th>\n",
       "      <th>Post_frequency</th>\n",
       "      <th>Personality</th>\n",
       "    </tr>\n",
       "  </thead>\n",
       "  <tbody>\n",
       "    <tr>\n",
       "      <th>0</th>\n",
       "      <td>0.0</td>\n",
       "      <td>No</td>\n",
       "      <td>6.0</td>\n",
       "      <td>4.0</td>\n",
       "      <td>No</td>\n",
       "      <td>15.0</td>\n",
       "      <td>5.0</td>\n",
       "      <td>1</td>\n",
       "    </tr>\n",
       "    <tr>\n",
       "      <th>1</th>\n",
       "      <td>1.0</td>\n",
       "      <td>No</td>\n",
       "      <td>7.0</td>\n",
       "      <td>3.0</td>\n",
       "      <td>No</td>\n",
       "      <td>10.0</td>\n",
       "      <td>8.0</td>\n",
       "      <td>1</td>\n",
       "    </tr>\n",
       "    <tr>\n",
       "      <th>2</th>\n",
       "      <td>6.0</td>\n",
       "      <td>Yes</td>\n",
       "      <td>1.0</td>\n",
       "      <td>0.0</td>\n",
       "      <td>NaN</td>\n",
       "      <td>3.0</td>\n",
       "      <td>0.0</td>\n",
       "      <td>0</td>\n",
       "    </tr>\n",
       "    <tr>\n",
       "      <th>3</th>\n",
       "      <td>3.0</td>\n",
       "      <td>No</td>\n",
       "      <td>7.0</td>\n",
       "      <td>3.0</td>\n",
       "      <td>No</td>\n",
       "      <td>11.0</td>\n",
       "      <td>5.0</td>\n",
       "      <td>1</td>\n",
       "    </tr>\n",
       "    <tr>\n",
       "      <th>4</th>\n",
       "      <td>1.0</td>\n",
       "      <td>No</td>\n",
       "      <td>4.0</td>\n",
       "      <td>4.0</td>\n",
       "      <td>No</td>\n",
       "      <td>13.0</td>\n",
       "      <td>NaN</td>\n",
       "      <td>1</td>\n",
       "    </tr>\n",
       "  </tbody>\n",
       "</table>\n",
       "</div>"
      ],
      "text/plain": [
       "   Time_spent_Alone Stage_fear  Social_event_attendance  Going_outside  \\\n",
       "0               0.0         No                      6.0            4.0   \n",
       "1               1.0         No                      7.0            3.0   \n",
       "2               6.0        Yes                      1.0            0.0   \n",
       "3               3.0         No                      7.0            3.0   \n",
       "4               1.0         No                      4.0            4.0   \n",
       "\n",
       "  Drained_after_socializing  Friends_circle_size  Post_frequency  Personality  \n",
       "0                        No                 15.0             5.0            1  \n",
       "1                        No                 10.0             8.0            1  \n",
       "2                       NaN                  3.0             0.0            0  \n",
       "3                        No                 11.0             5.0            1  \n",
       "4                        No                 13.0             NaN            1  "
      ]
     },
     "execution_count": 15,
     "metadata": {},
     "output_type": "execute_result"
    }
   ],
   "source": [
    "df.head()"
   ]
  },
  {
   "cell_type": "code",
   "execution_count": 16,
   "id": "0f683fbd",
   "metadata": {},
   "outputs": [
    {
     "data": {
      "application/vnd.microsoft.datawrangler.viewer.v0+json": {
       "columns": [
        {
         "name": "index",
         "rawType": "int64",
         "type": "integer"
        },
        {
         "name": "Time_spent_Alone",
         "rawType": "float64",
         "type": "float"
        },
        {
         "name": "Social_event_attendance",
         "rawType": "float64",
         "type": "float"
        },
        {
         "name": "Going_outside",
         "rawType": "float64",
         "type": "float"
        },
        {
         "name": "Friends_circle_size",
         "rawType": "float64",
         "type": "float"
        },
        {
         "name": "Post_frequency",
         "rawType": "float64",
         "type": "float"
        },
        {
         "name": "Personality",
         "rawType": "int64",
         "type": "integer"
        },
        {
         "name": "Stage_fear_No",
         "rawType": "bool",
         "type": "boolean"
        },
        {
         "name": "Stage_fear_Yes",
         "rawType": "bool",
         "type": "boolean"
        },
        {
         "name": "Drained_after_socializing_No",
         "rawType": "bool",
         "type": "boolean"
        },
        {
         "name": "Drained_after_socializing_Yes",
         "rawType": "bool",
         "type": "boolean"
        }
       ],
       "ref": "35cf373e-9e78-40bc-9f6b-d580a04b4e80",
       "rows": [
        [
         "0",
         "0.0",
         "6.0",
         "4.0",
         "15.0",
         "5.0",
         "1",
         "True",
         "False",
         "True",
         "False"
        ],
        [
         "1",
         "1.0",
         "7.0",
         "3.0",
         "10.0",
         "8.0",
         "1",
         "True",
         "False",
         "True",
         "False"
        ],
        [
         "2",
         "6.0",
         "1.0",
         "0.0",
         "3.0",
         "0.0",
         "0",
         "False",
         "True",
         "False",
         "False"
        ],
        [
         "3",
         "3.0",
         "7.0",
         "3.0",
         "11.0",
         "5.0",
         "1",
         "True",
         "False",
         "True",
         "False"
        ],
        [
         "4",
         "1.0",
         "4.0",
         "4.0",
         "13.0",
         null,
         "1",
         "True",
         "False",
         "True",
         "False"
        ],
        [
         "5",
         "2.0",
         "8.0",
         "5.0",
         null,
         "3.0",
         "1",
         "True",
         "False",
         "True",
         "False"
        ],
        [
         "6",
         "1.0",
         "8.0",
         null,
         null,
         "4.0",
         "1",
         "True",
         "False",
         "True",
         "False"
        ],
        [
         "7",
         "2.0",
         "8.0",
         "3.0",
         "4.0",
         "5.0",
         "1",
         "True",
         "False",
         "True",
         "False"
        ],
        [
         "8",
         "4.0",
         "2.0",
         "1.0",
         "0.0",
         "2.0",
         "0",
         "False",
         "True",
         "False",
         "False"
        ],
        [
         "9",
         "1.0",
         "8.0",
         "6.0",
         "14.0",
         "9.0",
         "1",
         "True",
         "False",
         "True",
         "False"
        ],
        [
         "10",
         "3.0",
         "7.0",
         "4.0",
         "5.0",
         "10.0",
         "1",
         "True",
         "False",
         "True",
         "False"
        ],
        [
         "11",
         "2.0",
         "6.0",
         "3.0",
         "4.0",
         "8.0",
         "1",
         "True",
         "False",
         "True",
         "False"
        ],
        [
         "12",
         "3.0",
         "5.0",
         "4.0",
         "9.0",
         "6.0",
         "1",
         "True",
         "False",
         "True",
         "False"
        ],
        [
         "13",
         "3.0",
         null,
         "5.0",
         "12.0",
         "5.0",
         "1",
         "False",
         "False",
         "True",
         "False"
        ],
        [
         "14",
         "3.0",
         "6.0",
         "4.0",
         "9.0",
         null,
         "1",
         "True",
         "False",
         "True",
         "False"
        ],
        [
         "15",
         null,
         "7.0",
         "6.0",
         "5.0",
         "8.0",
         "1",
         "True",
         "False",
         "True",
         "False"
        ],
        [
         "16",
         "0.0",
         "6.0",
         "4.0",
         "8.0",
         "10.0",
         "1",
         "True",
         "False",
         "True",
         "False"
        ],
        [
         "17",
         "5.0",
         "0.0",
         "4.0",
         "2.0",
         "0.0",
         "0",
         "False",
         "False",
         "False",
         "True"
        ],
        [
         "18",
         "1.0",
         "4.0",
         "4.0",
         "11.0",
         "9.0",
         "1",
         "True",
         "False",
         "True",
         "False"
        ],
        [
         "19",
         "1.0",
         null,
         "5.0",
         "10.0",
         "3.0",
         "1",
         "True",
         "False",
         "True",
         "False"
        ],
        [
         "20",
         "1.0",
         "9.0",
         "3.0",
         "10.0",
         "7.0",
         "1",
         "True",
         "False",
         "True",
         "False"
        ],
        [
         "21",
         "6.0",
         "3.0",
         "2.0",
         "1.0",
         "3.0",
         "0",
         "False",
         "True",
         "False",
         "True"
        ],
        [
         "22",
         "4.0",
         "0.0",
         "1.0",
         "2.0",
         "0.0",
         "0",
         "False",
         "False",
         "False",
         "True"
        ],
        [
         "23",
         "3.0",
         "9.0",
         "7.0",
         "6.0",
         "3.0",
         "1",
         "True",
         "False",
         "True",
         "False"
        ],
        [
         "24",
         "1.0",
         "5.0",
         "3.0",
         "12.0",
         "5.0",
         "1",
         "True",
         "False",
         "True",
         "False"
        ],
        [
         "25",
         "9.0",
         "1.0",
         "3.0",
         "7.0",
         "5.0",
         "0",
         "False",
         "True",
         "False",
         "True"
        ],
        [
         "26",
         "3.0",
         "6.0",
         "5.0",
         "10.0",
         "9.0",
         "1",
         "False",
         "False",
         "True",
         "False"
        ],
        [
         "27",
         "9.0",
         "0.0",
         "0.0",
         "1.0",
         "1.0",
         "0",
         "False",
         "False",
         "False",
         "True"
        ],
        [
         "28",
         "2.0",
         null,
         "4.0",
         "5.0",
         "8.0",
         "1",
         "True",
         "False",
         "True",
         "False"
        ],
        [
         "29",
         null,
         "1.0",
         "0.0",
         "4.0",
         "0.0",
         "0",
         "False",
         "True",
         "False",
         "True"
        ],
        [
         "30",
         "3.0",
         "9.0",
         "0.0",
         "8.0",
         "5.0",
         "1",
         "True",
         "False",
         "True",
         "False"
        ],
        [
         "31",
         null,
         "4.0",
         null,
         "11.0",
         "5.0",
         "1",
         "True",
         "False",
         "True",
         "False"
        ],
        [
         "32",
         "1.0",
         "9.0",
         "5.0",
         "4.0",
         "8.0",
         "1",
         "True",
         "False",
         "True",
         "False"
        ],
        [
         "33",
         "2.0",
         "7.0",
         "5.0",
         "11.0",
         "9.0",
         "1",
         "True",
         "False",
         "True",
         "False"
        ],
        [
         "34",
         "5.0",
         "1.0",
         "0.0",
         "3.0",
         "2.0",
         "0",
         "False",
         "True",
         "False",
         "False"
        ],
        [
         "35",
         "6.0",
         "2.0",
         "3.0",
         "1.0",
         "3.0",
         "0",
         "False",
         "True",
         "False",
         "True"
        ],
        [
         "36",
         "3.0",
         "6.0",
         "3.0",
         "7.0",
         null,
         "1",
         "True",
         "False",
         "True",
         "False"
        ],
        [
         "37",
         "2.0",
         "7.0",
         "4.0",
         "5.0",
         "3.0",
         "1",
         "True",
         "False",
         "True",
         "False"
        ],
        [
         "38",
         "2.0",
         "8.0",
         "3.0",
         "13.0",
         "6.0",
         "1",
         "True",
         "False",
         "True",
         "False"
        ],
        [
         "39",
         "0.0",
         "5.0",
         "4.0",
         "11.0",
         "4.0",
         "1",
         "True",
         "False",
         "True",
         "False"
        ],
        [
         "40",
         "0.0",
         "8.0",
         "3.0",
         "10.0",
         "4.0",
         "1",
         "True",
         "False",
         "True",
         "False"
        ],
        [
         "41",
         null,
         "6.0",
         "5.0",
         "14.0",
         "3.0",
         "1",
         "True",
         "False",
         "True",
         "False"
        ],
        [
         "42",
         "2.0",
         "6.0",
         "6.0",
         "5.0",
         "6.0",
         "1",
         "True",
         "False",
         "True",
         "False"
        ],
        [
         "43",
         "0.0",
         "9.0",
         "4.0",
         "11.0",
         "5.0",
         "1",
         "True",
         "False",
         "False",
         "False"
        ],
        [
         "44",
         "9.0",
         "1.0",
         "0.0",
         "3.0",
         "0.0",
         "0",
         "False",
         "True",
         "False",
         "True"
        ],
        [
         "45",
         "2.0",
         "6.0",
         null,
         "11.0",
         "4.0",
         "1",
         "True",
         "False",
         "True",
         "False"
        ],
        [
         "46",
         "2.0",
         "7.0",
         "3.0",
         "12.0",
         "6.0",
         "1",
         "True",
         "False",
         "True",
         "False"
        ],
        [
         "47",
         "0.0",
         "4.0",
         "7.0",
         "14.0",
         "3.0",
         "1",
         "True",
         "False",
         "True",
         "False"
        ],
        [
         "48",
         "10.0",
         "1.0",
         null,
         "5.0",
         "1.0",
         "0",
         "False",
         "True",
         "False",
         "True"
        ],
        [
         "49",
         "2.0",
         "9.0",
         "7.0",
         "6.0",
         "4.0",
         "1",
         "True",
         "False",
         "True",
         "False"
        ]
       ],
       "shape": {
        "columns": 10,
        "rows": 18524
       }
      },
      "text/html": [
       "<div>\n",
       "<style scoped>\n",
       "    .dataframe tbody tr th:only-of-type {\n",
       "        vertical-align: middle;\n",
       "    }\n",
       "\n",
       "    .dataframe tbody tr th {\n",
       "        vertical-align: top;\n",
       "    }\n",
       "\n",
       "    .dataframe thead th {\n",
       "        text-align: right;\n",
       "    }\n",
       "</style>\n",
       "<table border=\"1\" class=\"dataframe\">\n",
       "  <thead>\n",
       "    <tr style=\"text-align: right;\">\n",
       "      <th></th>\n",
       "      <th>Time_spent_Alone</th>\n",
       "      <th>Social_event_attendance</th>\n",
       "      <th>Going_outside</th>\n",
       "      <th>Friends_circle_size</th>\n",
       "      <th>Post_frequency</th>\n",
       "      <th>Personality</th>\n",
       "      <th>Stage_fear_No</th>\n",
       "      <th>Stage_fear_Yes</th>\n",
       "      <th>Drained_after_socializing_No</th>\n",
       "      <th>Drained_after_socializing_Yes</th>\n",
       "    </tr>\n",
       "  </thead>\n",
       "  <tbody>\n",
       "    <tr>\n",
       "      <th>0</th>\n",
       "      <td>0.0</td>\n",
       "      <td>6.0</td>\n",
       "      <td>4.0</td>\n",
       "      <td>15.0</td>\n",
       "      <td>5.0</td>\n",
       "      <td>1</td>\n",
       "      <td>True</td>\n",
       "      <td>False</td>\n",
       "      <td>True</td>\n",
       "      <td>False</td>\n",
       "    </tr>\n",
       "    <tr>\n",
       "      <th>1</th>\n",
       "      <td>1.0</td>\n",
       "      <td>7.0</td>\n",
       "      <td>3.0</td>\n",
       "      <td>10.0</td>\n",
       "      <td>8.0</td>\n",
       "      <td>1</td>\n",
       "      <td>True</td>\n",
       "      <td>False</td>\n",
       "      <td>True</td>\n",
       "      <td>False</td>\n",
       "    </tr>\n",
       "    <tr>\n",
       "      <th>2</th>\n",
       "      <td>6.0</td>\n",
       "      <td>1.0</td>\n",
       "      <td>0.0</td>\n",
       "      <td>3.0</td>\n",
       "      <td>0.0</td>\n",
       "      <td>0</td>\n",
       "      <td>False</td>\n",
       "      <td>True</td>\n",
       "      <td>False</td>\n",
       "      <td>False</td>\n",
       "    </tr>\n",
       "    <tr>\n",
       "      <th>3</th>\n",
       "      <td>3.0</td>\n",
       "      <td>7.0</td>\n",
       "      <td>3.0</td>\n",
       "      <td>11.0</td>\n",
       "      <td>5.0</td>\n",
       "      <td>1</td>\n",
       "      <td>True</td>\n",
       "      <td>False</td>\n",
       "      <td>True</td>\n",
       "      <td>False</td>\n",
       "    </tr>\n",
       "    <tr>\n",
       "      <th>4</th>\n",
       "      <td>1.0</td>\n",
       "      <td>4.0</td>\n",
       "      <td>4.0</td>\n",
       "      <td>13.0</td>\n",
       "      <td>NaN</td>\n",
       "      <td>1</td>\n",
       "      <td>True</td>\n",
       "      <td>False</td>\n",
       "      <td>True</td>\n",
       "      <td>False</td>\n",
       "    </tr>\n",
       "    <tr>\n",
       "      <th>...</th>\n",
       "      <td>...</td>\n",
       "      <td>...</td>\n",
       "      <td>...</td>\n",
       "      <td>...</td>\n",
       "      <td>...</td>\n",
       "      <td>...</td>\n",
       "      <td>...</td>\n",
       "      <td>...</td>\n",
       "      <td>...</td>\n",
       "      <td>...</td>\n",
       "    </tr>\n",
       "    <tr>\n",
       "      <th>18519</th>\n",
       "      <td>3.0</td>\n",
       "      <td>7.0</td>\n",
       "      <td>3.0</td>\n",
       "      <td>9.0</td>\n",
       "      <td>7.0</td>\n",
       "      <td>1</td>\n",
       "      <td>True</td>\n",
       "      <td>False</td>\n",
       "      <td>True</td>\n",
       "      <td>False</td>\n",
       "    </tr>\n",
       "    <tr>\n",
       "      <th>18520</th>\n",
       "      <td>1.0</td>\n",
       "      <td>6.0</td>\n",
       "      <td>7.0</td>\n",
       "      <td>6.0</td>\n",
       "      <td>5.0</td>\n",
       "      <td>1</td>\n",
       "      <td>False</td>\n",
       "      <td>False</td>\n",
       "      <td>True</td>\n",
       "      <td>False</td>\n",
       "    </tr>\n",
       "    <tr>\n",
       "      <th>18521</th>\n",
       "      <td>7.0</td>\n",
       "      <td>1.0</td>\n",
       "      <td>1.0</td>\n",
       "      <td>1.0</td>\n",
       "      <td>NaN</td>\n",
       "      <td>0</td>\n",
       "      <td>False</td>\n",
       "      <td>True</td>\n",
       "      <td>False</td>\n",
       "      <td>True</td>\n",
       "    </tr>\n",
       "    <tr>\n",
       "      <th>18522</th>\n",
       "      <td>NaN</td>\n",
       "      <td>1.0</td>\n",
       "      <td>0.0</td>\n",
       "      <td>5.0</td>\n",
       "      <td>2.0</td>\n",
       "      <td>0</td>\n",
       "      <td>False</td>\n",
       "      <td>True</td>\n",
       "      <td>False</td>\n",
       "      <td>True</td>\n",
       "    </tr>\n",
       "    <tr>\n",
       "      <th>18523</th>\n",
       "      <td>1.0</td>\n",
       "      <td>8.0</td>\n",
       "      <td>6.0</td>\n",
       "      <td>4.0</td>\n",
       "      <td>7.0</td>\n",
       "      <td>1</td>\n",
       "      <td>True</td>\n",
       "      <td>False</td>\n",
       "      <td>True</td>\n",
       "      <td>False</td>\n",
       "    </tr>\n",
       "  </tbody>\n",
       "</table>\n",
       "<p>18524 rows × 10 columns</p>\n",
       "</div>"
      ],
      "text/plain": [
       "       Time_spent_Alone  Social_event_attendance  Going_outside  \\\n",
       "0                   0.0                      6.0            4.0   \n",
       "1                   1.0                      7.0            3.0   \n",
       "2                   6.0                      1.0            0.0   \n",
       "3                   3.0                      7.0            3.0   \n",
       "4                   1.0                      4.0            4.0   \n",
       "...                 ...                      ...            ...   \n",
       "18519               3.0                      7.0            3.0   \n",
       "18520               1.0                      6.0            7.0   \n",
       "18521               7.0                      1.0            1.0   \n",
       "18522               NaN                      1.0            0.0   \n",
       "18523               1.0                      8.0            6.0   \n",
       "\n",
       "       Friends_circle_size  Post_frequency  Personality  Stage_fear_No  \\\n",
       "0                     15.0             5.0            1           True   \n",
       "1                     10.0             8.0            1           True   \n",
       "2                      3.0             0.0            0          False   \n",
       "3                     11.0             5.0            1           True   \n",
       "4                     13.0             NaN            1           True   \n",
       "...                    ...             ...          ...            ...   \n",
       "18519                  9.0             7.0            1           True   \n",
       "18520                  6.0             5.0            1          False   \n",
       "18521                  1.0             NaN            0          False   \n",
       "18522                  5.0             2.0            0          False   \n",
       "18523                  4.0             7.0            1           True   \n",
       "\n",
       "       Stage_fear_Yes  Drained_after_socializing_No  \\\n",
       "0               False                          True   \n",
       "1               False                          True   \n",
       "2                True                         False   \n",
       "3               False                          True   \n",
       "4               False                          True   \n",
       "...               ...                           ...   \n",
       "18519           False                          True   \n",
       "18520           False                          True   \n",
       "18521            True                         False   \n",
       "18522            True                         False   \n",
       "18523           False                          True   \n",
       "\n",
       "       Drained_after_socializing_Yes  \n",
       "0                              False  \n",
       "1                              False  \n",
       "2                              False  \n",
       "3                              False  \n",
       "4                              False  \n",
       "...                              ...  \n",
       "18519                          False  \n",
       "18520                          False  \n",
       "18521                           True  \n",
       "18522                           True  \n",
       "18523                          False  \n",
       "\n",
       "[18524 rows x 10 columns]"
      ]
     },
     "execution_count": 16,
     "metadata": {},
     "output_type": "execute_result"
    }
   ],
   "source": [
    "pd.get_dummies(df)"
   ]
  },
  {
   "cell_type": "code",
   "execution_count": 17,
   "id": "fd44acbf",
   "metadata": {},
   "outputs": [],
   "source": [
    "X = df.drop(columns=[\"Personality\"])"
   ]
  },
  {
   "cell_type": "code",
   "execution_count": 18,
   "id": "ff961c1e",
   "metadata": {},
   "outputs": [],
   "source": [
    "y = df[\"Personality\"]"
   ]
  },
  {
   "cell_type": "code",
   "execution_count": 19,
   "id": "d9eacb4d",
   "metadata": {},
   "outputs": [
    {
     "data": {
      "application/vnd.microsoft.datawrangler.viewer.v0+json": {
       "columns": [
        {
         "name": "index",
         "rawType": "int64",
         "type": "integer"
        },
        {
         "name": "Time_spent_Alone",
         "rawType": "float64",
         "type": "float"
        },
        {
         "name": "Stage_fear",
         "rawType": "object",
         "type": "unknown"
        },
        {
         "name": "Social_event_attendance",
         "rawType": "float64",
         "type": "float"
        },
        {
         "name": "Going_outside",
         "rawType": "float64",
         "type": "float"
        },
        {
         "name": "Drained_after_socializing",
         "rawType": "object",
         "type": "unknown"
        },
        {
         "name": "Friends_circle_size",
         "rawType": "float64",
         "type": "float"
        },
        {
         "name": "Post_frequency",
         "rawType": "float64",
         "type": "float"
        }
       ],
       "ref": "fdfcf537-0380-47ef-844e-3d3be7be629c",
       "rows": [
        [
         "0",
         "0.0",
         "No",
         "6.0",
         "4.0",
         "No",
         "15.0",
         "5.0"
        ],
        [
         "1",
         "1.0",
         "No",
         "7.0",
         "3.0",
         "No",
         "10.0",
         "8.0"
        ],
        [
         "2",
         "6.0",
         "Yes",
         "1.0",
         "0.0",
         null,
         "3.0",
         "0.0"
        ],
        [
         "3",
         "3.0",
         "No",
         "7.0",
         "3.0",
         "No",
         "11.0",
         "5.0"
        ],
        [
         "4",
         "1.0",
         "No",
         "4.0",
         "4.0",
         "No",
         "13.0",
         null
        ],
        [
         "5",
         "2.0",
         "No",
         "8.0",
         "5.0",
         "No",
         null,
         "3.0"
        ],
        [
         "6",
         "1.0",
         "No",
         "8.0",
         null,
         "No",
         null,
         "4.0"
        ],
        [
         "7",
         "2.0",
         "No",
         "8.0",
         "3.0",
         "No",
         "4.0",
         "5.0"
        ],
        [
         "8",
         "4.0",
         "Yes",
         "2.0",
         "1.0",
         null,
         "0.0",
         "2.0"
        ],
        [
         "9",
         "1.0",
         "No",
         "8.0",
         "6.0",
         "No",
         "14.0",
         "9.0"
        ],
        [
         "10",
         "3.0",
         "No",
         "7.0",
         "4.0",
         "No",
         "5.0",
         "10.0"
        ],
        [
         "11",
         "2.0",
         "No",
         "6.0",
         "3.0",
         "No",
         "4.0",
         "8.0"
        ],
        [
         "12",
         "3.0",
         "No",
         "5.0",
         "4.0",
         "No",
         "9.0",
         "6.0"
        ],
        [
         "13",
         "3.0",
         null,
         null,
         "5.0",
         "No",
         "12.0",
         "5.0"
        ],
        [
         "14",
         "3.0",
         "No",
         "6.0",
         "4.0",
         "No",
         "9.0",
         null
        ],
        [
         "15",
         null,
         "No",
         "7.0",
         "6.0",
         "No",
         "5.0",
         "8.0"
        ],
        [
         "16",
         "0.0",
         "No",
         "6.0",
         "4.0",
         "No",
         "8.0",
         "10.0"
        ],
        [
         "17",
         "5.0",
         null,
         "0.0",
         "4.0",
         "Yes",
         "2.0",
         "0.0"
        ],
        [
         "18",
         "1.0",
         "No",
         "4.0",
         "4.0",
         "No",
         "11.0",
         "9.0"
        ],
        [
         "19",
         "1.0",
         "No",
         null,
         "5.0",
         "No",
         "10.0",
         "3.0"
        ],
        [
         "20",
         "1.0",
         "No",
         "9.0",
         "3.0",
         "No",
         "10.0",
         "7.0"
        ],
        [
         "21",
         "6.0",
         "Yes",
         "3.0",
         "2.0",
         "Yes",
         "1.0",
         "3.0"
        ],
        [
         "22",
         "4.0",
         null,
         "0.0",
         "1.0",
         "Yes",
         "2.0",
         "0.0"
        ],
        [
         "23",
         "3.0",
         "No",
         "9.0",
         "7.0",
         "No",
         "6.0",
         "3.0"
        ],
        [
         "24",
         "1.0",
         "No",
         "5.0",
         "3.0",
         "No",
         "12.0",
         "5.0"
        ],
        [
         "25",
         "9.0",
         "Yes",
         "1.0",
         "3.0",
         "Yes",
         "7.0",
         "5.0"
        ],
        [
         "26",
         "3.0",
         null,
         "6.0",
         "5.0",
         "No",
         "10.0",
         "9.0"
        ],
        [
         "27",
         "9.0",
         null,
         "0.0",
         "0.0",
         "Yes",
         "1.0",
         "1.0"
        ],
        [
         "28",
         "2.0",
         "No",
         null,
         "4.0",
         "No",
         "5.0",
         "8.0"
        ],
        [
         "29",
         null,
         "Yes",
         "1.0",
         "0.0",
         "Yes",
         "4.0",
         "0.0"
        ],
        [
         "30",
         "3.0",
         "No",
         "9.0",
         "0.0",
         "No",
         "8.0",
         "5.0"
        ],
        [
         "31",
         null,
         "No",
         "4.0",
         null,
         "No",
         "11.0",
         "5.0"
        ],
        [
         "32",
         "1.0",
         "No",
         "9.0",
         "5.0",
         "No",
         "4.0",
         "8.0"
        ],
        [
         "33",
         "2.0",
         "No",
         "7.0",
         "5.0",
         "No",
         "11.0",
         "9.0"
        ],
        [
         "34",
         "5.0",
         "Yes",
         "1.0",
         "0.0",
         null,
         "3.0",
         "2.0"
        ],
        [
         "35",
         "6.0",
         "Yes",
         "2.0",
         "3.0",
         "Yes",
         "1.0",
         "3.0"
        ],
        [
         "36",
         "3.0",
         "No",
         "6.0",
         "3.0",
         "No",
         "7.0",
         null
        ],
        [
         "37",
         "2.0",
         "No",
         "7.0",
         "4.0",
         "No",
         "5.0",
         "3.0"
        ],
        [
         "38",
         "2.0",
         "No",
         "8.0",
         "3.0",
         "No",
         "13.0",
         "6.0"
        ],
        [
         "39",
         "0.0",
         "No",
         "5.0",
         "4.0",
         "No",
         "11.0",
         "4.0"
        ],
        [
         "40",
         "0.0",
         "No",
         "8.0",
         "3.0",
         "No",
         "10.0",
         "4.0"
        ],
        [
         "41",
         null,
         "No",
         "6.0",
         "5.0",
         "No",
         "14.0",
         "3.0"
        ],
        [
         "42",
         "2.0",
         "No",
         "6.0",
         "6.0",
         "No",
         "5.0",
         "6.0"
        ],
        [
         "43",
         "0.0",
         "No",
         "9.0",
         "4.0",
         null,
         "11.0",
         "5.0"
        ],
        [
         "44",
         "9.0",
         "Yes",
         "1.0",
         "0.0",
         "Yes",
         "3.0",
         "0.0"
        ],
        [
         "45",
         "2.0",
         "No",
         "6.0",
         null,
         "No",
         "11.0",
         "4.0"
        ],
        [
         "46",
         "2.0",
         "No",
         "7.0",
         "3.0",
         "No",
         "12.0",
         "6.0"
        ],
        [
         "47",
         "0.0",
         "No",
         "4.0",
         "7.0",
         "No",
         "14.0",
         "3.0"
        ],
        [
         "48",
         "10.0",
         "Yes",
         "1.0",
         null,
         "Yes",
         "5.0",
         "1.0"
        ],
        [
         "49",
         "2.0",
         "No",
         "9.0",
         "7.0",
         "No",
         "6.0",
         "4.0"
        ]
       ],
       "shape": {
        "columns": 7,
        "rows": 18524
       }
      },
      "text/html": [
       "<div>\n",
       "<style scoped>\n",
       "    .dataframe tbody tr th:only-of-type {\n",
       "        vertical-align: middle;\n",
       "    }\n",
       "\n",
       "    .dataframe tbody tr th {\n",
       "        vertical-align: top;\n",
       "    }\n",
       "\n",
       "    .dataframe thead th {\n",
       "        text-align: right;\n",
       "    }\n",
       "</style>\n",
       "<table border=\"1\" class=\"dataframe\">\n",
       "  <thead>\n",
       "    <tr style=\"text-align: right;\">\n",
       "      <th></th>\n",
       "      <th>Time_spent_Alone</th>\n",
       "      <th>Stage_fear</th>\n",
       "      <th>Social_event_attendance</th>\n",
       "      <th>Going_outside</th>\n",
       "      <th>Drained_after_socializing</th>\n",
       "      <th>Friends_circle_size</th>\n",
       "      <th>Post_frequency</th>\n",
       "    </tr>\n",
       "  </thead>\n",
       "  <tbody>\n",
       "    <tr>\n",
       "      <th>0</th>\n",
       "      <td>0.0</td>\n",
       "      <td>No</td>\n",
       "      <td>6.0</td>\n",
       "      <td>4.0</td>\n",
       "      <td>No</td>\n",
       "      <td>15.0</td>\n",
       "      <td>5.0</td>\n",
       "    </tr>\n",
       "    <tr>\n",
       "      <th>1</th>\n",
       "      <td>1.0</td>\n",
       "      <td>No</td>\n",
       "      <td>7.0</td>\n",
       "      <td>3.0</td>\n",
       "      <td>No</td>\n",
       "      <td>10.0</td>\n",
       "      <td>8.0</td>\n",
       "    </tr>\n",
       "    <tr>\n",
       "      <th>2</th>\n",
       "      <td>6.0</td>\n",
       "      <td>Yes</td>\n",
       "      <td>1.0</td>\n",
       "      <td>0.0</td>\n",
       "      <td>NaN</td>\n",
       "      <td>3.0</td>\n",
       "      <td>0.0</td>\n",
       "    </tr>\n",
       "    <tr>\n",
       "      <th>3</th>\n",
       "      <td>3.0</td>\n",
       "      <td>No</td>\n",
       "      <td>7.0</td>\n",
       "      <td>3.0</td>\n",
       "      <td>No</td>\n",
       "      <td>11.0</td>\n",
       "      <td>5.0</td>\n",
       "    </tr>\n",
       "    <tr>\n",
       "      <th>4</th>\n",
       "      <td>1.0</td>\n",
       "      <td>No</td>\n",
       "      <td>4.0</td>\n",
       "      <td>4.0</td>\n",
       "      <td>No</td>\n",
       "      <td>13.0</td>\n",
       "      <td>NaN</td>\n",
       "    </tr>\n",
       "    <tr>\n",
       "      <th>...</th>\n",
       "      <td>...</td>\n",
       "      <td>...</td>\n",
       "      <td>...</td>\n",
       "      <td>...</td>\n",
       "      <td>...</td>\n",
       "      <td>...</td>\n",
       "      <td>...</td>\n",
       "    </tr>\n",
       "    <tr>\n",
       "      <th>18519</th>\n",
       "      <td>3.0</td>\n",
       "      <td>No</td>\n",
       "      <td>7.0</td>\n",
       "      <td>3.0</td>\n",
       "      <td>No</td>\n",
       "      <td>9.0</td>\n",
       "      <td>7.0</td>\n",
       "    </tr>\n",
       "    <tr>\n",
       "      <th>18520</th>\n",
       "      <td>1.0</td>\n",
       "      <td>NaN</td>\n",
       "      <td>6.0</td>\n",
       "      <td>7.0</td>\n",
       "      <td>No</td>\n",
       "      <td>6.0</td>\n",
       "      <td>5.0</td>\n",
       "    </tr>\n",
       "    <tr>\n",
       "      <th>18521</th>\n",
       "      <td>7.0</td>\n",
       "      <td>Yes</td>\n",
       "      <td>1.0</td>\n",
       "      <td>1.0</td>\n",
       "      <td>Yes</td>\n",
       "      <td>1.0</td>\n",
       "      <td>NaN</td>\n",
       "    </tr>\n",
       "    <tr>\n",
       "      <th>18522</th>\n",
       "      <td>NaN</td>\n",
       "      <td>Yes</td>\n",
       "      <td>1.0</td>\n",
       "      <td>0.0</td>\n",
       "      <td>Yes</td>\n",
       "      <td>5.0</td>\n",
       "      <td>2.0</td>\n",
       "    </tr>\n",
       "    <tr>\n",
       "      <th>18523</th>\n",
       "      <td>1.0</td>\n",
       "      <td>No</td>\n",
       "      <td>8.0</td>\n",
       "      <td>6.0</td>\n",
       "      <td>No</td>\n",
       "      <td>4.0</td>\n",
       "      <td>7.0</td>\n",
       "    </tr>\n",
       "  </tbody>\n",
       "</table>\n",
       "<p>18524 rows × 7 columns</p>\n",
       "</div>"
      ],
      "text/plain": [
       "       Time_spent_Alone Stage_fear  Social_event_attendance  Going_outside  \\\n",
       "0                   0.0         No                      6.0            4.0   \n",
       "1                   1.0         No                      7.0            3.0   \n",
       "2                   6.0        Yes                      1.0            0.0   \n",
       "3                   3.0         No                      7.0            3.0   \n",
       "4                   1.0         No                      4.0            4.0   \n",
       "...                 ...        ...                      ...            ...   \n",
       "18519               3.0         No                      7.0            3.0   \n",
       "18520               1.0        NaN                      6.0            7.0   \n",
       "18521               7.0        Yes                      1.0            1.0   \n",
       "18522               NaN        Yes                      1.0            0.0   \n",
       "18523               1.0         No                      8.0            6.0   \n",
       "\n",
       "      Drained_after_socializing  Friends_circle_size  Post_frequency  \n",
       "0                            No                 15.0             5.0  \n",
       "1                            No                 10.0             8.0  \n",
       "2                           NaN                  3.0             0.0  \n",
       "3                            No                 11.0             5.0  \n",
       "4                            No                 13.0             NaN  \n",
       "...                         ...                  ...             ...  \n",
       "18519                        No                  9.0             7.0  \n",
       "18520                        No                  6.0             5.0  \n",
       "18521                       Yes                  1.0             NaN  \n",
       "18522                       Yes                  5.0             2.0  \n",
       "18523                        No                  4.0             7.0  \n",
       "\n",
       "[18524 rows x 7 columns]"
      ]
     },
     "execution_count": 19,
     "metadata": {},
     "output_type": "execute_result"
    }
   ],
   "source": [
    "X"
   ]
  },
  {
   "cell_type": "code",
   "execution_count": 20,
   "id": "ed3178f2",
   "metadata": {},
   "outputs": [],
   "source": [
    "X = pd.get_dummies(X)"
   ]
  },
  {
   "cell_type": "code",
   "execution_count": 21,
   "id": "00d9ba21",
   "metadata": {},
   "outputs": [],
   "source": [
    "from sklearn.model_selection import train_test_split"
   ]
  },
  {
   "cell_type": "code",
   "execution_count": 22,
   "id": "f19afb7d",
   "metadata": {},
   "outputs": [],
   "source": [
    "x_train, x_test, y_train, y_test = train_test_split(X, y, test_size=0.2, random_state=42)"
   ]
  },
  {
   "cell_type": "code",
   "execution_count": 23,
   "id": "3c8df9f4",
   "metadata": {},
   "outputs": [],
   "source": [
    "from sklearn.ensemble import RandomForestClassifier"
   ]
  },
  {
   "cell_type": "code",
   "execution_count": 24,
   "id": "9b4c4bac",
   "metadata": {},
   "outputs": [],
   "source": [
    "model = RandomForestClassifier(random_state=42)"
   ]
  },
  {
   "cell_type": "code",
   "execution_count": 25,
   "id": "e32d7793",
   "metadata": {},
   "outputs": [
    {
     "data": {
      "text/html": [
       "<style>#sk-container-id-1 {\n",
       "  /* Definition of color scheme common for light and dark mode */\n",
       "  --sklearn-color-text: #000;\n",
       "  --sklearn-color-text-muted: #666;\n",
       "  --sklearn-color-line: gray;\n",
       "  /* Definition of color scheme for unfitted estimators */\n",
       "  --sklearn-color-unfitted-level-0: #fff5e6;\n",
       "  --sklearn-color-unfitted-level-1: #f6e4d2;\n",
       "  --sklearn-color-unfitted-level-2: #ffe0b3;\n",
       "  --sklearn-color-unfitted-level-3: chocolate;\n",
       "  /* Definition of color scheme for fitted estimators */\n",
       "  --sklearn-color-fitted-level-0: #f0f8ff;\n",
       "  --sklearn-color-fitted-level-1: #d4ebff;\n",
       "  --sklearn-color-fitted-level-2: #b3dbfd;\n",
       "  --sklearn-color-fitted-level-3: cornflowerblue;\n",
       "\n",
       "  /* Specific color for light theme */\n",
       "  --sklearn-color-text-on-default-background: var(--sg-text-color, var(--theme-code-foreground, var(--jp-content-font-color1, black)));\n",
       "  --sklearn-color-background: var(--sg-background-color, var(--theme-background, var(--jp-layout-color0, white)));\n",
       "  --sklearn-color-border-box: var(--sg-text-color, var(--theme-code-foreground, var(--jp-content-font-color1, black)));\n",
       "  --sklearn-color-icon: #696969;\n",
       "\n",
       "  @media (prefers-color-scheme: dark) {\n",
       "    /* Redefinition of color scheme for dark theme */\n",
       "    --sklearn-color-text-on-default-background: var(--sg-text-color, var(--theme-code-foreground, var(--jp-content-font-color1, white)));\n",
       "    --sklearn-color-background: var(--sg-background-color, var(--theme-background, var(--jp-layout-color0, #111)));\n",
       "    --sklearn-color-border-box: var(--sg-text-color, var(--theme-code-foreground, var(--jp-content-font-color1, white)));\n",
       "    --sklearn-color-icon: #878787;\n",
       "  }\n",
       "}\n",
       "\n",
       "#sk-container-id-1 {\n",
       "  color: var(--sklearn-color-text);\n",
       "}\n",
       "\n",
       "#sk-container-id-1 pre {\n",
       "  padding: 0;\n",
       "}\n",
       "\n",
       "#sk-container-id-1 input.sk-hidden--visually {\n",
       "  border: 0;\n",
       "  clip: rect(1px 1px 1px 1px);\n",
       "  clip: rect(1px, 1px, 1px, 1px);\n",
       "  height: 1px;\n",
       "  margin: -1px;\n",
       "  overflow: hidden;\n",
       "  padding: 0;\n",
       "  position: absolute;\n",
       "  width: 1px;\n",
       "}\n",
       "\n",
       "#sk-container-id-1 div.sk-dashed-wrapped {\n",
       "  border: 1px dashed var(--sklearn-color-line);\n",
       "  margin: 0 0.4em 0.5em 0.4em;\n",
       "  box-sizing: border-box;\n",
       "  padding-bottom: 0.4em;\n",
       "  background-color: var(--sklearn-color-background);\n",
       "}\n",
       "\n",
       "#sk-container-id-1 div.sk-container {\n",
       "  /* jupyter's `normalize.less` sets `[hidden] { display: none; }`\n",
       "     but bootstrap.min.css set `[hidden] { display: none !important; }`\n",
       "     so we also need the `!important` here to be able to override the\n",
       "     default hidden behavior on the sphinx rendered scikit-learn.org.\n",
       "     See: https://github.com/scikit-learn/scikit-learn/issues/21755 */\n",
       "  display: inline-block !important;\n",
       "  position: relative;\n",
       "}\n",
       "\n",
       "#sk-container-id-1 div.sk-text-repr-fallback {\n",
       "  display: none;\n",
       "}\n",
       "\n",
       "div.sk-parallel-item,\n",
       "div.sk-serial,\n",
       "div.sk-item {\n",
       "  /* draw centered vertical line to link estimators */\n",
       "  background-image: linear-gradient(var(--sklearn-color-text-on-default-background), var(--sklearn-color-text-on-default-background));\n",
       "  background-size: 2px 100%;\n",
       "  background-repeat: no-repeat;\n",
       "  background-position: center center;\n",
       "}\n",
       "\n",
       "/* Parallel-specific style estimator block */\n",
       "\n",
       "#sk-container-id-1 div.sk-parallel-item::after {\n",
       "  content: \"\";\n",
       "  width: 100%;\n",
       "  border-bottom: 2px solid var(--sklearn-color-text-on-default-background);\n",
       "  flex-grow: 1;\n",
       "}\n",
       "\n",
       "#sk-container-id-1 div.sk-parallel {\n",
       "  display: flex;\n",
       "  align-items: stretch;\n",
       "  justify-content: center;\n",
       "  background-color: var(--sklearn-color-background);\n",
       "  position: relative;\n",
       "}\n",
       "\n",
       "#sk-container-id-1 div.sk-parallel-item {\n",
       "  display: flex;\n",
       "  flex-direction: column;\n",
       "}\n",
       "\n",
       "#sk-container-id-1 div.sk-parallel-item:first-child::after {\n",
       "  align-self: flex-end;\n",
       "  width: 50%;\n",
       "}\n",
       "\n",
       "#sk-container-id-1 div.sk-parallel-item:last-child::after {\n",
       "  align-self: flex-start;\n",
       "  width: 50%;\n",
       "}\n",
       "\n",
       "#sk-container-id-1 div.sk-parallel-item:only-child::after {\n",
       "  width: 0;\n",
       "}\n",
       "\n",
       "/* Serial-specific style estimator block */\n",
       "\n",
       "#sk-container-id-1 div.sk-serial {\n",
       "  display: flex;\n",
       "  flex-direction: column;\n",
       "  align-items: center;\n",
       "  background-color: var(--sklearn-color-background);\n",
       "  padding-right: 1em;\n",
       "  padding-left: 1em;\n",
       "}\n",
       "\n",
       "\n",
       "/* Toggleable style: style used for estimator/Pipeline/ColumnTransformer box that is\n",
       "clickable and can be expanded/collapsed.\n",
       "- Pipeline and ColumnTransformer use this feature and define the default style\n",
       "- Estimators will overwrite some part of the style using the `sk-estimator` class\n",
       "*/\n",
       "\n",
       "/* Pipeline and ColumnTransformer style (default) */\n",
       "\n",
       "#sk-container-id-1 div.sk-toggleable {\n",
       "  /* Default theme specific background. It is overwritten whether we have a\n",
       "  specific estimator or a Pipeline/ColumnTransformer */\n",
       "  background-color: var(--sklearn-color-background);\n",
       "}\n",
       "\n",
       "/* Toggleable label */\n",
       "#sk-container-id-1 label.sk-toggleable__label {\n",
       "  cursor: pointer;\n",
       "  display: flex;\n",
       "  width: 100%;\n",
       "  margin-bottom: 0;\n",
       "  padding: 0.5em;\n",
       "  box-sizing: border-box;\n",
       "  text-align: center;\n",
       "  align-items: start;\n",
       "  justify-content: space-between;\n",
       "  gap: 0.5em;\n",
       "}\n",
       "\n",
       "#sk-container-id-1 label.sk-toggleable__label .caption {\n",
       "  font-size: 0.6rem;\n",
       "  font-weight: lighter;\n",
       "  color: var(--sklearn-color-text-muted);\n",
       "}\n",
       "\n",
       "#sk-container-id-1 label.sk-toggleable__label-arrow:before {\n",
       "  /* Arrow on the left of the label */\n",
       "  content: \"▸\";\n",
       "  float: left;\n",
       "  margin-right: 0.25em;\n",
       "  color: var(--sklearn-color-icon);\n",
       "}\n",
       "\n",
       "#sk-container-id-1 label.sk-toggleable__label-arrow:hover:before {\n",
       "  color: var(--sklearn-color-text);\n",
       "}\n",
       "\n",
       "/* Toggleable content - dropdown */\n",
       "\n",
       "#sk-container-id-1 div.sk-toggleable__content {\n",
       "  display: none;\n",
       "  text-align: left;\n",
       "  /* unfitted */\n",
       "  background-color: var(--sklearn-color-unfitted-level-0);\n",
       "}\n",
       "\n",
       "#sk-container-id-1 div.sk-toggleable__content.fitted {\n",
       "  /* fitted */\n",
       "  background-color: var(--sklearn-color-fitted-level-0);\n",
       "}\n",
       "\n",
       "#sk-container-id-1 div.sk-toggleable__content pre {\n",
       "  margin: 0.2em;\n",
       "  border-radius: 0.25em;\n",
       "  color: var(--sklearn-color-text);\n",
       "  /* unfitted */\n",
       "  background-color: var(--sklearn-color-unfitted-level-0);\n",
       "}\n",
       "\n",
       "#sk-container-id-1 div.sk-toggleable__content.fitted pre {\n",
       "  /* unfitted */\n",
       "  background-color: var(--sklearn-color-fitted-level-0);\n",
       "}\n",
       "\n",
       "#sk-container-id-1 input.sk-toggleable__control:checked~div.sk-toggleable__content {\n",
       "  /* Expand drop-down */\n",
       "  display: block;\n",
       "  width: 100%;\n",
       "  overflow: visible;\n",
       "}\n",
       "\n",
       "#sk-container-id-1 input.sk-toggleable__control:checked~label.sk-toggleable__label-arrow:before {\n",
       "  content: \"▾\";\n",
       "}\n",
       "\n",
       "/* Pipeline/ColumnTransformer-specific style */\n",
       "\n",
       "#sk-container-id-1 div.sk-label input.sk-toggleable__control:checked~label.sk-toggleable__label {\n",
       "  color: var(--sklearn-color-text);\n",
       "  background-color: var(--sklearn-color-unfitted-level-2);\n",
       "}\n",
       "\n",
       "#sk-container-id-1 div.sk-label.fitted input.sk-toggleable__control:checked~label.sk-toggleable__label {\n",
       "  background-color: var(--sklearn-color-fitted-level-2);\n",
       "}\n",
       "\n",
       "/* Estimator-specific style */\n",
       "\n",
       "/* Colorize estimator box */\n",
       "#sk-container-id-1 div.sk-estimator input.sk-toggleable__control:checked~label.sk-toggleable__label {\n",
       "  /* unfitted */\n",
       "  background-color: var(--sklearn-color-unfitted-level-2);\n",
       "}\n",
       "\n",
       "#sk-container-id-1 div.sk-estimator.fitted input.sk-toggleable__control:checked~label.sk-toggleable__label {\n",
       "  /* fitted */\n",
       "  background-color: var(--sklearn-color-fitted-level-2);\n",
       "}\n",
       "\n",
       "#sk-container-id-1 div.sk-label label.sk-toggleable__label,\n",
       "#sk-container-id-1 div.sk-label label {\n",
       "  /* The background is the default theme color */\n",
       "  color: var(--sklearn-color-text-on-default-background);\n",
       "}\n",
       "\n",
       "/* On hover, darken the color of the background */\n",
       "#sk-container-id-1 div.sk-label:hover label.sk-toggleable__label {\n",
       "  color: var(--sklearn-color-text);\n",
       "  background-color: var(--sklearn-color-unfitted-level-2);\n",
       "}\n",
       "\n",
       "/* Label box, darken color on hover, fitted */\n",
       "#sk-container-id-1 div.sk-label.fitted:hover label.sk-toggleable__label.fitted {\n",
       "  color: var(--sklearn-color-text);\n",
       "  background-color: var(--sklearn-color-fitted-level-2);\n",
       "}\n",
       "\n",
       "/* Estimator label */\n",
       "\n",
       "#sk-container-id-1 div.sk-label label {\n",
       "  font-family: monospace;\n",
       "  font-weight: bold;\n",
       "  display: inline-block;\n",
       "  line-height: 1.2em;\n",
       "}\n",
       "\n",
       "#sk-container-id-1 div.sk-label-container {\n",
       "  text-align: center;\n",
       "}\n",
       "\n",
       "/* Estimator-specific */\n",
       "#sk-container-id-1 div.sk-estimator {\n",
       "  font-family: monospace;\n",
       "  border: 1px dotted var(--sklearn-color-border-box);\n",
       "  border-radius: 0.25em;\n",
       "  box-sizing: border-box;\n",
       "  margin-bottom: 0.5em;\n",
       "  /* unfitted */\n",
       "  background-color: var(--sklearn-color-unfitted-level-0);\n",
       "}\n",
       "\n",
       "#sk-container-id-1 div.sk-estimator.fitted {\n",
       "  /* fitted */\n",
       "  background-color: var(--sklearn-color-fitted-level-0);\n",
       "}\n",
       "\n",
       "/* on hover */\n",
       "#sk-container-id-1 div.sk-estimator:hover {\n",
       "  /* unfitted */\n",
       "  background-color: var(--sklearn-color-unfitted-level-2);\n",
       "}\n",
       "\n",
       "#sk-container-id-1 div.sk-estimator.fitted:hover {\n",
       "  /* fitted */\n",
       "  background-color: var(--sklearn-color-fitted-level-2);\n",
       "}\n",
       "\n",
       "/* Specification for estimator info (e.g. \"i\" and \"?\") */\n",
       "\n",
       "/* Common style for \"i\" and \"?\" */\n",
       "\n",
       ".sk-estimator-doc-link,\n",
       "a:link.sk-estimator-doc-link,\n",
       "a:visited.sk-estimator-doc-link {\n",
       "  float: right;\n",
       "  font-size: smaller;\n",
       "  line-height: 1em;\n",
       "  font-family: monospace;\n",
       "  background-color: var(--sklearn-color-background);\n",
       "  border-radius: 1em;\n",
       "  height: 1em;\n",
       "  width: 1em;\n",
       "  text-decoration: none !important;\n",
       "  margin-left: 0.5em;\n",
       "  text-align: center;\n",
       "  /* unfitted */\n",
       "  border: var(--sklearn-color-unfitted-level-1) 1pt solid;\n",
       "  color: var(--sklearn-color-unfitted-level-1);\n",
       "}\n",
       "\n",
       ".sk-estimator-doc-link.fitted,\n",
       "a:link.sk-estimator-doc-link.fitted,\n",
       "a:visited.sk-estimator-doc-link.fitted {\n",
       "  /* fitted */\n",
       "  border: var(--sklearn-color-fitted-level-1) 1pt solid;\n",
       "  color: var(--sklearn-color-fitted-level-1);\n",
       "}\n",
       "\n",
       "/* On hover */\n",
       "div.sk-estimator:hover .sk-estimator-doc-link:hover,\n",
       ".sk-estimator-doc-link:hover,\n",
       "div.sk-label-container:hover .sk-estimator-doc-link:hover,\n",
       ".sk-estimator-doc-link:hover {\n",
       "  /* unfitted */\n",
       "  background-color: var(--sklearn-color-unfitted-level-3);\n",
       "  color: var(--sklearn-color-background);\n",
       "  text-decoration: none;\n",
       "}\n",
       "\n",
       "div.sk-estimator.fitted:hover .sk-estimator-doc-link.fitted:hover,\n",
       ".sk-estimator-doc-link.fitted:hover,\n",
       "div.sk-label-container:hover .sk-estimator-doc-link.fitted:hover,\n",
       ".sk-estimator-doc-link.fitted:hover {\n",
       "  /* fitted */\n",
       "  background-color: var(--sklearn-color-fitted-level-3);\n",
       "  color: var(--sklearn-color-background);\n",
       "  text-decoration: none;\n",
       "}\n",
       "\n",
       "/* Span, style for the box shown on hovering the info icon */\n",
       ".sk-estimator-doc-link span {\n",
       "  display: none;\n",
       "  z-index: 9999;\n",
       "  position: relative;\n",
       "  font-weight: normal;\n",
       "  right: .2ex;\n",
       "  padding: .5ex;\n",
       "  margin: .5ex;\n",
       "  width: min-content;\n",
       "  min-width: 20ex;\n",
       "  max-width: 50ex;\n",
       "  color: var(--sklearn-color-text);\n",
       "  box-shadow: 2pt 2pt 4pt #999;\n",
       "  /* unfitted */\n",
       "  background: var(--sklearn-color-unfitted-level-0);\n",
       "  border: .5pt solid var(--sklearn-color-unfitted-level-3);\n",
       "}\n",
       "\n",
       ".sk-estimator-doc-link.fitted span {\n",
       "  /* fitted */\n",
       "  background: var(--sklearn-color-fitted-level-0);\n",
       "  border: var(--sklearn-color-fitted-level-3);\n",
       "}\n",
       "\n",
       ".sk-estimator-doc-link:hover span {\n",
       "  display: block;\n",
       "}\n",
       "\n",
       "/* \"?\"-specific style due to the `<a>` HTML tag */\n",
       "\n",
       "#sk-container-id-1 a.estimator_doc_link {\n",
       "  float: right;\n",
       "  font-size: 1rem;\n",
       "  line-height: 1em;\n",
       "  font-family: monospace;\n",
       "  background-color: var(--sklearn-color-background);\n",
       "  border-radius: 1rem;\n",
       "  height: 1rem;\n",
       "  width: 1rem;\n",
       "  text-decoration: none;\n",
       "  /* unfitted */\n",
       "  color: var(--sklearn-color-unfitted-level-1);\n",
       "  border: var(--sklearn-color-unfitted-level-1) 1pt solid;\n",
       "}\n",
       "\n",
       "#sk-container-id-1 a.estimator_doc_link.fitted {\n",
       "  /* fitted */\n",
       "  border: var(--sklearn-color-fitted-level-1) 1pt solid;\n",
       "  color: var(--sklearn-color-fitted-level-1);\n",
       "}\n",
       "\n",
       "/* On hover */\n",
       "#sk-container-id-1 a.estimator_doc_link:hover {\n",
       "  /* unfitted */\n",
       "  background-color: var(--sklearn-color-unfitted-level-3);\n",
       "  color: var(--sklearn-color-background);\n",
       "  text-decoration: none;\n",
       "}\n",
       "\n",
       "#sk-container-id-1 a.estimator_doc_link.fitted:hover {\n",
       "  /* fitted */\n",
       "  background-color: var(--sklearn-color-fitted-level-3);\n",
       "}\n",
       "\n",
       ".estimator-table summary {\n",
       "    padding: .5rem;\n",
       "    font-family: monospace;\n",
       "    cursor: pointer;\n",
       "}\n",
       "\n",
       ".estimator-table details[open] {\n",
       "    padding-left: 0.1rem;\n",
       "    padding-right: 0.1rem;\n",
       "    padding-bottom: 0.3rem;\n",
       "}\n",
       "\n",
       ".estimator-table .parameters-table {\n",
       "    margin-left: auto !important;\n",
       "    margin-right: auto !important;\n",
       "}\n",
       "\n",
       ".estimator-table .parameters-table tr:nth-child(odd) {\n",
       "    background-color: #fff;\n",
       "}\n",
       "\n",
       ".estimator-table .parameters-table tr:nth-child(even) {\n",
       "    background-color: #f6f6f6;\n",
       "}\n",
       "\n",
       ".estimator-table .parameters-table tr:hover {\n",
       "    background-color: #e0e0e0;\n",
       "}\n",
       "\n",
       ".estimator-table table td {\n",
       "    border: 1px solid rgba(106, 105, 104, 0.232);\n",
       "}\n",
       "\n",
       ".user-set td {\n",
       "    color:rgb(255, 94, 0);\n",
       "    text-align: left;\n",
       "}\n",
       "\n",
       ".user-set td.value pre {\n",
       "    color:rgb(255, 94, 0) !important;\n",
       "    background-color: transparent !important;\n",
       "}\n",
       "\n",
       ".default td {\n",
       "    color: black;\n",
       "    text-align: left;\n",
       "}\n",
       "\n",
       ".user-set td i,\n",
       ".default td i {\n",
       "    color: black;\n",
       "}\n",
       "\n",
       ".copy-paste-icon {\n",
       "    background-image: url(data:image/svg+xml;base64,PHN2ZyB4bWxucz0iaHR0cDovL3d3dy53My5vcmcvMjAwMC9zdmciIHZpZXdCb3g9IjAgMCA0NDggNTEyIj48IS0tIUZvbnQgQXdlc29tZSBGcmVlIDYuNy4yIGJ5IEBmb250YXdlc29tZSAtIGh0dHBzOi8vZm9udGF3ZXNvbWUuY29tIExpY2Vuc2UgLSBodHRwczovL2ZvbnRhd2Vzb21lLmNvbS9saWNlbnNlL2ZyZWUgQ29weXJpZ2h0IDIwMjUgRm9udGljb25zLCBJbmMuLS0+PHBhdGggZD0iTTIwOCAwTDMzMi4xIDBjMTIuNyAwIDI0LjkgNS4xIDMzLjkgMTQuMWw2Ny45IDY3LjljOSA5IDE0LjEgMjEuMiAxNC4xIDMzLjlMNDQ4IDMzNmMwIDI2LjUtMjEuNSA0OC00OCA0OGwtMTkyIDBjLTI2LjUgMC00OC0yMS41LTQ4LTQ4bDAtMjg4YzAtMjYuNSAyMS41LTQ4IDQ4LTQ4ek00OCAxMjhsODAgMCAwIDY0LTY0IDAgMCAyNTYgMTkyIDAgMC0zMiA2NCAwIDAgNDhjMCAyNi41LTIxLjUgNDgtNDggNDhMNDggNTEyYy0yNi41IDAtNDgtMjEuNS00OC00OEwwIDE3NmMwLTI2LjUgMjEuNS00OCA0OC00OHoiLz48L3N2Zz4=);\n",
       "    background-repeat: no-repeat;\n",
       "    background-size: 14px 14px;\n",
       "    background-position: 0;\n",
       "    display: inline-block;\n",
       "    width: 14px;\n",
       "    height: 14px;\n",
       "    cursor: pointer;\n",
       "}\n",
       "</style><body><div id=\"sk-container-id-1\" class=\"sk-top-container\"><div class=\"sk-text-repr-fallback\"><pre>RandomForestClassifier(random_state=42)</pre><b>In a Jupyter environment, please rerun this cell to show the HTML representation or trust the notebook. <br />On GitHub, the HTML representation is unable to render, please try loading this page with nbviewer.org.</b></div><div class=\"sk-container\" hidden><div class=\"sk-item\"><div class=\"sk-estimator fitted sk-toggleable\"><input class=\"sk-toggleable__control sk-hidden--visually\" id=\"sk-estimator-id-1\" type=\"checkbox\" checked><label for=\"sk-estimator-id-1\" class=\"sk-toggleable__label fitted sk-toggleable__label-arrow\"><div><div>RandomForestClassifier</div></div><div><a class=\"sk-estimator-doc-link fitted\" rel=\"noreferrer\" target=\"_blank\" href=\"https://scikit-learn.org/1.7/modules/generated/sklearn.ensemble.RandomForestClassifier.html\">?<span>Documentation for RandomForestClassifier</span></a><span class=\"sk-estimator-doc-link fitted\">i<span>Fitted</span></span></div></label><div class=\"sk-toggleable__content fitted\" data-param-prefix=\"\">\n",
       "        <div class=\"estimator-table\">\n",
       "            <details>\n",
       "                <summary>Parameters</summary>\n",
       "                <table class=\"parameters-table\">\n",
       "                  <tbody>\n",
       "                    \n",
       "        <tr class=\"default\">\n",
       "            <td><i class=\"copy-paste-icon\"\n",
       "                 onclick=\"copyToClipboard('n_estimators',\n",
       "                          this.parentElement.nextElementSibling)\"\n",
       "            ></i></td>\n",
       "            <td class=\"param\">n_estimators&nbsp;</td>\n",
       "            <td class=\"value\">100</td>\n",
       "        </tr>\n",
       "    \n",
       "\n",
       "        <tr class=\"default\">\n",
       "            <td><i class=\"copy-paste-icon\"\n",
       "                 onclick=\"copyToClipboard('criterion',\n",
       "                          this.parentElement.nextElementSibling)\"\n",
       "            ></i></td>\n",
       "            <td class=\"param\">criterion&nbsp;</td>\n",
       "            <td class=\"value\">&#x27;gini&#x27;</td>\n",
       "        </tr>\n",
       "    \n",
       "\n",
       "        <tr class=\"default\">\n",
       "            <td><i class=\"copy-paste-icon\"\n",
       "                 onclick=\"copyToClipboard('max_depth',\n",
       "                          this.parentElement.nextElementSibling)\"\n",
       "            ></i></td>\n",
       "            <td class=\"param\">max_depth&nbsp;</td>\n",
       "            <td class=\"value\">None</td>\n",
       "        </tr>\n",
       "    \n",
       "\n",
       "        <tr class=\"default\">\n",
       "            <td><i class=\"copy-paste-icon\"\n",
       "                 onclick=\"copyToClipboard('min_samples_split',\n",
       "                          this.parentElement.nextElementSibling)\"\n",
       "            ></i></td>\n",
       "            <td class=\"param\">min_samples_split&nbsp;</td>\n",
       "            <td class=\"value\">2</td>\n",
       "        </tr>\n",
       "    \n",
       "\n",
       "        <tr class=\"default\">\n",
       "            <td><i class=\"copy-paste-icon\"\n",
       "                 onclick=\"copyToClipboard('min_samples_leaf',\n",
       "                          this.parentElement.nextElementSibling)\"\n",
       "            ></i></td>\n",
       "            <td class=\"param\">min_samples_leaf&nbsp;</td>\n",
       "            <td class=\"value\">1</td>\n",
       "        </tr>\n",
       "    \n",
       "\n",
       "        <tr class=\"default\">\n",
       "            <td><i class=\"copy-paste-icon\"\n",
       "                 onclick=\"copyToClipboard('min_weight_fraction_leaf',\n",
       "                          this.parentElement.nextElementSibling)\"\n",
       "            ></i></td>\n",
       "            <td class=\"param\">min_weight_fraction_leaf&nbsp;</td>\n",
       "            <td class=\"value\">0.0</td>\n",
       "        </tr>\n",
       "    \n",
       "\n",
       "        <tr class=\"default\">\n",
       "            <td><i class=\"copy-paste-icon\"\n",
       "                 onclick=\"copyToClipboard('max_features',\n",
       "                          this.parentElement.nextElementSibling)\"\n",
       "            ></i></td>\n",
       "            <td class=\"param\">max_features&nbsp;</td>\n",
       "            <td class=\"value\">&#x27;sqrt&#x27;</td>\n",
       "        </tr>\n",
       "    \n",
       "\n",
       "        <tr class=\"default\">\n",
       "            <td><i class=\"copy-paste-icon\"\n",
       "                 onclick=\"copyToClipboard('max_leaf_nodes',\n",
       "                          this.parentElement.nextElementSibling)\"\n",
       "            ></i></td>\n",
       "            <td class=\"param\">max_leaf_nodes&nbsp;</td>\n",
       "            <td class=\"value\">None</td>\n",
       "        </tr>\n",
       "    \n",
       "\n",
       "        <tr class=\"default\">\n",
       "            <td><i class=\"copy-paste-icon\"\n",
       "                 onclick=\"copyToClipboard('min_impurity_decrease',\n",
       "                          this.parentElement.nextElementSibling)\"\n",
       "            ></i></td>\n",
       "            <td class=\"param\">min_impurity_decrease&nbsp;</td>\n",
       "            <td class=\"value\">0.0</td>\n",
       "        </tr>\n",
       "    \n",
       "\n",
       "        <tr class=\"default\">\n",
       "            <td><i class=\"copy-paste-icon\"\n",
       "                 onclick=\"copyToClipboard('bootstrap',\n",
       "                          this.parentElement.nextElementSibling)\"\n",
       "            ></i></td>\n",
       "            <td class=\"param\">bootstrap&nbsp;</td>\n",
       "            <td class=\"value\">True</td>\n",
       "        </tr>\n",
       "    \n",
       "\n",
       "        <tr class=\"default\">\n",
       "            <td><i class=\"copy-paste-icon\"\n",
       "                 onclick=\"copyToClipboard('oob_score',\n",
       "                          this.parentElement.nextElementSibling)\"\n",
       "            ></i></td>\n",
       "            <td class=\"param\">oob_score&nbsp;</td>\n",
       "            <td class=\"value\">False</td>\n",
       "        </tr>\n",
       "    \n",
       "\n",
       "        <tr class=\"default\">\n",
       "            <td><i class=\"copy-paste-icon\"\n",
       "                 onclick=\"copyToClipboard('n_jobs',\n",
       "                          this.parentElement.nextElementSibling)\"\n",
       "            ></i></td>\n",
       "            <td class=\"param\">n_jobs&nbsp;</td>\n",
       "            <td class=\"value\">None</td>\n",
       "        </tr>\n",
       "    \n",
       "\n",
       "        <tr class=\"user-set\">\n",
       "            <td><i class=\"copy-paste-icon\"\n",
       "                 onclick=\"copyToClipboard('random_state',\n",
       "                          this.parentElement.nextElementSibling)\"\n",
       "            ></i></td>\n",
       "            <td class=\"param\">random_state&nbsp;</td>\n",
       "            <td class=\"value\">42</td>\n",
       "        </tr>\n",
       "    \n",
       "\n",
       "        <tr class=\"default\">\n",
       "            <td><i class=\"copy-paste-icon\"\n",
       "                 onclick=\"copyToClipboard('verbose',\n",
       "                          this.parentElement.nextElementSibling)\"\n",
       "            ></i></td>\n",
       "            <td class=\"param\">verbose&nbsp;</td>\n",
       "            <td class=\"value\">0</td>\n",
       "        </tr>\n",
       "    \n",
       "\n",
       "        <tr class=\"default\">\n",
       "            <td><i class=\"copy-paste-icon\"\n",
       "                 onclick=\"copyToClipboard('warm_start',\n",
       "                          this.parentElement.nextElementSibling)\"\n",
       "            ></i></td>\n",
       "            <td class=\"param\">warm_start&nbsp;</td>\n",
       "            <td class=\"value\">False</td>\n",
       "        </tr>\n",
       "    \n",
       "\n",
       "        <tr class=\"default\">\n",
       "            <td><i class=\"copy-paste-icon\"\n",
       "                 onclick=\"copyToClipboard('class_weight',\n",
       "                          this.parentElement.nextElementSibling)\"\n",
       "            ></i></td>\n",
       "            <td class=\"param\">class_weight&nbsp;</td>\n",
       "            <td class=\"value\">None</td>\n",
       "        </tr>\n",
       "    \n",
       "\n",
       "        <tr class=\"default\">\n",
       "            <td><i class=\"copy-paste-icon\"\n",
       "                 onclick=\"copyToClipboard('ccp_alpha',\n",
       "                          this.parentElement.nextElementSibling)\"\n",
       "            ></i></td>\n",
       "            <td class=\"param\">ccp_alpha&nbsp;</td>\n",
       "            <td class=\"value\">0.0</td>\n",
       "        </tr>\n",
       "    \n",
       "\n",
       "        <tr class=\"default\">\n",
       "            <td><i class=\"copy-paste-icon\"\n",
       "                 onclick=\"copyToClipboard('max_samples',\n",
       "                          this.parentElement.nextElementSibling)\"\n",
       "            ></i></td>\n",
       "            <td class=\"param\">max_samples&nbsp;</td>\n",
       "            <td class=\"value\">None</td>\n",
       "        </tr>\n",
       "    \n",
       "\n",
       "        <tr class=\"default\">\n",
       "            <td><i class=\"copy-paste-icon\"\n",
       "                 onclick=\"copyToClipboard('monotonic_cst',\n",
       "                          this.parentElement.nextElementSibling)\"\n",
       "            ></i></td>\n",
       "            <td class=\"param\">monotonic_cst&nbsp;</td>\n",
       "            <td class=\"value\">None</td>\n",
       "        </tr>\n",
       "    \n",
       "                  </tbody>\n",
       "                </table>\n",
       "            </details>\n",
       "        </div>\n",
       "    </div></div></div></div></div><script>function copyToClipboard(text, element) {\n",
       "    // Get the parameter prefix from the closest toggleable content\n",
       "    const toggleableContent = element.closest('.sk-toggleable__content');\n",
       "    const paramPrefix = toggleableContent ? toggleableContent.dataset.paramPrefix : '';\n",
       "    const fullParamName = paramPrefix ? `${paramPrefix}${text}` : text;\n",
       "\n",
       "    const originalStyle = element.style;\n",
       "    const computedStyle = window.getComputedStyle(element);\n",
       "    const originalWidth = computedStyle.width;\n",
       "    const originalHTML = element.innerHTML.replace('Copied!', '');\n",
       "\n",
       "    navigator.clipboard.writeText(fullParamName)\n",
       "        .then(() => {\n",
       "            element.style.width = originalWidth;\n",
       "            element.style.color = 'green';\n",
       "            element.innerHTML = \"Copied!\";\n",
       "\n",
       "            setTimeout(() => {\n",
       "                element.innerHTML = originalHTML;\n",
       "                element.style = originalStyle;\n",
       "            }, 2000);\n",
       "        })\n",
       "        .catch(err => {\n",
       "            console.error('Failed to copy:', err);\n",
       "            element.style.color = 'red';\n",
       "            element.innerHTML = \"Failed!\";\n",
       "            setTimeout(() => {\n",
       "                element.innerHTML = originalHTML;\n",
       "                element.style = originalStyle;\n",
       "            }, 2000);\n",
       "        });\n",
       "    return false;\n",
       "}\n",
       "\n",
       "document.querySelectorAll('.fa-regular.fa-copy').forEach(function(element) {\n",
       "    const toggleableContent = element.closest('.sk-toggleable__content');\n",
       "    const paramPrefix = toggleableContent ? toggleableContent.dataset.paramPrefix : '';\n",
       "    const paramName = element.parentElement.nextElementSibling.textContent.trim();\n",
       "    const fullParamName = paramPrefix ? `${paramPrefix}${paramName}` : paramName;\n",
       "\n",
       "    element.setAttribute('title', fullParamName);\n",
       "});\n",
       "</script></body>"
      ],
      "text/plain": [
       "RandomForestClassifier(random_state=42)"
      ]
     },
     "execution_count": 25,
     "metadata": {},
     "output_type": "execute_result"
    }
   ],
   "source": [
    "model.fit(x_train, y_train)"
   ]
  },
  {
   "cell_type": "code",
   "execution_count": 26,
   "id": "8754b65c",
   "metadata": {},
   "outputs": [],
   "source": [
    "from sklearn.metrics import accuracy_score"
   ]
  },
  {
   "cell_type": "code",
   "execution_count": 27,
   "id": "73b857f4",
   "metadata": {},
   "outputs": [
    {
     "data": {
      "text/plain": [
       "array([1, 1, 1, ..., 1, 1, 1], shape=(3705,))"
      ]
     },
     "execution_count": 27,
     "metadata": {},
     "output_type": "execute_result"
    }
   ],
   "source": [
    "y_pred = model.predict(x_test)\n",
    "y_pred"
   ]
  },
  {
   "cell_type": "code",
   "execution_count": 28,
   "id": "266ba866",
   "metadata": {},
   "outputs": [
    {
     "data": {
      "text/plain": [
       "0.9681511470985156"
      ]
     },
     "execution_count": 28,
     "metadata": {},
     "output_type": "execute_result"
    }
   ],
   "source": [
    "accuracy_score(y_test, y_pred)"
   ]
  },
  {
   "cell_type": "markdown",
   "id": "5f728ae1",
   "metadata": {},
   "source": [
    "---"
   ]
  },
  {
   "cell_type": "markdown",
   "id": "d385ddbe",
   "metadata": {},
   "source": [
    "# Predict"
   ]
  },
  {
   "cell_type": "markdown",
   "id": "df56c427",
   "metadata": {},
   "source": [
    "---"
   ]
  },
  {
   "cell_type": "code",
   "execution_count": 29,
   "id": "0d7d41ba",
   "metadata": {},
   "outputs": [
    {
     "data": {
      "application/vnd.microsoft.datawrangler.viewer.v0+json": {
       "columns": [
        {
         "name": "index",
         "rawType": "int64",
         "type": "integer"
        },
        {
         "name": "id",
         "rawType": "int64",
         "type": "integer"
        },
        {
         "name": "Time_spent_Alone",
         "rawType": "float64",
         "type": "float"
        },
        {
         "name": "Stage_fear",
         "rawType": "object",
         "type": "string"
        },
        {
         "name": "Social_event_attendance",
         "rawType": "float64",
         "type": "float"
        },
        {
         "name": "Going_outside",
         "rawType": "float64",
         "type": "float"
        },
        {
         "name": "Drained_after_socializing",
         "rawType": "object",
         "type": "string"
        },
        {
         "name": "Friends_circle_size",
         "rawType": "float64",
         "type": "float"
        },
        {
         "name": "Post_frequency",
         "rawType": "float64",
         "type": "float"
        }
       ],
       "ref": "e29586c4-e6f0-4a32-84da-8063d6c0c9fc",
       "rows": [
        [
         "0",
         "18524",
         "3.0",
         "No",
         "7.0",
         "4.0",
         "No",
         "6.0",
         null
        ],
        [
         "1",
         "18525",
         null,
         "Yes",
         "0.0",
         "0.0",
         "Yes",
         "5.0",
         "1.0"
        ],
        [
         "2",
         "18526",
         "3.0",
         "No",
         "5.0",
         "6.0",
         "No",
         "15.0",
         "9.0"
        ],
        [
         "3",
         "18527",
         "3.0",
         "No",
         "4.0",
         "4.0",
         "No",
         "5.0",
         "6.0"
        ],
        [
         "4",
         "18528",
         "9.0",
         "Yes",
         "1.0",
         "2.0",
         "Yes",
         "1.0",
         "1.0"
        ]
       ],
       "shape": {
        "columns": 8,
        "rows": 5
       }
      },
      "text/html": [
       "<div>\n",
       "<style scoped>\n",
       "    .dataframe tbody tr th:only-of-type {\n",
       "        vertical-align: middle;\n",
       "    }\n",
       "\n",
       "    .dataframe tbody tr th {\n",
       "        vertical-align: top;\n",
       "    }\n",
       "\n",
       "    .dataframe thead th {\n",
       "        text-align: right;\n",
       "    }\n",
       "</style>\n",
       "<table border=\"1\" class=\"dataframe\">\n",
       "  <thead>\n",
       "    <tr style=\"text-align: right;\">\n",
       "      <th></th>\n",
       "      <th>id</th>\n",
       "      <th>Time_spent_Alone</th>\n",
       "      <th>Stage_fear</th>\n",
       "      <th>Social_event_attendance</th>\n",
       "      <th>Going_outside</th>\n",
       "      <th>Drained_after_socializing</th>\n",
       "      <th>Friends_circle_size</th>\n",
       "      <th>Post_frequency</th>\n",
       "    </tr>\n",
       "  </thead>\n",
       "  <tbody>\n",
       "    <tr>\n",
       "      <th>0</th>\n",
       "      <td>18524</td>\n",
       "      <td>3.0</td>\n",
       "      <td>No</td>\n",
       "      <td>7.0</td>\n",
       "      <td>4.0</td>\n",
       "      <td>No</td>\n",
       "      <td>6.0</td>\n",
       "      <td>NaN</td>\n",
       "    </tr>\n",
       "    <tr>\n",
       "      <th>1</th>\n",
       "      <td>18525</td>\n",
       "      <td>NaN</td>\n",
       "      <td>Yes</td>\n",
       "      <td>0.0</td>\n",
       "      <td>0.0</td>\n",
       "      <td>Yes</td>\n",
       "      <td>5.0</td>\n",
       "      <td>1.0</td>\n",
       "    </tr>\n",
       "    <tr>\n",
       "      <th>2</th>\n",
       "      <td>18526</td>\n",
       "      <td>3.0</td>\n",
       "      <td>No</td>\n",
       "      <td>5.0</td>\n",
       "      <td>6.0</td>\n",
       "      <td>No</td>\n",
       "      <td>15.0</td>\n",
       "      <td>9.0</td>\n",
       "    </tr>\n",
       "    <tr>\n",
       "      <th>3</th>\n",
       "      <td>18527</td>\n",
       "      <td>3.0</td>\n",
       "      <td>No</td>\n",
       "      <td>4.0</td>\n",
       "      <td>4.0</td>\n",
       "      <td>No</td>\n",
       "      <td>5.0</td>\n",
       "      <td>6.0</td>\n",
       "    </tr>\n",
       "    <tr>\n",
       "      <th>4</th>\n",
       "      <td>18528</td>\n",
       "      <td>9.0</td>\n",
       "      <td>Yes</td>\n",
       "      <td>1.0</td>\n",
       "      <td>2.0</td>\n",
       "      <td>Yes</td>\n",
       "      <td>1.0</td>\n",
       "      <td>1.0</td>\n",
       "    </tr>\n",
       "  </tbody>\n",
       "</table>\n",
       "</div>"
      ],
      "text/plain": [
       "      id  Time_spent_Alone Stage_fear  Social_event_attendance  Going_outside  \\\n",
       "0  18524               3.0         No                      7.0            4.0   \n",
       "1  18525               NaN        Yes                      0.0            0.0   \n",
       "2  18526               3.0         No                      5.0            6.0   \n",
       "3  18527               3.0         No                      4.0            4.0   \n",
       "4  18528               9.0        Yes                      1.0            2.0   \n",
       "\n",
       "  Drained_after_socializing  Friends_circle_size  Post_frequency  \n",
       "0                        No                  6.0             NaN  \n",
       "1                       Yes                  5.0             1.0  \n",
       "2                        No                 15.0             9.0  \n",
       "3                        No                  5.0             6.0  \n",
       "4                       Yes                  1.0             1.0  "
      ]
     },
     "execution_count": 29,
     "metadata": {},
     "output_type": "execute_result"
    }
   ],
   "source": [
    "df_test = pd.read_csv(\"../data/test.csv\")\n",
    "df_test.head()"
   ]
  },
  {
   "cell_type": "code",
   "execution_count": 30,
   "id": "6525ffdb",
   "metadata": {},
   "outputs": [],
   "source": [
    "# df_test.dropna(inplace=True)"
   ]
  },
  {
   "cell_type": "code",
   "execution_count": 31,
   "id": "42185dd5",
   "metadata": {},
   "outputs": [],
   "source": [
    "submission = pd.DataFrame()\n",
    "submission[\"id\"] = df_test[\"id\"].to_list()"
   ]
  },
  {
   "cell_type": "code",
   "execution_count": 32,
   "id": "c5d04cb6",
   "metadata": {},
   "outputs": [],
   "source": [
    "df_test.drop(columns=[\"id\"], inplace=True)"
   ]
  },
  {
   "cell_type": "code",
   "execution_count": 33,
   "id": "fee6b8a1",
   "metadata": {},
   "outputs": [],
   "source": [
    "df_test = pd.get_dummies(df_test)"
   ]
  },
  {
   "cell_type": "code",
   "execution_count": 34,
   "id": "9aef662a",
   "metadata": {},
   "outputs": [
    {
     "data": {
      "text/plain": [
       "array([1, 0, 1, ..., 1, 1, 0], shape=(6175,))"
      ]
     },
     "execution_count": 34,
     "metadata": {},
     "output_type": "execute_result"
    }
   ],
   "source": [
    "res = model.predict(df_test)\n",
    "res"
   ]
  },
  {
   "cell_type": "code",
   "execution_count": 35,
   "id": "af8d5ef9",
   "metadata": {},
   "outputs": [
    {
     "data": {
      "application/vnd.microsoft.datawrangler.viewer.v0+json": {
       "columns": [
        {
         "name": "index",
         "rawType": "int64",
         "type": "integer"
        },
        {
         "name": "id",
         "rawType": "int64",
         "type": "integer"
        },
        {
         "name": "Personality",
         "rawType": "int64",
         "type": "integer"
        }
       ],
       "ref": "26882df6-720c-430a-9446-eb22c5500271",
       "rows": [
        [
         "0",
         "18524",
         "1"
        ],
        [
         "1",
         "18525",
         "0"
        ],
        [
         "2",
         "18526",
         "1"
        ],
        [
         "3",
         "18527",
         "1"
        ],
        [
         "4",
         "18528",
         "0"
        ],
        [
         "5",
         "18529",
         "1"
        ],
        [
         "6",
         "18530",
         "1"
        ],
        [
         "7",
         "18531",
         "0"
        ],
        [
         "8",
         "18532",
         "1"
        ],
        [
         "9",
         "18533",
         "0"
        ],
        [
         "10",
         "18534",
         "1"
        ],
        [
         "11",
         "18535",
         "1"
        ],
        [
         "12",
         "18536",
         "0"
        ],
        [
         "13",
         "18537",
         "1"
        ],
        [
         "14",
         "18538",
         "0"
        ],
        [
         "15",
         "18539",
         "1"
        ],
        [
         "16",
         "18540",
         "1"
        ],
        [
         "17",
         "18541",
         "1"
        ],
        [
         "18",
         "18542",
         "0"
        ],
        [
         "19",
         "18543",
         "1"
        ],
        [
         "20",
         "18544",
         "0"
        ],
        [
         "21",
         "18545",
         "0"
        ],
        [
         "22",
         "18546",
         "1"
        ],
        [
         "23",
         "18547",
         "0"
        ],
        [
         "24",
         "18548",
         "1"
        ],
        [
         "25",
         "18549",
         "1"
        ],
        [
         "26",
         "18550",
         "1"
        ],
        [
         "27",
         "18551",
         "1"
        ],
        [
         "28",
         "18552",
         "0"
        ],
        [
         "29",
         "18553",
         "0"
        ],
        [
         "30",
         "18554",
         "1"
        ],
        [
         "31",
         "18555",
         "1"
        ],
        [
         "32",
         "18556",
         "0"
        ],
        [
         "33",
         "18557",
         "1"
        ],
        [
         "34",
         "18558",
         "1"
        ],
        [
         "35",
         "18559",
         "1"
        ],
        [
         "36",
         "18560",
         "1"
        ],
        [
         "37",
         "18561",
         "1"
        ],
        [
         "38",
         "18562",
         "1"
        ],
        [
         "39",
         "18563",
         "1"
        ],
        [
         "40",
         "18564",
         "0"
        ],
        [
         "41",
         "18565",
         "0"
        ],
        [
         "42",
         "18566",
         "0"
        ],
        [
         "43",
         "18567",
         "0"
        ],
        [
         "44",
         "18568",
         "1"
        ],
        [
         "45",
         "18569",
         "0"
        ],
        [
         "46",
         "18570",
         "1"
        ],
        [
         "47",
         "18571",
         "0"
        ],
        [
         "48",
         "18572",
         "1"
        ],
        [
         "49",
         "18573",
         "1"
        ]
       ],
       "shape": {
        "columns": 2,
        "rows": 6175
       }
      },
      "text/html": [
       "<div>\n",
       "<style scoped>\n",
       "    .dataframe tbody tr th:only-of-type {\n",
       "        vertical-align: middle;\n",
       "    }\n",
       "\n",
       "    .dataframe tbody tr th {\n",
       "        vertical-align: top;\n",
       "    }\n",
       "\n",
       "    .dataframe thead th {\n",
       "        text-align: right;\n",
       "    }\n",
       "</style>\n",
       "<table border=\"1\" class=\"dataframe\">\n",
       "  <thead>\n",
       "    <tr style=\"text-align: right;\">\n",
       "      <th></th>\n",
       "      <th>id</th>\n",
       "      <th>Personality</th>\n",
       "    </tr>\n",
       "  </thead>\n",
       "  <tbody>\n",
       "    <tr>\n",
       "      <th>0</th>\n",
       "      <td>18524</td>\n",
       "      <td>1</td>\n",
       "    </tr>\n",
       "    <tr>\n",
       "      <th>1</th>\n",
       "      <td>18525</td>\n",
       "      <td>0</td>\n",
       "    </tr>\n",
       "    <tr>\n",
       "      <th>2</th>\n",
       "      <td>18526</td>\n",
       "      <td>1</td>\n",
       "    </tr>\n",
       "    <tr>\n",
       "      <th>3</th>\n",
       "      <td>18527</td>\n",
       "      <td>1</td>\n",
       "    </tr>\n",
       "    <tr>\n",
       "      <th>4</th>\n",
       "      <td>18528</td>\n",
       "      <td>0</td>\n",
       "    </tr>\n",
       "    <tr>\n",
       "      <th>...</th>\n",
       "      <td>...</td>\n",
       "      <td>...</td>\n",
       "    </tr>\n",
       "    <tr>\n",
       "      <th>6170</th>\n",
       "      <td>24694</td>\n",
       "      <td>1</td>\n",
       "    </tr>\n",
       "    <tr>\n",
       "      <th>6171</th>\n",
       "      <td>24695</td>\n",
       "      <td>0</td>\n",
       "    </tr>\n",
       "    <tr>\n",
       "      <th>6172</th>\n",
       "      <td>24696</td>\n",
       "      <td>1</td>\n",
       "    </tr>\n",
       "    <tr>\n",
       "      <th>6173</th>\n",
       "      <td>24697</td>\n",
       "      <td>1</td>\n",
       "    </tr>\n",
       "    <tr>\n",
       "      <th>6174</th>\n",
       "      <td>24698</td>\n",
       "      <td>0</td>\n",
       "    </tr>\n",
       "  </tbody>\n",
       "</table>\n",
       "<p>6175 rows × 2 columns</p>\n",
       "</div>"
      ],
      "text/plain": [
       "         id  Personality\n",
       "0     18524            1\n",
       "1     18525            0\n",
       "2     18526            1\n",
       "3     18527            1\n",
       "4     18528            0\n",
       "...     ...          ...\n",
       "6170  24694            1\n",
       "6171  24695            0\n",
       "6172  24696            1\n",
       "6173  24697            1\n",
       "6174  24698            0\n",
       "\n",
       "[6175 rows x 2 columns]"
      ]
     },
     "execution_count": 35,
     "metadata": {},
     "output_type": "execute_result"
    }
   ],
   "source": [
    "submission[\"Personality\"] = res.tolist()\n",
    "submission"
   ]
  },
  {
   "cell_type": "code",
   "execution_count": 36,
   "id": "345ca112",
   "metadata": {},
   "outputs": [
    {
     "data": {
      "application/vnd.microsoft.datawrangler.viewer.v0+json": {
       "columns": [
        {
         "name": "index",
         "rawType": "int64",
         "type": "integer"
        },
        {
         "name": "id",
         "rawType": "int64",
         "type": "integer"
        },
        {
         "name": "Personality",
         "rawType": "object",
         "type": "string"
        }
       ],
       "ref": "2bb3506f-80c9-4534-acfd-ecf6603d463f",
       "rows": [
        [
         "0",
         "18524",
         "Extrovert"
        ],
        [
         "1",
         "18525",
         "Introvert"
        ],
        [
         "2",
         "18526",
         "Extrovert"
        ],
        [
         "3",
         "18527",
         "Extrovert"
        ],
        [
         "4",
         "18528",
         "Introvert"
        ],
        [
         "5",
         "18529",
         "Extrovert"
        ],
        [
         "6",
         "18530",
         "Extrovert"
        ],
        [
         "7",
         "18531",
         "Introvert"
        ],
        [
         "8",
         "18532",
         "Extrovert"
        ],
        [
         "9",
         "18533",
         "Introvert"
        ],
        [
         "10",
         "18534",
         "Extrovert"
        ],
        [
         "11",
         "18535",
         "Extrovert"
        ],
        [
         "12",
         "18536",
         "Introvert"
        ],
        [
         "13",
         "18537",
         "Extrovert"
        ],
        [
         "14",
         "18538",
         "Introvert"
        ],
        [
         "15",
         "18539",
         "Extrovert"
        ],
        [
         "16",
         "18540",
         "Extrovert"
        ],
        [
         "17",
         "18541",
         "Extrovert"
        ],
        [
         "18",
         "18542",
         "Introvert"
        ],
        [
         "19",
         "18543",
         "Extrovert"
        ],
        [
         "20",
         "18544",
         "Introvert"
        ],
        [
         "21",
         "18545",
         "Introvert"
        ],
        [
         "22",
         "18546",
         "Extrovert"
        ],
        [
         "23",
         "18547",
         "Introvert"
        ],
        [
         "24",
         "18548",
         "Extrovert"
        ],
        [
         "25",
         "18549",
         "Extrovert"
        ],
        [
         "26",
         "18550",
         "Extrovert"
        ],
        [
         "27",
         "18551",
         "Extrovert"
        ],
        [
         "28",
         "18552",
         "Introvert"
        ],
        [
         "29",
         "18553",
         "Introvert"
        ],
        [
         "30",
         "18554",
         "Extrovert"
        ],
        [
         "31",
         "18555",
         "Extrovert"
        ],
        [
         "32",
         "18556",
         "Introvert"
        ],
        [
         "33",
         "18557",
         "Extrovert"
        ],
        [
         "34",
         "18558",
         "Extrovert"
        ],
        [
         "35",
         "18559",
         "Extrovert"
        ],
        [
         "36",
         "18560",
         "Extrovert"
        ],
        [
         "37",
         "18561",
         "Extrovert"
        ],
        [
         "38",
         "18562",
         "Extrovert"
        ],
        [
         "39",
         "18563",
         "Extrovert"
        ],
        [
         "40",
         "18564",
         "Introvert"
        ],
        [
         "41",
         "18565",
         "Introvert"
        ],
        [
         "42",
         "18566",
         "Introvert"
        ],
        [
         "43",
         "18567",
         "Introvert"
        ],
        [
         "44",
         "18568",
         "Extrovert"
        ],
        [
         "45",
         "18569",
         "Introvert"
        ],
        [
         "46",
         "18570",
         "Extrovert"
        ],
        [
         "47",
         "18571",
         "Introvert"
        ],
        [
         "48",
         "18572",
         "Extrovert"
        ],
        [
         "49",
         "18573",
         "Extrovert"
        ]
       ],
       "shape": {
        "columns": 2,
        "rows": 6175
       }
      },
      "text/html": [
       "<div>\n",
       "<style scoped>\n",
       "    .dataframe tbody tr th:only-of-type {\n",
       "        vertical-align: middle;\n",
       "    }\n",
       "\n",
       "    .dataframe tbody tr th {\n",
       "        vertical-align: top;\n",
       "    }\n",
       "\n",
       "    .dataframe thead th {\n",
       "        text-align: right;\n",
       "    }\n",
       "</style>\n",
       "<table border=\"1\" class=\"dataframe\">\n",
       "  <thead>\n",
       "    <tr style=\"text-align: right;\">\n",
       "      <th></th>\n",
       "      <th>id</th>\n",
       "      <th>Personality</th>\n",
       "    </tr>\n",
       "  </thead>\n",
       "  <tbody>\n",
       "    <tr>\n",
       "      <th>0</th>\n",
       "      <td>18524</td>\n",
       "      <td>Extrovert</td>\n",
       "    </tr>\n",
       "    <tr>\n",
       "      <th>1</th>\n",
       "      <td>18525</td>\n",
       "      <td>Introvert</td>\n",
       "    </tr>\n",
       "    <tr>\n",
       "      <th>2</th>\n",
       "      <td>18526</td>\n",
       "      <td>Extrovert</td>\n",
       "    </tr>\n",
       "    <tr>\n",
       "      <th>3</th>\n",
       "      <td>18527</td>\n",
       "      <td>Extrovert</td>\n",
       "    </tr>\n",
       "    <tr>\n",
       "      <th>4</th>\n",
       "      <td>18528</td>\n",
       "      <td>Introvert</td>\n",
       "    </tr>\n",
       "    <tr>\n",
       "      <th>...</th>\n",
       "      <td>...</td>\n",
       "      <td>...</td>\n",
       "    </tr>\n",
       "    <tr>\n",
       "      <th>6170</th>\n",
       "      <td>24694</td>\n",
       "      <td>Extrovert</td>\n",
       "    </tr>\n",
       "    <tr>\n",
       "      <th>6171</th>\n",
       "      <td>24695</td>\n",
       "      <td>Introvert</td>\n",
       "    </tr>\n",
       "    <tr>\n",
       "      <th>6172</th>\n",
       "      <td>24696</td>\n",
       "      <td>Extrovert</td>\n",
       "    </tr>\n",
       "    <tr>\n",
       "      <th>6173</th>\n",
       "      <td>24697</td>\n",
       "      <td>Extrovert</td>\n",
       "    </tr>\n",
       "    <tr>\n",
       "      <th>6174</th>\n",
       "      <td>24698</td>\n",
       "      <td>Introvert</td>\n",
       "    </tr>\n",
       "  </tbody>\n",
       "</table>\n",
       "<p>6175 rows × 2 columns</p>\n",
       "</div>"
      ],
      "text/plain": [
       "         id Personality\n",
       "0     18524   Extrovert\n",
       "1     18525   Introvert\n",
       "2     18526   Extrovert\n",
       "3     18527   Extrovert\n",
       "4     18528   Introvert\n",
       "...     ...         ...\n",
       "6170  24694   Extrovert\n",
       "6171  24695   Introvert\n",
       "6172  24696   Extrovert\n",
       "6173  24697   Extrovert\n",
       "6174  24698   Introvert\n",
       "\n",
       "[6175 rows x 2 columns]"
      ]
     },
     "execution_count": 36,
     "metadata": {},
     "output_type": "execute_result"
    }
   ],
   "source": [
    "submission[\"Personality\"] = submission[\"Personality\"].map({0: \"Introvert\", 1: \"Extrovert\"})\n",
    "submission"
   ]
  },
  {
   "cell_type": "code",
   "execution_count": null,
   "id": "823efd58",
   "metadata": {},
   "outputs": [],
   "source": [
    "submission.to_csv(\"submission.csv\",index=False)"
   ]
  },
  {
   "cell_type": "code",
   "execution_count": null,
   "id": "c362f779",
   "metadata": {},
   "outputs": [],
   "source": []
  }
 ],
 "metadata": {
  "kernelspec": {
   "display_name": "predict-the-introverts-from-the-extroverts",
   "language": "python",
   "name": "python3"
  },
  "language_info": {
   "codemirror_mode": {
    "name": "ipython",
    "version": 3
   },
   "file_extension": ".py",
   "mimetype": "text/x-python",
   "name": "python",
   "nbconvert_exporter": "python",
   "pygments_lexer": "ipython3",
   "version": "3.13.5"
  }
 },
 "nbformat": 4,
 "nbformat_minor": 5
}
