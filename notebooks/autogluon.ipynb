{
 "cells": [
  {
   "cell_type": "code",
   "execution_count": 1,
   "id": "fe3b327f",
   "metadata": {},
   "outputs": [],
   "source": [
    "import pandas as pd"
   ]
  },
  {
   "cell_type": "code",
   "execution_count": 2,
   "id": "bf8292b9",
   "metadata": {},
   "outputs": [
    {
     "data": {
      "application/vnd.microsoft.datawrangler.viewer.v0+json": {
       "columns": [
        {
         "name": "index",
         "rawType": "int64",
         "type": "integer"
        },
        {
         "name": "id",
         "rawType": "int64",
         "type": "integer"
        },
        {
         "name": "Time_spent_Alone",
         "rawType": "float64",
         "type": "float"
        },
        {
         "name": "Stage_fear",
         "rawType": "object",
         "type": "string"
        },
        {
         "name": "Social_event_attendance",
         "rawType": "float64",
         "type": "float"
        },
        {
         "name": "Going_outside",
         "rawType": "float64",
         "type": "float"
        },
        {
         "name": "Drained_after_socializing",
         "rawType": "object",
         "type": "unknown"
        },
        {
         "name": "Friends_circle_size",
         "rawType": "float64",
         "type": "float"
        },
        {
         "name": "Post_frequency",
         "rawType": "float64",
         "type": "float"
        },
        {
         "name": "Personality",
         "rawType": "object",
         "type": "string"
        }
       ],
       "ref": "970c8174-ff76-4d43-8d1b-95ba77511764",
       "rows": [
        [
         "0",
         "0",
         "0.0",
         "No",
         "6.0",
         "4.0",
         "No",
         "15.0",
         "5.0",
         "Extrovert"
        ],
        [
         "1",
         "1",
         "1.0",
         "No",
         "7.0",
         "3.0",
         "No",
         "10.0",
         "8.0",
         "Extrovert"
        ],
        [
         "2",
         "2",
         "6.0",
         "Yes",
         "1.0",
         "0.0",
         null,
         "3.0",
         "0.0",
         "Introvert"
        ],
        [
         "3",
         "3",
         "3.0",
         "No",
         "7.0",
         "3.0",
         "No",
         "11.0",
         "5.0",
         "Extrovert"
        ],
        [
         "4",
         "4",
         "1.0",
         "No",
         "4.0",
         "4.0",
         "No",
         "13.0",
         null,
         "Extrovert"
        ]
       ],
       "shape": {
        "columns": 9,
        "rows": 5
       }
      },
      "text/html": [
       "<div>\n",
       "<style scoped>\n",
       "    .dataframe tbody tr th:only-of-type {\n",
       "        vertical-align: middle;\n",
       "    }\n",
       "\n",
       "    .dataframe tbody tr th {\n",
       "        vertical-align: top;\n",
       "    }\n",
       "\n",
       "    .dataframe thead th {\n",
       "        text-align: right;\n",
       "    }\n",
       "</style>\n",
       "<table border=\"1\" class=\"dataframe\">\n",
       "  <thead>\n",
       "    <tr style=\"text-align: right;\">\n",
       "      <th></th>\n",
       "      <th>id</th>\n",
       "      <th>Time_spent_Alone</th>\n",
       "      <th>Stage_fear</th>\n",
       "      <th>Social_event_attendance</th>\n",
       "      <th>Going_outside</th>\n",
       "      <th>Drained_after_socializing</th>\n",
       "      <th>Friends_circle_size</th>\n",
       "      <th>Post_frequency</th>\n",
       "      <th>Personality</th>\n",
       "    </tr>\n",
       "  </thead>\n",
       "  <tbody>\n",
       "    <tr>\n",
       "      <th>0</th>\n",
       "      <td>0</td>\n",
       "      <td>0.0</td>\n",
       "      <td>No</td>\n",
       "      <td>6.0</td>\n",
       "      <td>4.0</td>\n",
       "      <td>No</td>\n",
       "      <td>15.0</td>\n",
       "      <td>5.0</td>\n",
       "      <td>Extrovert</td>\n",
       "    </tr>\n",
       "    <tr>\n",
       "      <th>1</th>\n",
       "      <td>1</td>\n",
       "      <td>1.0</td>\n",
       "      <td>No</td>\n",
       "      <td>7.0</td>\n",
       "      <td>3.0</td>\n",
       "      <td>No</td>\n",
       "      <td>10.0</td>\n",
       "      <td>8.0</td>\n",
       "      <td>Extrovert</td>\n",
       "    </tr>\n",
       "    <tr>\n",
       "      <th>2</th>\n",
       "      <td>2</td>\n",
       "      <td>6.0</td>\n",
       "      <td>Yes</td>\n",
       "      <td>1.0</td>\n",
       "      <td>0.0</td>\n",
       "      <td>NaN</td>\n",
       "      <td>3.0</td>\n",
       "      <td>0.0</td>\n",
       "      <td>Introvert</td>\n",
       "    </tr>\n",
       "    <tr>\n",
       "      <th>3</th>\n",
       "      <td>3</td>\n",
       "      <td>3.0</td>\n",
       "      <td>No</td>\n",
       "      <td>7.0</td>\n",
       "      <td>3.0</td>\n",
       "      <td>No</td>\n",
       "      <td>11.0</td>\n",
       "      <td>5.0</td>\n",
       "      <td>Extrovert</td>\n",
       "    </tr>\n",
       "    <tr>\n",
       "      <th>4</th>\n",
       "      <td>4</td>\n",
       "      <td>1.0</td>\n",
       "      <td>No</td>\n",
       "      <td>4.0</td>\n",
       "      <td>4.0</td>\n",
       "      <td>No</td>\n",
       "      <td>13.0</td>\n",
       "      <td>NaN</td>\n",
       "      <td>Extrovert</td>\n",
       "    </tr>\n",
       "  </tbody>\n",
       "</table>\n",
       "</div>"
      ],
      "text/plain": [
       "   id  Time_spent_Alone Stage_fear  Social_event_attendance  Going_outside  \\\n",
       "0   0               0.0         No                      6.0            4.0   \n",
       "1   1               1.0         No                      7.0            3.0   \n",
       "2   2               6.0        Yes                      1.0            0.0   \n",
       "3   3               3.0         No                      7.0            3.0   \n",
       "4   4               1.0         No                      4.0            4.0   \n",
       "\n",
       "  Drained_after_socializing  Friends_circle_size  Post_frequency Personality  \n",
       "0                        No                 15.0             5.0   Extrovert  \n",
       "1                        No                 10.0             8.0   Extrovert  \n",
       "2                       NaN                  3.0             0.0   Introvert  \n",
       "3                        No                 11.0             5.0   Extrovert  \n",
       "4                        No                 13.0             NaN   Extrovert  "
      ]
     },
     "execution_count": 2,
     "metadata": {},
     "output_type": "execute_result"
    }
   ],
   "source": [
    "df = pd.read_csv(\"../data/train.csv\")\n",
    "df.head()"
   ]
  },
  {
   "cell_type": "code",
   "execution_count": 3,
   "id": "727c7220",
   "metadata": {},
   "outputs": [
    {
     "data": {
      "text/plain": [
       "(18524, 9)"
      ]
     },
     "execution_count": 3,
     "metadata": {},
     "output_type": "execute_result"
    }
   ],
   "source": [
    "df.shape"
   ]
  },
  {
   "cell_type": "code",
   "execution_count": 4,
   "id": "de0d3abc",
   "metadata": {},
   "outputs": [
    {
     "name": "stdout",
     "output_type": "stream",
     "text": [
      "<class 'pandas.core.frame.DataFrame'>\n",
      "RangeIndex: 18524 entries, 0 to 18523\n",
      "Data columns (total 9 columns):\n",
      " #   Column                     Non-Null Count  Dtype  \n",
      "---  ------                     --------------  -----  \n",
      " 0   id                         18524 non-null  int64  \n",
      " 1   Time_spent_Alone           17334 non-null  float64\n",
      " 2   Stage_fear                 16631 non-null  object \n",
      " 3   Social_event_attendance    17344 non-null  float64\n",
      " 4   Going_outside              17058 non-null  float64\n",
      " 5   Drained_after_socializing  17375 non-null  object \n",
      " 6   Friends_circle_size        17470 non-null  float64\n",
      " 7   Post_frequency             17260 non-null  float64\n",
      " 8   Personality                18524 non-null  object \n",
      "dtypes: float64(5), int64(1), object(3)\n",
      "memory usage: 1.3+ MB\n"
     ]
    }
   ],
   "source": [
    "df.info()"
   ]
  },
  {
   "cell_type": "code",
   "execution_count": 5,
   "id": "4cd446b1",
   "metadata": {},
   "outputs": [
    {
     "data": {
      "text/plain": [
       "18524"
      ]
     },
     "execution_count": 5,
     "metadata": {},
     "output_type": "execute_result"
    }
   ],
   "source": [
    "df[\"id\"].unique().size"
   ]
  },
  {
   "cell_type": "markdown",
   "id": "ed32412b",
   "metadata": {},
   "source": [
    "Since the number of data samples and the unique values in \"id\" column is matching, dropping the column."
   ]
  },
  {
   "cell_type": "code",
   "execution_count": 6,
   "id": "60d33dc9",
   "metadata": {},
   "outputs": [],
   "source": [
    "df.drop(columns=[\"id\"], inplace=True)"
   ]
  },
  {
   "cell_type": "code",
   "execution_count": 7,
   "id": "5ca4d999",
   "metadata": {},
   "outputs": [
    {
     "name": "stdout",
     "output_type": "stream",
     "text": [
      "<class 'pandas.core.frame.DataFrame'>\n",
      "RangeIndex: 18524 entries, 0 to 18523\n",
      "Data columns (total 8 columns):\n",
      " #   Column                     Non-Null Count  Dtype  \n",
      "---  ------                     --------------  -----  \n",
      " 0   Time_spent_Alone           17334 non-null  float64\n",
      " 1   Stage_fear                 16631 non-null  object \n",
      " 2   Social_event_attendance    17344 non-null  float64\n",
      " 3   Going_outside              17058 non-null  float64\n",
      " 4   Drained_after_socializing  17375 non-null  object \n",
      " 5   Friends_circle_size        17470 non-null  float64\n",
      " 6   Post_frequency             17260 non-null  float64\n",
      " 7   Personality                18524 non-null  object \n",
      "dtypes: float64(5), object(3)\n",
      "memory usage: 1.1+ MB\n"
     ]
    }
   ],
   "source": [
    "df.info()"
   ]
  },
  {
   "cell_type": "code",
   "execution_count": 8,
   "id": "6987a673",
   "metadata": {},
   "outputs": [
    {
     "data": {
      "application/vnd.microsoft.datawrangler.viewer.v0+json": {
       "columns": [
        {
         "name": "index",
         "rawType": "object",
         "type": "string"
        },
        {
         "name": "Time_spent_Alone",
         "rawType": "float64",
         "type": "float"
        },
        {
         "name": "Social_event_attendance",
         "rawType": "float64",
         "type": "float"
        },
        {
         "name": "Going_outside",
         "rawType": "float64",
         "type": "float"
        },
        {
         "name": "Friends_circle_size",
         "rawType": "float64",
         "type": "float"
        },
        {
         "name": "Post_frequency",
         "rawType": "float64",
         "type": "float"
        }
       ],
       "ref": "dbaabd52-78ce-4b25-97bc-713cc1d9ffe6",
       "rows": [
        [
         "count",
         "17334.0",
         "17344.0",
         "17058.0",
         "17470.0",
         "17260.0"
        ],
        [
         "mean",
         "3.1377639321564557",
         "5.265106088560886",
         "4.044319380935631",
         "7.996737263880939",
         "4.982097334878332"
        ],
        [
         "std",
         "3.0037863347217413",
         "2.753359060440941",
         "2.0625798113009637",
         "4.223483912812513",
         "2.879138992717586"
        ],
        [
         "min",
         "0.0",
         "0.0",
         "0.0",
         "0.0",
         "0.0"
        ],
        [
         "25%",
         "1.0",
         "3.0",
         "3.0",
         "5.0",
         "3.0"
        ],
        [
         "50%",
         "2.0",
         "5.0",
         "4.0",
         "8.0",
         "5.0"
        ],
        [
         "75%",
         "4.0",
         "8.0",
         "6.0",
         "12.0",
         "7.0"
        ],
        [
         "max",
         "11.0",
         "10.0",
         "7.0",
         "15.0",
         "10.0"
        ]
       ],
       "shape": {
        "columns": 5,
        "rows": 8
       }
      },
      "text/html": [
       "<div>\n",
       "<style scoped>\n",
       "    .dataframe tbody tr th:only-of-type {\n",
       "        vertical-align: middle;\n",
       "    }\n",
       "\n",
       "    .dataframe tbody tr th {\n",
       "        vertical-align: top;\n",
       "    }\n",
       "\n",
       "    .dataframe thead th {\n",
       "        text-align: right;\n",
       "    }\n",
       "</style>\n",
       "<table border=\"1\" class=\"dataframe\">\n",
       "  <thead>\n",
       "    <tr style=\"text-align: right;\">\n",
       "      <th></th>\n",
       "      <th>Time_spent_Alone</th>\n",
       "      <th>Social_event_attendance</th>\n",
       "      <th>Going_outside</th>\n",
       "      <th>Friends_circle_size</th>\n",
       "      <th>Post_frequency</th>\n",
       "    </tr>\n",
       "  </thead>\n",
       "  <tbody>\n",
       "    <tr>\n",
       "      <th>count</th>\n",
       "      <td>17334.000000</td>\n",
       "      <td>17344.000000</td>\n",
       "      <td>17058.000000</td>\n",
       "      <td>17470.000000</td>\n",
       "      <td>17260.000000</td>\n",
       "    </tr>\n",
       "    <tr>\n",
       "      <th>mean</th>\n",
       "      <td>3.137764</td>\n",
       "      <td>5.265106</td>\n",
       "      <td>4.044319</td>\n",
       "      <td>7.996737</td>\n",
       "      <td>4.982097</td>\n",
       "    </tr>\n",
       "    <tr>\n",
       "      <th>std</th>\n",
       "      <td>3.003786</td>\n",
       "      <td>2.753359</td>\n",
       "      <td>2.062580</td>\n",
       "      <td>4.223484</td>\n",
       "      <td>2.879139</td>\n",
       "    </tr>\n",
       "    <tr>\n",
       "      <th>min</th>\n",
       "      <td>0.000000</td>\n",
       "      <td>0.000000</td>\n",
       "      <td>0.000000</td>\n",
       "      <td>0.000000</td>\n",
       "      <td>0.000000</td>\n",
       "    </tr>\n",
       "    <tr>\n",
       "      <th>25%</th>\n",
       "      <td>1.000000</td>\n",
       "      <td>3.000000</td>\n",
       "      <td>3.000000</td>\n",
       "      <td>5.000000</td>\n",
       "      <td>3.000000</td>\n",
       "    </tr>\n",
       "    <tr>\n",
       "      <th>50%</th>\n",
       "      <td>2.000000</td>\n",
       "      <td>5.000000</td>\n",
       "      <td>4.000000</td>\n",
       "      <td>8.000000</td>\n",
       "      <td>5.000000</td>\n",
       "    </tr>\n",
       "    <tr>\n",
       "      <th>75%</th>\n",
       "      <td>4.000000</td>\n",
       "      <td>8.000000</td>\n",
       "      <td>6.000000</td>\n",
       "      <td>12.000000</td>\n",
       "      <td>7.000000</td>\n",
       "    </tr>\n",
       "    <tr>\n",
       "      <th>max</th>\n",
       "      <td>11.000000</td>\n",
       "      <td>10.000000</td>\n",
       "      <td>7.000000</td>\n",
       "      <td>15.000000</td>\n",
       "      <td>10.000000</td>\n",
       "    </tr>\n",
       "  </tbody>\n",
       "</table>\n",
       "</div>"
      ],
      "text/plain": [
       "       Time_spent_Alone  Social_event_attendance  Going_outside  \\\n",
       "count      17334.000000             17344.000000   17058.000000   \n",
       "mean           3.137764                 5.265106       4.044319   \n",
       "std            3.003786                 2.753359       2.062580   \n",
       "min            0.000000                 0.000000       0.000000   \n",
       "25%            1.000000                 3.000000       3.000000   \n",
       "50%            2.000000                 5.000000       4.000000   \n",
       "75%            4.000000                 8.000000       6.000000   \n",
       "max           11.000000                10.000000       7.000000   \n",
       "\n",
       "       Friends_circle_size  Post_frequency  \n",
       "count         17470.000000    17260.000000  \n",
       "mean              7.996737        4.982097  \n",
       "std               4.223484        2.879139  \n",
       "min               0.000000        0.000000  \n",
       "25%               5.000000        3.000000  \n",
       "50%               8.000000        5.000000  \n",
       "75%              12.000000        7.000000  \n",
       "max              15.000000       10.000000  "
      ]
     },
     "execution_count": 8,
     "metadata": {},
     "output_type": "execute_result"
    }
   ],
   "source": [
    "df.describe()"
   ]
  },
  {
   "cell_type": "code",
   "execution_count": 9,
   "id": "92a65fcf",
   "metadata": {},
   "outputs": [
    {
     "data": {
      "application/vnd.microsoft.datawrangler.viewer.v0+json": {
       "columns": [
        {
         "name": "index",
         "rawType": "int64",
         "type": "integer"
        },
        {
         "name": "Time_spent_Alone",
         "rawType": "float64",
         "type": "float"
        },
        {
         "name": "Stage_fear",
         "rawType": "object",
         "type": "string"
        },
        {
         "name": "Social_event_attendance",
         "rawType": "float64",
         "type": "float"
        },
        {
         "name": "Going_outside",
         "rawType": "float64",
         "type": "float"
        },
        {
         "name": "Drained_after_socializing",
         "rawType": "object",
         "type": "unknown"
        },
        {
         "name": "Friends_circle_size",
         "rawType": "float64",
         "type": "float"
        },
        {
         "name": "Post_frequency",
         "rawType": "float64",
         "type": "float"
        },
        {
         "name": "Personality",
         "rawType": "object",
         "type": "string"
        }
       ],
       "ref": "f282b3df-5569-48fa-a16d-c263b8421ee1",
       "rows": [
        [
         "0",
         "0.0",
         "No",
         "6.0",
         "4.0",
         "No",
         "15.0",
         "5.0",
         "Extrovert"
        ],
        [
         "1",
         "1.0",
         "No",
         "7.0",
         "3.0",
         "No",
         "10.0",
         "8.0",
         "Extrovert"
        ],
        [
         "2",
         "6.0",
         "Yes",
         "1.0",
         "0.0",
         null,
         "3.0",
         "0.0",
         "Introvert"
        ],
        [
         "3",
         "3.0",
         "No",
         "7.0",
         "3.0",
         "No",
         "11.0",
         "5.0",
         "Extrovert"
        ],
        [
         "4",
         "1.0",
         "No",
         "4.0",
         "4.0",
         "No",
         "13.0",
         null,
         "Extrovert"
        ]
       ],
       "shape": {
        "columns": 8,
        "rows": 5
       }
      },
      "text/html": [
       "<div>\n",
       "<style scoped>\n",
       "    .dataframe tbody tr th:only-of-type {\n",
       "        vertical-align: middle;\n",
       "    }\n",
       "\n",
       "    .dataframe tbody tr th {\n",
       "        vertical-align: top;\n",
       "    }\n",
       "\n",
       "    .dataframe thead th {\n",
       "        text-align: right;\n",
       "    }\n",
       "</style>\n",
       "<table border=\"1\" class=\"dataframe\">\n",
       "  <thead>\n",
       "    <tr style=\"text-align: right;\">\n",
       "      <th></th>\n",
       "      <th>Time_spent_Alone</th>\n",
       "      <th>Stage_fear</th>\n",
       "      <th>Social_event_attendance</th>\n",
       "      <th>Going_outside</th>\n",
       "      <th>Drained_after_socializing</th>\n",
       "      <th>Friends_circle_size</th>\n",
       "      <th>Post_frequency</th>\n",
       "      <th>Personality</th>\n",
       "    </tr>\n",
       "  </thead>\n",
       "  <tbody>\n",
       "    <tr>\n",
       "      <th>0</th>\n",
       "      <td>0.0</td>\n",
       "      <td>No</td>\n",
       "      <td>6.0</td>\n",
       "      <td>4.0</td>\n",
       "      <td>No</td>\n",
       "      <td>15.0</td>\n",
       "      <td>5.0</td>\n",
       "      <td>Extrovert</td>\n",
       "    </tr>\n",
       "    <tr>\n",
       "      <th>1</th>\n",
       "      <td>1.0</td>\n",
       "      <td>No</td>\n",
       "      <td>7.0</td>\n",
       "      <td>3.0</td>\n",
       "      <td>No</td>\n",
       "      <td>10.0</td>\n",
       "      <td>8.0</td>\n",
       "      <td>Extrovert</td>\n",
       "    </tr>\n",
       "    <tr>\n",
       "      <th>2</th>\n",
       "      <td>6.0</td>\n",
       "      <td>Yes</td>\n",
       "      <td>1.0</td>\n",
       "      <td>0.0</td>\n",
       "      <td>NaN</td>\n",
       "      <td>3.0</td>\n",
       "      <td>0.0</td>\n",
       "      <td>Introvert</td>\n",
       "    </tr>\n",
       "    <tr>\n",
       "      <th>3</th>\n",
       "      <td>3.0</td>\n",
       "      <td>No</td>\n",
       "      <td>7.0</td>\n",
       "      <td>3.0</td>\n",
       "      <td>No</td>\n",
       "      <td>11.0</td>\n",
       "      <td>5.0</td>\n",
       "      <td>Extrovert</td>\n",
       "    </tr>\n",
       "    <tr>\n",
       "      <th>4</th>\n",
       "      <td>1.0</td>\n",
       "      <td>No</td>\n",
       "      <td>4.0</td>\n",
       "      <td>4.0</td>\n",
       "      <td>No</td>\n",
       "      <td>13.0</td>\n",
       "      <td>NaN</td>\n",
       "      <td>Extrovert</td>\n",
       "    </tr>\n",
       "  </tbody>\n",
       "</table>\n",
       "</div>"
      ],
      "text/plain": [
       "   Time_spent_Alone Stage_fear  Social_event_attendance  Going_outside  \\\n",
       "0               0.0         No                      6.0            4.0   \n",
       "1               1.0         No                      7.0            3.0   \n",
       "2               6.0        Yes                      1.0            0.0   \n",
       "3               3.0         No                      7.0            3.0   \n",
       "4               1.0         No                      4.0            4.0   \n",
       "\n",
       "  Drained_after_socializing  Friends_circle_size  Post_frequency Personality  \n",
       "0                        No                 15.0             5.0   Extrovert  \n",
       "1                        No                 10.0             8.0   Extrovert  \n",
       "2                       NaN                  3.0             0.0   Introvert  \n",
       "3                        No                 11.0             5.0   Extrovert  \n",
       "4                        No                 13.0             NaN   Extrovert  "
      ]
     },
     "execution_count": 9,
     "metadata": {},
     "output_type": "execute_result"
    }
   ],
   "source": [
    "df.head()"
   ]
  },
  {
   "cell_type": "code",
   "execution_count": 10,
   "id": "5cdc9b71",
   "metadata": {},
   "outputs": [
    {
     "data": {
      "application/vnd.microsoft.datawrangler.viewer.v0+json": {
       "columns": [
        {
         "name": "index",
         "rawType": "object",
         "type": "string"
        },
        {
         "name": "0",
         "rawType": "int64",
         "type": "integer"
        }
       ],
       "ref": "3a778416-2745-48a7-b1b1-aca8489dbfb7",
       "rows": [
        [
         "Time_spent_Alone",
         "1190"
        ],
        [
         "Stage_fear",
         "1893"
        ],
        [
         "Social_event_attendance",
         "1180"
        ],
        [
         "Going_outside",
         "1466"
        ],
        [
         "Drained_after_socializing",
         "1149"
        ],
        [
         "Friends_circle_size",
         "1054"
        ],
        [
         "Post_frequency",
         "1264"
        ],
        [
         "Personality",
         "0"
        ]
       ],
       "shape": {
        "columns": 1,
        "rows": 8
       }
      },
      "text/plain": [
       "Time_spent_Alone             1190\n",
       "Stage_fear                   1893\n",
       "Social_event_attendance      1180\n",
       "Going_outside                1466\n",
       "Drained_after_socializing    1149\n",
       "Friends_circle_size          1054\n",
       "Post_frequency               1264\n",
       "Personality                     0\n",
       "dtype: int64"
      ]
     },
     "execution_count": 10,
     "metadata": {},
     "output_type": "execute_result"
    }
   ],
   "source": [
    "df.isna().sum()"
   ]
  },
  {
   "cell_type": "code",
   "execution_count": 11,
   "id": "ecf32559",
   "metadata": {},
   "outputs": [],
   "source": [
    "# df.dropna(inplace=True)"
   ]
  },
  {
   "cell_type": "code",
   "execution_count": 12,
   "id": "5d5e4b89",
   "metadata": {},
   "outputs": [
    {
     "data": {
      "application/vnd.microsoft.datawrangler.viewer.v0+json": {
       "columns": [
        {
         "name": "index",
         "rawType": "int64",
         "type": "integer"
        },
        {
         "name": "Time_spent_Alone",
         "rawType": "float64",
         "type": "float"
        },
        {
         "name": "Stage_fear",
         "rawType": "object",
         "type": "string"
        },
        {
         "name": "Social_event_attendance",
         "rawType": "float64",
         "type": "float"
        },
        {
         "name": "Going_outside",
         "rawType": "float64",
         "type": "float"
        },
        {
         "name": "Drained_after_socializing",
         "rawType": "object",
         "type": "unknown"
        },
        {
         "name": "Friends_circle_size",
         "rawType": "float64",
         "type": "float"
        },
        {
         "name": "Post_frequency",
         "rawType": "float64",
         "type": "float"
        },
        {
         "name": "Personality",
         "rawType": "object",
         "type": "string"
        }
       ],
       "ref": "576e977b-4cc0-4c23-ab91-303d01e91b8a",
       "rows": [
        [
         "0",
         "0.0",
         "No",
         "6.0",
         "4.0",
         "No",
         "15.0",
         "5.0",
         "Extrovert"
        ],
        [
         "1",
         "1.0",
         "No",
         "7.0",
         "3.0",
         "No",
         "10.0",
         "8.0",
         "Extrovert"
        ],
        [
         "2",
         "6.0",
         "Yes",
         "1.0",
         "0.0",
         null,
         "3.0",
         "0.0",
         "Introvert"
        ],
        [
         "3",
         "3.0",
         "No",
         "7.0",
         "3.0",
         "No",
         "11.0",
         "5.0",
         "Extrovert"
        ],
        [
         "4",
         "1.0",
         "No",
         "4.0",
         "4.0",
         "No",
         "13.0",
         null,
         "Extrovert"
        ]
       ],
       "shape": {
        "columns": 8,
        "rows": 5
       }
      },
      "text/html": [
       "<div>\n",
       "<style scoped>\n",
       "    .dataframe tbody tr th:only-of-type {\n",
       "        vertical-align: middle;\n",
       "    }\n",
       "\n",
       "    .dataframe tbody tr th {\n",
       "        vertical-align: top;\n",
       "    }\n",
       "\n",
       "    .dataframe thead th {\n",
       "        text-align: right;\n",
       "    }\n",
       "</style>\n",
       "<table border=\"1\" class=\"dataframe\">\n",
       "  <thead>\n",
       "    <tr style=\"text-align: right;\">\n",
       "      <th></th>\n",
       "      <th>Time_spent_Alone</th>\n",
       "      <th>Stage_fear</th>\n",
       "      <th>Social_event_attendance</th>\n",
       "      <th>Going_outside</th>\n",
       "      <th>Drained_after_socializing</th>\n",
       "      <th>Friends_circle_size</th>\n",
       "      <th>Post_frequency</th>\n",
       "      <th>Personality</th>\n",
       "    </tr>\n",
       "  </thead>\n",
       "  <tbody>\n",
       "    <tr>\n",
       "      <th>0</th>\n",
       "      <td>0.0</td>\n",
       "      <td>No</td>\n",
       "      <td>6.0</td>\n",
       "      <td>4.0</td>\n",
       "      <td>No</td>\n",
       "      <td>15.0</td>\n",
       "      <td>5.0</td>\n",
       "      <td>Extrovert</td>\n",
       "    </tr>\n",
       "    <tr>\n",
       "      <th>1</th>\n",
       "      <td>1.0</td>\n",
       "      <td>No</td>\n",
       "      <td>7.0</td>\n",
       "      <td>3.0</td>\n",
       "      <td>No</td>\n",
       "      <td>10.0</td>\n",
       "      <td>8.0</td>\n",
       "      <td>Extrovert</td>\n",
       "    </tr>\n",
       "    <tr>\n",
       "      <th>2</th>\n",
       "      <td>6.0</td>\n",
       "      <td>Yes</td>\n",
       "      <td>1.0</td>\n",
       "      <td>0.0</td>\n",
       "      <td>NaN</td>\n",
       "      <td>3.0</td>\n",
       "      <td>0.0</td>\n",
       "      <td>Introvert</td>\n",
       "    </tr>\n",
       "    <tr>\n",
       "      <th>3</th>\n",
       "      <td>3.0</td>\n",
       "      <td>No</td>\n",
       "      <td>7.0</td>\n",
       "      <td>3.0</td>\n",
       "      <td>No</td>\n",
       "      <td>11.0</td>\n",
       "      <td>5.0</td>\n",
       "      <td>Extrovert</td>\n",
       "    </tr>\n",
       "    <tr>\n",
       "      <th>4</th>\n",
       "      <td>1.0</td>\n",
       "      <td>No</td>\n",
       "      <td>4.0</td>\n",
       "      <td>4.0</td>\n",
       "      <td>No</td>\n",
       "      <td>13.0</td>\n",
       "      <td>NaN</td>\n",
       "      <td>Extrovert</td>\n",
       "    </tr>\n",
       "  </tbody>\n",
       "</table>\n",
       "</div>"
      ],
      "text/plain": [
       "   Time_spent_Alone Stage_fear  Social_event_attendance  Going_outside  \\\n",
       "0               0.0         No                      6.0            4.0   \n",
       "1               1.0         No                      7.0            3.0   \n",
       "2               6.0        Yes                      1.0            0.0   \n",
       "3               3.0         No                      7.0            3.0   \n",
       "4               1.0         No                      4.0            4.0   \n",
       "\n",
       "  Drained_after_socializing  Friends_circle_size  Post_frequency Personality  \n",
       "0                        No                 15.0             5.0   Extrovert  \n",
       "1                        No                 10.0             8.0   Extrovert  \n",
       "2                       NaN                  3.0             0.0   Introvert  \n",
       "3                        No                 11.0             5.0   Extrovert  \n",
       "4                        No                 13.0             NaN   Extrovert  "
      ]
     },
     "execution_count": 12,
     "metadata": {},
     "output_type": "execute_result"
    }
   ],
   "source": [
    "df.head()"
   ]
  },
  {
   "cell_type": "code",
   "execution_count": 13,
   "id": "abbc01b1",
   "metadata": {},
   "outputs": [],
   "source": [
    "# df[\"Personality\"] = df[\"Personality\"].map({\"Introvert\": 0, \"Extrovert\": 1})"
   ]
  },
  {
   "cell_type": "code",
   "execution_count": 14,
   "id": "acddb90c",
   "metadata": {},
   "outputs": [
    {
     "data": {
      "application/vnd.microsoft.datawrangler.viewer.v0+json": {
       "columns": [
        {
         "name": "index",
         "rawType": "int64",
         "type": "integer"
        },
        {
         "name": "Time_spent_Alone",
         "rawType": "float64",
         "type": "float"
        },
        {
         "name": "Stage_fear",
         "rawType": "object",
         "type": "string"
        },
        {
         "name": "Social_event_attendance",
         "rawType": "float64",
         "type": "float"
        },
        {
         "name": "Going_outside",
         "rawType": "float64",
         "type": "float"
        },
        {
         "name": "Drained_after_socializing",
         "rawType": "object",
         "type": "unknown"
        },
        {
         "name": "Friends_circle_size",
         "rawType": "float64",
         "type": "float"
        },
        {
         "name": "Post_frequency",
         "rawType": "float64",
         "type": "float"
        },
        {
         "name": "Personality",
         "rawType": "object",
         "type": "string"
        }
       ],
       "ref": "7fccb7bd-cbab-40f7-877a-bc37d7142661",
       "rows": [
        [
         "0",
         "0.0",
         "No",
         "6.0",
         "4.0",
         "No",
         "15.0",
         "5.0",
         "Extrovert"
        ],
        [
         "1",
         "1.0",
         "No",
         "7.0",
         "3.0",
         "No",
         "10.0",
         "8.0",
         "Extrovert"
        ],
        [
         "2",
         "6.0",
         "Yes",
         "1.0",
         "0.0",
         null,
         "3.0",
         "0.0",
         "Introvert"
        ],
        [
         "3",
         "3.0",
         "No",
         "7.0",
         "3.0",
         "No",
         "11.0",
         "5.0",
         "Extrovert"
        ],
        [
         "4",
         "1.0",
         "No",
         "4.0",
         "4.0",
         "No",
         "13.0",
         null,
         "Extrovert"
        ]
       ],
       "shape": {
        "columns": 8,
        "rows": 5
       }
      },
      "text/html": [
       "<div>\n",
       "<style scoped>\n",
       "    .dataframe tbody tr th:only-of-type {\n",
       "        vertical-align: middle;\n",
       "    }\n",
       "\n",
       "    .dataframe tbody tr th {\n",
       "        vertical-align: top;\n",
       "    }\n",
       "\n",
       "    .dataframe thead th {\n",
       "        text-align: right;\n",
       "    }\n",
       "</style>\n",
       "<table border=\"1\" class=\"dataframe\">\n",
       "  <thead>\n",
       "    <tr style=\"text-align: right;\">\n",
       "      <th></th>\n",
       "      <th>Time_spent_Alone</th>\n",
       "      <th>Stage_fear</th>\n",
       "      <th>Social_event_attendance</th>\n",
       "      <th>Going_outside</th>\n",
       "      <th>Drained_after_socializing</th>\n",
       "      <th>Friends_circle_size</th>\n",
       "      <th>Post_frequency</th>\n",
       "      <th>Personality</th>\n",
       "    </tr>\n",
       "  </thead>\n",
       "  <tbody>\n",
       "    <tr>\n",
       "      <th>0</th>\n",
       "      <td>0.0</td>\n",
       "      <td>No</td>\n",
       "      <td>6.0</td>\n",
       "      <td>4.0</td>\n",
       "      <td>No</td>\n",
       "      <td>15.0</td>\n",
       "      <td>5.0</td>\n",
       "      <td>Extrovert</td>\n",
       "    </tr>\n",
       "    <tr>\n",
       "      <th>1</th>\n",
       "      <td>1.0</td>\n",
       "      <td>No</td>\n",
       "      <td>7.0</td>\n",
       "      <td>3.0</td>\n",
       "      <td>No</td>\n",
       "      <td>10.0</td>\n",
       "      <td>8.0</td>\n",
       "      <td>Extrovert</td>\n",
       "    </tr>\n",
       "    <tr>\n",
       "      <th>2</th>\n",
       "      <td>6.0</td>\n",
       "      <td>Yes</td>\n",
       "      <td>1.0</td>\n",
       "      <td>0.0</td>\n",
       "      <td>NaN</td>\n",
       "      <td>3.0</td>\n",
       "      <td>0.0</td>\n",
       "      <td>Introvert</td>\n",
       "    </tr>\n",
       "    <tr>\n",
       "      <th>3</th>\n",
       "      <td>3.0</td>\n",
       "      <td>No</td>\n",
       "      <td>7.0</td>\n",
       "      <td>3.0</td>\n",
       "      <td>No</td>\n",
       "      <td>11.0</td>\n",
       "      <td>5.0</td>\n",
       "      <td>Extrovert</td>\n",
       "    </tr>\n",
       "    <tr>\n",
       "      <th>4</th>\n",
       "      <td>1.0</td>\n",
       "      <td>No</td>\n",
       "      <td>4.0</td>\n",
       "      <td>4.0</td>\n",
       "      <td>No</td>\n",
       "      <td>13.0</td>\n",
       "      <td>NaN</td>\n",
       "      <td>Extrovert</td>\n",
       "    </tr>\n",
       "  </tbody>\n",
       "</table>\n",
       "</div>"
      ],
      "text/plain": [
       "   Time_spent_Alone Stage_fear  Social_event_attendance  Going_outside  \\\n",
       "0               0.0         No                      6.0            4.0   \n",
       "1               1.0         No                      7.0            3.0   \n",
       "2               6.0        Yes                      1.0            0.0   \n",
       "3               3.0         No                      7.0            3.0   \n",
       "4               1.0         No                      4.0            4.0   \n",
       "\n",
       "  Drained_after_socializing  Friends_circle_size  Post_frequency Personality  \n",
       "0                        No                 15.0             5.0   Extrovert  \n",
       "1                        No                 10.0             8.0   Extrovert  \n",
       "2                       NaN                  3.0             0.0   Introvert  \n",
       "3                        No                 11.0             5.0   Extrovert  \n",
       "4                        No                 13.0             NaN   Extrovert  "
      ]
     },
     "execution_count": 14,
     "metadata": {},
     "output_type": "execute_result"
    }
   ],
   "source": [
    "df.head()"
   ]
  },
  {
   "cell_type": "code",
   "execution_count": 15,
   "id": "0f683fbd",
   "metadata": {},
   "outputs": [],
   "source": [
    "# pd.get_dummies(df)"
   ]
  },
  {
   "cell_type": "code",
   "execution_count": 18,
   "id": "7a10d496",
   "metadata": {},
   "outputs": [
    {
     "name": "stderr",
     "output_type": "stream",
     "text": [
      "c:\\GitHub\\Predict-the-Introverts-from-the-Extroverts\\.venv\\Lib\\site-packages\\tqdm\\auto.py:21: TqdmWarning: IProgress not found. Please update jupyter and ipywidgets. See https://ipywidgets.readthedocs.io/en/stable/user_install.html\n",
      "  from .autonotebook import tqdm as notebook_tqdm\n"
     ]
    }
   ],
   "source": [
    "from autogluon.tabular import TabularPredictor"
   ]
  },
  {
   "cell_type": "code",
   "execution_count": 21,
   "id": "b0b35383",
   "metadata": {},
   "outputs": [
    {
     "name": "stderr",
     "output_type": "stream",
     "text": [
      "Warning: path already exists! This predictor may overwrite an existing predictor! path=\"ag_models/\"\n",
      "Verbosity: 2 (Standard Logging)\n",
      "=================== System Info ===================\n",
      "AutoGluon Version:  1.3.1\n",
      "Python Version:     3.12.4\n",
      "Operating System:   Windows\n",
      "Platform Machine:   AMD64\n",
      "Platform Version:   10.0.22000\n",
      "CPU Count:          16\n",
      "Memory Avail:       3.50 GB / 15.91 GB (22.0%)\n",
      "Disk Space Avail:   98.08 GB / 930.23 GB (10.5%)\n",
      "===================================================\n",
      "No presets specified! To achieve strong results with AutoGluon, it is recommended to use the available presets. Defaulting to `'medium'`...\n",
      "\tRecommended Presets (For more details refer to https://auto.gluon.ai/stable/tutorials/tabular/tabular-essentials.html#presets):\n",
      "\tpresets='experimental' : New in v1.2: Pre-trained foundation model + parallel fits. The absolute best accuracy without consideration for inference speed. Does not support GPU.\n",
      "\tpresets='best'         : Maximize accuracy. Recommended for most users. Use in competitions and benchmarks.\n",
      "\tpresets='high'         : Strong accuracy with fast inference speed.\n",
      "\tpresets='good'         : Good accuracy with very fast inference speed.\n",
      "\tpresets='medium'       : Fast training time, ideal for initial prototyping.\n",
      "Beginning AutoGluon training ...\n",
      "AutoGluon will save models to \"c:\\GitHub\\Predict-the-Introverts-from-the-Extroverts\\notebooks\\ag_models\"\n",
      "Train Data Rows:    18524\n",
      "Train Data Columns: 7\n",
      "Label Column:       Personality\n",
      "AutoGluon infers your prediction problem is: 'binary' (because only two unique label-values observed).\n",
      "\t2 unique label values:  ['Extrovert', 'Introvert']\n",
      "\tIf 'binary' is not the correct problem_type, please manually specify the problem_type parameter during Predictor init (You may specify problem_type as one of: ['binary', 'multiclass', 'regression', 'quantile'])\n",
      "Problem Type:       binary\n",
      "Preprocessing data ...\n",
      "Selected class <--> label mapping:  class 1 = Introvert, class 0 = Extrovert\n",
      "\tNote: For your binary classification, AutoGluon arbitrarily selected which label-value represents positive (Introvert) vs negative (Extrovert) class.\n",
      "\tTo explicitly set the positive_class, either rename classes to 1 and 0, or specify positive_class in Predictor init.\n",
      "Using Feature Generators to preprocess the data ...\n",
      "Fitting AutoMLPipelineFeatureGenerator...\n",
      "\tAvailable Memory:                    3590.82 MB\n",
      "\tTrain Data (Original)  Memory Usage: 2.46 MB (0.1% of available memory)\n",
      "\tInferring data type of each feature based on column values. Set feature_metadata_in to manually specify special dtypes of the features.\n",
      "\tStage 1 Generators:\n",
      "\t\tFitting AsTypeFeatureGenerator...\n",
      "\tStage 2 Generators:\n",
      "\t\tFitting FillNaFeatureGenerator...\n",
      "\tStage 3 Generators:\n",
      "\t\tFitting IdentityFeatureGenerator...\n",
      "\t\tFitting CategoryFeatureGenerator...\n",
      "\t\t\tFitting CategoryMemoryMinimizeFeatureGenerator...\n",
      "\tStage 4 Generators:\n",
      "\t\tFitting DropUniqueFeatureGenerator...\n",
      "\tStage 5 Generators:\n",
      "\t\tFitting DropDuplicatesFeatureGenerator...\n",
      "\tTypes of features in original data (raw dtype, special dtypes):\n",
      "\t\t('float', [])  : 5 | ['Time_spent_Alone', 'Social_event_attendance', 'Going_outside', 'Friends_circle_size', 'Post_frequency']\n",
      "\t\t('object', []) : 2 | ['Stage_fear', 'Drained_after_socializing']\n",
      "\tTypes of features in processed data (raw dtype, special dtypes):\n",
      "\t\t('category', []) : 2 | ['Stage_fear', 'Drained_after_socializing']\n",
      "\t\t('float', [])    : 5 | ['Time_spent_Alone', 'Social_event_attendance', 'Going_outside', 'Friends_circle_size', 'Post_frequency']\n",
      "\t0.1s = Fit runtime\n",
      "\t7 features in original data used to generate 7 features in processed data.\n",
      "\tTrain Data (Processed) Memory Usage: 0.74 MB (0.0% of available memory)\n",
      "Data preprocessing and feature engineering runtime = 0.11s ...\n",
      "AutoGluon will gauge predictive performance using evaluation metric: 'accuracy'\n",
      "\tTo change this, specify the eval_metric parameter of Predictor()\n",
      "Automatically generating train/validation split with holdout_frac=0.1, Train Rows: 16671, Val Rows: 1853\n",
      "User-specified model hyperparameters to be fit:\n",
      "{\n",
      "\t'NN_TORCH': [{}],\n",
      "\t'GBM': [{'extra_trees': True, 'ag_args': {'name_suffix': 'XT'}}, {}, {'learning_rate': 0.03, 'num_leaves': 128, 'feature_fraction': 0.9, 'min_data_in_leaf': 3, 'ag_args': {'name_suffix': 'Large', 'priority': 0, 'hyperparameter_tune_kwargs': None}}],\n",
      "\t'CAT': [{}],\n",
      "\t'XGB': [{}],\n",
      "\t'FASTAI': [{}],\n",
      "\t'RF': [{'criterion': 'gini', 'ag_args': {'name_suffix': 'Gini', 'problem_types': ['binary', 'multiclass']}}, {'criterion': 'entropy', 'ag_args': {'name_suffix': 'Entr', 'problem_types': ['binary', 'multiclass']}}, {'criterion': 'squared_error', 'ag_args': {'name_suffix': 'MSE', 'problem_types': ['regression', 'quantile']}}],\n",
      "\t'XT': [{'criterion': 'gini', 'ag_args': {'name_suffix': 'Gini', 'problem_types': ['binary', 'multiclass']}}, {'criterion': 'entropy', 'ag_args': {'name_suffix': 'Entr', 'problem_types': ['binary', 'multiclass']}}, {'criterion': 'squared_error', 'ag_args': {'name_suffix': 'MSE', 'problem_types': ['regression', 'quantile']}}],\n",
      "\t'KNN': [{'weights': 'uniform', 'ag_args': {'name_suffix': 'Unif'}}, {'weights': 'distance', 'ag_args': {'name_suffix': 'Dist'}}],\n",
      "}\n",
      "Fitting 13 L1 models, fit_strategy=\"sequential\" ...\n",
      "Fitting model: KNeighborsUnif ...\n",
      "\t0.9655\t = Validation score   (accuracy)\n",
      "\t0.02s\t = Training   runtime\n",
      "\t0.03s\t = Validation runtime\n",
      "Fitting model: KNeighborsDist ...\n",
      "\t0.9574\t = Validation score   (accuracy)\n",
      "\t0.02s\t = Training   runtime\n",
      "\t0.03s\t = Validation runtime\n",
      "Fitting model: LightGBMXT ...\n",
      "\tWarning: Exception caused LightGBMXT to fail during training (ImportError)... Skipping this model.\n",
      "\t\t`import lightgbm` failed. A quick tip is to install via `pip install autogluon.tabular[lightgbm]==1.3.1`.\n",
      "Fitting model: LightGBM ...\n",
      "\tWarning: Exception caused LightGBM to fail during training (ImportError)... Skipping this model.\n",
      "\t\t`import lightgbm` failed. A quick tip is to install via `pip install autogluon.tabular[lightgbm]==1.3.1`.\n",
      "Fitting model: RandomForestGini ...\n",
      "\t0.9638\t = Validation score   (accuracy)\n",
      "\t0.78s\t = Training   runtime\n",
      "\t0.07s\t = Validation runtime\n",
      "Fitting model: RandomForestEntr ...\n",
      "\t0.9633\t = Validation score   (accuracy)\n",
      "\t0.69s\t = Training   runtime\n",
      "\t0.05s\t = Validation runtime\n",
      "Fitting model: CatBoost ...\n",
      "\tWarning: Exception caused CatBoost to fail during training (ImportError)... Skipping this model.\n",
      "\t\t`import catboost` failed. A quick tip is to install via `pip install autogluon.tabular[catboost]==1.3.1`.\n",
      "Fitting model: ExtraTreesGini ...\n",
      "\t0.9633\t = Validation score   (accuracy)\n",
      "\t0.68s\t = Training   runtime\n",
      "\t0.05s\t = Validation runtime\n",
      "Fitting model: ExtraTreesEntr ...\n",
      "\t0.9644\t = Validation score   (accuracy)\n",
      "\t0.68s\t = Training   runtime\n",
      "\t0.05s\t = Validation runtime\n",
      "Fitting model: NeuralNetFastAI ...\n",
      "\tWarning: Exception caused NeuralNetFastAI to fail during training (ImportError)... Skipping this model.\n",
      "\t\tImport fastai failed. A quick tip is to install via `pip install autogluon.tabular[fastai]==1.3.1`. \n",
      "Fitting model: XGBoost ...\n",
      "\tWarning: Exception caused XGBoost to fail during training (ImportError)... Skipping this model.\n",
      "\t\t`import xgboost` failed. A quick tip is to install via `pip install autogluon.tabular[xgboost]==1.3.1`.\n",
      "Fitting model: NeuralNetTorch ...\n",
      "\tWarning: Exception caused NeuralNetTorch to fail during training (ImportError)... Skipping this model.\n",
      "\t\tUnable to import dependency torch\n",
      "A quick tip is to install via `pip install torch`.\n",
      "The minimum torch version is currently 2.2.\n",
      "Fitting model: LightGBMLarge ...\n",
      "\tWarning: Exception caused LightGBMLarge to fail during training (ImportError)... Skipping this model.\n",
      "\t\t`import lightgbm` failed. A quick tip is to install via `pip install autogluon.tabular[lightgbm]==1.3.1`.\n",
      "Fitting model: WeightedEnsemble_L2 ...\n",
      "\tEnsemble Weights: {'KNeighborsUnif': 0.667, 'RandomForestGini': 0.333}\n",
      "\t0.9682\t = Validation score   (accuracy)\n",
      "\t0.05s\t = Training   runtime\n",
      "\t0.0s\t = Validation runtime\n",
      "AutoGluon training complete, total runtime = 4.42s ... Best model: WeightedEnsemble_L2 | Estimated inference throughput: 17753.8 rows/s (1853 batch size)\n",
      "Disabling decision threshold calibration for metric `accuracy` due to having fewer than 10000 rows of validation data for calibration, to avoid overfitting (1853 rows).\n",
      "\t`accuracy` is generally not improved through threshold calibration. Force calibration via specifying `calibrate_decision_threshold=True`.\n",
      "TabularPredictor saved. To load, use: predictor = TabularPredictor.load(\"c:\\GitHub\\Predict-the-Introverts-from-the-Extroverts\\notebooks\\ag_models\")\n"
     ]
    }
   ],
   "source": [
    "predictor = TabularPredictor(label=\"Personality\", eval_metric='accuracy', path='ag_models/').fit(df)"
   ]
  },
  {
   "cell_type": "code",
   "execution_count": 22,
   "id": "fd44acbf",
   "metadata": {},
   "outputs": [
    {
     "data": {
      "application/vnd.microsoft.datawrangler.viewer.v0+json": {
       "columns": [
        {
         "name": "index",
         "rawType": "int64",
         "type": "integer"
        },
        {
         "name": "model",
         "rawType": "object",
         "type": "string"
        },
        {
         "name": "score_test",
         "rawType": "float64",
         "type": "float"
        },
        {
         "name": "score_val",
         "rawType": "float64",
         "type": "float"
        },
        {
         "name": "eval_metric",
         "rawType": "object",
         "type": "string"
        },
        {
         "name": "pred_time_test",
         "rawType": "float64",
         "type": "float"
        },
        {
         "name": "pred_time_val",
         "rawType": "float64",
         "type": "float"
        },
        {
         "name": "fit_time",
         "rawType": "float64",
         "type": "float"
        },
        {
         "name": "pred_time_test_marginal",
         "rawType": "float64",
         "type": "float"
        },
        {
         "name": "pred_time_val_marginal",
         "rawType": "float64",
         "type": "float"
        },
        {
         "name": "fit_time_marginal",
         "rawType": "float64",
         "type": "float"
        },
        {
         "name": "stack_level",
         "rawType": "int64",
         "type": "integer"
        },
        {
         "name": "can_infer",
         "rawType": "bool",
         "type": "boolean"
        },
        {
         "name": "fit_order",
         "rawType": "int64",
         "type": "integer"
        }
       ],
       "ref": "ee842eb9-bea5-4d2c-8b05-9c6569808402",
       "rows": [
        [
         "0",
         "ExtraTreesEntr",
         "0.991308572662492",
         "0.9643820831084727",
         "accuracy",
         "0.1490037441253662",
         "0.04999852180480957",
         "0.6811246871948242",
         "0.1490037441253662",
         "0.04999852180480957",
         "0.6811246871948242",
         "1",
         "True",
         "6"
        ],
        [
         "1",
         "RandomForestGini",
         "0.9912545886417621",
         "0.9638424177010254",
         "accuracy",
         "0.18194818496704102",
         "0.07399988174438477",
         "0.7838778495788574",
         "0.18194818496704102",
         "0.07399988174438477",
         "0.7838778495788574",
         "1",
         "True",
         "3"
        ],
        [
         "2",
         "RandomForestEntr",
         "0.9912006046210322",
         "0.963302752293578",
         "accuracy",
         "0.1530008316040039",
         "0.04999995231628418",
         "0.6859996318817139",
         "0.1530008316040039",
         "0.04999995231628418",
         "0.6859996318817139",
         "1",
         "True",
         "4"
        ],
        [
         "3",
         "ExtraTreesGini",
         "0.9912006046210322",
         "0.963302752293578",
         "accuracy",
         "0.18199896812438965",
         "0.0500025749206543",
         "0.6816442012786865",
         "0.18199896812438965",
         "0.0500025749206543",
         "0.6816442012786865",
         "1",
         "True",
         "5"
        ],
        [
         "4",
         "KNeighborsDist",
         "0.9861800906931548",
         "0.9573664328116568",
         "accuracy",
         "0.2205953598022461",
         "0.02800154685974121",
         "0.022042274475097656",
         "0.2205953598022461",
         "0.02800154685974121",
         "0.022042274475097656",
         "1",
         "True",
         "2"
        ],
        [
         "5",
         "WeightedEnsemble_L2",
         "0.9709026128266033",
         "0.9681597409606044",
         "accuracy",
         "0.3948032855987549",
         "0.10437202453613281",
         "0.8548800945281982",
         "0.029000043869018555",
         "0.0",
         "0.05000185966491699",
         "2",
         "True",
         "7"
        ],
        [
         "6",
         "KNeighborsUnif",
         "0.9685273159144893",
         "0.9654614139233675",
         "accuracy",
         "0.1838550567626953",
         "0.030372142791748047",
         "0.021000385284423828",
         "0.1838550567626953",
         "0.030372142791748047",
         "0.021000385284423828",
         "1",
         "True",
         "1"
        ]
       ],
       "shape": {
        "columns": 13,
        "rows": 7
       }
      },
      "text/html": [
       "<div>\n",
       "<style scoped>\n",
       "    .dataframe tbody tr th:only-of-type {\n",
       "        vertical-align: middle;\n",
       "    }\n",
       "\n",
       "    .dataframe tbody tr th {\n",
       "        vertical-align: top;\n",
       "    }\n",
       "\n",
       "    .dataframe thead th {\n",
       "        text-align: right;\n",
       "    }\n",
       "</style>\n",
       "<table border=\"1\" class=\"dataframe\">\n",
       "  <thead>\n",
       "    <tr style=\"text-align: right;\">\n",
       "      <th></th>\n",
       "      <th>model</th>\n",
       "      <th>score_test</th>\n",
       "      <th>score_val</th>\n",
       "      <th>eval_metric</th>\n",
       "      <th>pred_time_test</th>\n",
       "      <th>pred_time_val</th>\n",
       "      <th>fit_time</th>\n",
       "      <th>pred_time_test_marginal</th>\n",
       "      <th>pred_time_val_marginal</th>\n",
       "      <th>fit_time_marginal</th>\n",
       "      <th>stack_level</th>\n",
       "      <th>can_infer</th>\n",
       "      <th>fit_order</th>\n",
       "    </tr>\n",
       "  </thead>\n",
       "  <tbody>\n",
       "    <tr>\n",
       "      <th>0</th>\n",
       "      <td>ExtraTreesEntr</td>\n",
       "      <td>0.991309</td>\n",
       "      <td>0.964382</td>\n",
       "      <td>accuracy</td>\n",
       "      <td>0.149004</td>\n",
       "      <td>0.049999</td>\n",
       "      <td>0.681125</td>\n",
       "      <td>0.149004</td>\n",
       "      <td>0.049999</td>\n",
       "      <td>0.681125</td>\n",
       "      <td>1</td>\n",
       "      <td>True</td>\n",
       "      <td>6</td>\n",
       "    </tr>\n",
       "    <tr>\n",
       "      <th>1</th>\n",
       "      <td>RandomForestGini</td>\n",
       "      <td>0.991255</td>\n",
       "      <td>0.963842</td>\n",
       "      <td>accuracy</td>\n",
       "      <td>0.181948</td>\n",
       "      <td>0.074000</td>\n",
       "      <td>0.783878</td>\n",
       "      <td>0.181948</td>\n",
       "      <td>0.074000</td>\n",
       "      <td>0.783878</td>\n",
       "      <td>1</td>\n",
       "      <td>True</td>\n",
       "      <td>3</td>\n",
       "    </tr>\n",
       "    <tr>\n",
       "      <th>2</th>\n",
       "      <td>RandomForestEntr</td>\n",
       "      <td>0.991201</td>\n",
       "      <td>0.963303</td>\n",
       "      <td>accuracy</td>\n",
       "      <td>0.153001</td>\n",
       "      <td>0.050000</td>\n",
       "      <td>0.686000</td>\n",
       "      <td>0.153001</td>\n",
       "      <td>0.050000</td>\n",
       "      <td>0.686000</td>\n",
       "      <td>1</td>\n",
       "      <td>True</td>\n",
       "      <td>4</td>\n",
       "    </tr>\n",
       "    <tr>\n",
       "      <th>3</th>\n",
       "      <td>ExtraTreesGini</td>\n",
       "      <td>0.991201</td>\n",
       "      <td>0.963303</td>\n",
       "      <td>accuracy</td>\n",
       "      <td>0.181999</td>\n",
       "      <td>0.050003</td>\n",
       "      <td>0.681644</td>\n",
       "      <td>0.181999</td>\n",
       "      <td>0.050003</td>\n",
       "      <td>0.681644</td>\n",
       "      <td>1</td>\n",
       "      <td>True</td>\n",
       "      <td>5</td>\n",
       "    </tr>\n",
       "    <tr>\n",
       "      <th>4</th>\n",
       "      <td>KNeighborsDist</td>\n",
       "      <td>0.986180</td>\n",
       "      <td>0.957366</td>\n",
       "      <td>accuracy</td>\n",
       "      <td>0.220595</td>\n",
       "      <td>0.028002</td>\n",
       "      <td>0.022042</td>\n",
       "      <td>0.220595</td>\n",
       "      <td>0.028002</td>\n",
       "      <td>0.022042</td>\n",
       "      <td>1</td>\n",
       "      <td>True</td>\n",
       "      <td>2</td>\n",
       "    </tr>\n",
       "    <tr>\n",
       "      <th>5</th>\n",
       "      <td>WeightedEnsemble_L2</td>\n",
       "      <td>0.970903</td>\n",
       "      <td>0.968160</td>\n",
       "      <td>accuracy</td>\n",
       "      <td>0.394803</td>\n",
       "      <td>0.104372</td>\n",
       "      <td>0.854880</td>\n",
       "      <td>0.029000</td>\n",
       "      <td>0.000000</td>\n",
       "      <td>0.050002</td>\n",
       "      <td>2</td>\n",
       "      <td>True</td>\n",
       "      <td>7</td>\n",
       "    </tr>\n",
       "    <tr>\n",
       "      <th>6</th>\n",
       "      <td>KNeighborsUnif</td>\n",
       "      <td>0.968527</td>\n",
       "      <td>0.965461</td>\n",
       "      <td>accuracy</td>\n",
       "      <td>0.183855</td>\n",
       "      <td>0.030372</td>\n",
       "      <td>0.021000</td>\n",
       "      <td>0.183855</td>\n",
       "      <td>0.030372</td>\n",
       "      <td>0.021000</td>\n",
       "      <td>1</td>\n",
       "      <td>True</td>\n",
       "      <td>1</td>\n",
       "    </tr>\n",
       "  </tbody>\n",
       "</table>\n",
       "</div>"
      ],
      "text/plain": [
       "                 model  score_test  score_val eval_metric  pred_time_test  \\\n",
       "0       ExtraTreesEntr    0.991309   0.964382    accuracy        0.149004   \n",
       "1     RandomForestGini    0.991255   0.963842    accuracy        0.181948   \n",
       "2     RandomForestEntr    0.991201   0.963303    accuracy        0.153001   \n",
       "3       ExtraTreesGini    0.991201   0.963303    accuracy        0.181999   \n",
       "4       KNeighborsDist    0.986180   0.957366    accuracy        0.220595   \n",
       "5  WeightedEnsemble_L2    0.970903   0.968160    accuracy        0.394803   \n",
       "6       KNeighborsUnif    0.968527   0.965461    accuracy        0.183855   \n",
       "\n",
       "   pred_time_val  fit_time  pred_time_test_marginal  pred_time_val_marginal  \\\n",
       "0       0.049999  0.681125                 0.149004                0.049999   \n",
       "1       0.074000  0.783878                 0.181948                0.074000   \n",
       "2       0.050000  0.686000                 0.153001                0.050000   \n",
       "3       0.050003  0.681644                 0.181999                0.050003   \n",
       "4       0.028002  0.022042                 0.220595                0.028002   \n",
       "5       0.104372  0.854880                 0.029000                0.000000   \n",
       "6       0.030372  0.021000                 0.183855                0.030372   \n",
       "\n",
       "   fit_time_marginal  stack_level  can_infer  fit_order  \n",
       "0           0.681125            1       True          6  \n",
       "1           0.783878            1       True          3  \n",
       "2           0.686000            1       True          4  \n",
       "3           0.681644            1       True          5  \n",
       "4           0.022042            1       True          2  \n",
       "5           0.050002            2       True          7  \n",
       "6           0.021000            1       True          1  "
      ]
     },
     "execution_count": 22,
     "metadata": {},
     "output_type": "execute_result"
    }
   ],
   "source": [
    "predictor.leaderboard(df, silent=True)"
   ]
  },
  {
   "cell_type": "markdown",
   "id": "5f728ae1",
   "metadata": {},
   "source": [
    "---"
   ]
  },
  {
   "cell_type": "markdown",
   "id": "d385ddbe",
   "metadata": {},
   "source": [
    "# Predict"
   ]
  },
  {
   "cell_type": "markdown",
   "id": "df56c427",
   "metadata": {},
   "source": [
    "---"
   ]
  },
  {
   "cell_type": "code",
   "execution_count": 23,
   "id": "0d7d41ba",
   "metadata": {},
   "outputs": [
    {
     "data": {
      "application/vnd.microsoft.datawrangler.viewer.v0+json": {
       "columns": [
        {
         "name": "index",
         "rawType": "int64",
         "type": "integer"
        },
        {
         "name": "id",
         "rawType": "int64",
         "type": "integer"
        },
        {
         "name": "Time_spent_Alone",
         "rawType": "float64",
         "type": "float"
        },
        {
         "name": "Stage_fear",
         "rawType": "object",
         "type": "string"
        },
        {
         "name": "Social_event_attendance",
         "rawType": "float64",
         "type": "float"
        },
        {
         "name": "Going_outside",
         "rawType": "float64",
         "type": "float"
        },
        {
         "name": "Drained_after_socializing",
         "rawType": "object",
         "type": "string"
        },
        {
         "name": "Friends_circle_size",
         "rawType": "float64",
         "type": "float"
        },
        {
         "name": "Post_frequency",
         "rawType": "float64",
         "type": "float"
        }
       ],
       "ref": "a6ed1991-5f85-49ce-a1d6-65762b1ac14f",
       "rows": [
        [
         "0",
         "18524",
         "3.0",
         "No",
         "7.0",
         "4.0",
         "No",
         "6.0",
         null
        ],
        [
         "1",
         "18525",
         null,
         "Yes",
         "0.0",
         "0.0",
         "Yes",
         "5.0",
         "1.0"
        ],
        [
         "2",
         "18526",
         "3.0",
         "No",
         "5.0",
         "6.0",
         "No",
         "15.0",
         "9.0"
        ],
        [
         "3",
         "18527",
         "3.0",
         "No",
         "4.0",
         "4.0",
         "No",
         "5.0",
         "6.0"
        ],
        [
         "4",
         "18528",
         "9.0",
         "Yes",
         "1.0",
         "2.0",
         "Yes",
         "1.0",
         "1.0"
        ]
       ],
       "shape": {
        "columns": 8,
        "rows": 5
       }
      },
      "text/html": [
       "<div>\n",
       "<style scoped>\n",
       "    .dataframe tbody tr th:only-of-type {\n",
       "        vertical-align: middle;\n",
       "    }\n",
       "\n",
       "    .dataframe tbody tr th {\n",
       "        vertical-align: top;\n",
       "    }\n",
       "\n",
       "    .dataframe thead th {\n",
       "        text-align: right;\n",
       "    }\n",
       "</style>\n",
       "<table border=\"1\" class=\"dataframe\">\n",
       "  <thead>\n",
       "    <tr style=\"text-align: right;\">\n",
       "      <th></th>\n",
       "      <th>id</th>\n",
       "      <th>Time_spent_Alone</th>\n",
       "      <th>Stage_fear</th>\n",
       "      <th>Social_event_attendance</th>\n",
       "      <th>Going_outside</th>\n",
       "      <th>Drained_after_socializing</th>\n",
       "      <th>Friends_circle_size</th>\n",
       "      <th>Post_frequency</th>\n",
       "    </tr>\n",
       "  </thead>\n",
       "  <tbody>\n",
       "    <tr>\n",
       "      <th>0</th>\n",
       "      <td>18524</td>\n",
       "      <td>3.0</td>\n",
       "      <td>No</td>\n",
       "      <td>7.0</td>\n",
       "      <td>4.0</td>\n",
       "      <td>No</td>\n",
       "      <td>6.0</td>\n",
       "      <td>NaN</td>\n",
       "    </tr>\n",
       "    <tr>\n",
       "      <th>1</th>\n",
       "      <td>18525</td>\n",
       "      <td>NaN</td>\n",
       "      <td>Yes</td>\n",
       "      <td>0.0</td>\n",
       "      <td>0.0</td>\n",
       "      <td>Yes</td>\n",
       "      <td>5.0</td>\n",
       "      <td>1.0</td>\n",
       "    </tr>\n",
       "    <tr>\n",
       "      <th>2</th>\n",
       "      <td>18526</td>\n",
       "      <td>3.0</td>\n",
       "      <td>No</td>\n",
       "      <td>5.0</td>\n",
       "      <td>6.0</td>\n",
       "      <td>No</td>\n",
       "      <td>15.0</td>\n",
       "      <td>9.0</td>\n",
       "    </tr>\n",
       "    <tr>\n",
       "      <th>3</th>\n",
       "      <td>18527</td>\n",
       "      <td>3.0</td>\n",
       "      <td>No</td>\n",
       "      <td>4.0</td>\n",
       "      <td>4.0</td>\n",
       "      <td>No</td>\n",
       "      <td>5.0</td>\n",
       "      <td>6.0</td>\n",
       "    </tr>\n",
       "    <tr>\n",
       "      <th>4</th>\n",
       "      <td>18528</td>\n",
       "      <td>9.0</td>\n",
       "      <td>Yes</td>\n",
       "      <td>1.0</td>\n",
       "      <td>2.0</td>\n",
       "      <td>Yes</td>\n",
       "      <td>1.0</td>\n",
       "      <td>1.0</td>\n",
       "    </tr>\n",
       "  </tbody>\n",
       "</table>\n",
       "</div>"
      ],
      "text/plain": [
       "      id  Time_spent_Alone Stage_fear  Social_event_attendance  Going_outside  \\\n",
       "0  18524               3.0         No                      7.0            4.0   \n",
       "1  18525               NaN        Yes                      0.0            0.0   \n",
       "2  18526               3.0         No                      5.0            6.0   \n",
       "3  18527               3.0         No                      4.0            4.0   \n",
       "4  18528               9.0        Yes                      1.0            2.0   \n",
       "\n",
       "  Drained_after_socializing  Friends_circle_size  Post_frequency  \n",
       "0                        No                  6.0             NaN  \n",
       "1                       Yes                  5.0             1.0  \n",
       "2                        No                 15.0             9.0  \n",
       "3                        No                  5.0             6.0  \n",
       "4                       Yes                  1.0             1.0  "
      ]
     },
     "execution_count": 23,
     "metadata": {},
     "output_type": "execute_result"
    }
   ],
   "source": [
    "df_test = pd.read_csv(\"../data/test.csv\")\n",
    "df_test.head()"
   ]
  },
  {
   "cell_type": "code",
   "execution_count": 24,
   "id": "6525ffdb",
   "metadata": {},
   "outputs": [],
   "source": [
    "# df_test.dropna(inplace=True)"
   ]
  },
  {
   "cell_type": "code",
   "execution_count": 25,
   "id": "42185dd5",
   "metadata": {},
   "outputs": [],
   "source": [
    "submission = pd.DataFrame()\n",
    "submission[\"id\"] = df_test[\"id\"].to_list()"
   ]
  },
  {
   "cell_type": "code",
   "execution_count": 26,
   "id": "c5d04cb6",
   "metadata": {},
   "outputs": [],
   "source": [
    "df_test.drop(columns=[\"id\"], inplace=True)"
   ]
  },
  {
   "cell_type": "code",
   "execution_count": 27,
   "id": "fee6b8a1",
   "metadata": {},
   "outputs": [],
   "source": [
    "# df_test = pd.get_dummies(df_test)"
   ]
  },
  {
   "cell_type": "code",
   "execution_count": 28,
   "id": "9aef662a",
   "metadata": {},
   "outputs": [
    {
     "data": {
      "application/vnd.microsoft.datawrangler.viewer.v0+json": {
       "columns": [
        {
         "name": "index",
         "rawType": "int64",
         "type": "integer"
        },
        {
         "name": "Personality",
         "rawType": "object",
         "type": "string"
        }
       ],
       "ref": "56d0c223-3585-46ff-9c23-a1f6b64123eb",
       "rows": [
        [
         "0",
         "Extrovert"
        ],
        [
         "1",
         "Introvert"
        ],
        [
         "2",
         "Extrovert"
        ],
        [
         "3",
         "Extrovert"
        ],
        [
         "4",
         "Introvert"
        ],
        [
         "5",
         "Extrovert"
        ],
        [
         "6",
         "Extrovert"
        ],
        [
         "7",
         "Introvert"
        ],
        [
         "8",
         "Extrovert"
        ],
        [
         "9",
         "Introvert"
        ],
        [
         "10",
         "Extrovert"
        ],
        [
         "11",
         "Extrovert"
        ],
        [
         "12",
         "Introvert"
        ],
        [
         "13",
         "Extrovert"
        ],
        [
         "14",
         "Introvert"
        ],
        [
         "15",
         "Extrovert"
        ],
        [
         "16",
         "Extrovert"
        ],
        [
         "17",
         "Extrovert"
        ],
        [
         "18",
         "Introvert"
        ],
        [
         "19",
         "Extrovert"
        ],
        [
         "20",
         "Introvert"
        ],
        [
         "21",
         "Introvert"
        ],
        [
         "22",
         "Extrovert"
        ],
        [
         "23",
         "Introvert"
        ],
        [
         "24",
         "Extrovert"
        ],
        [
         "25",
         "Extrovert"
        ],
        [
         "26",
         "Extrovert"
        ],
        [
         "27",
         "Extrovert"
        ],
        [
         "28",
         "Introvert"
        ],
        [
         "29",
         "Introvert"
        ],
        [
         "30",
         "Extrovert"
        ],
        [
         "31",
         "Extrovert"
        ],
        [
         "32",
         "Introvert"
        ],
        [
         "33",
         "Extrovert"
        ],
        [
         "34",
         "Extrovert"
        ],
        [
         "35",
         "Extrovert"
        ],
        [
         "36",
         "Extrovert"
        ],
        [
         "37",
         "Extrovert"
        ],
        [
         "38",
         "Extrovert"
        ],
        [
         "39",
         "Extrovert"
        ],
        [
         "40",
         "Introvert"
        ],
        [
         "41",
         "Introvert"
        ],
        [
         "42",
         "Introvert"
        ],
        [
         "43",
         "Introvert"
        ],
        [
         "44",
         "Extrovert"
        ],
        [
         "45",
         "Introvert"
        ],
        [
         "46",
         "Extrovert"
        ],
        [
         "47",
         "Introvert"
        ],
        [
         "48",
         "Extrovert"
        ],
        [
         "49",
         "Extrovert"
        ]
       ],
       "shape": {
        "columns": 1,
        "rows": 6175
       }
      },
      "text/plain": [
       "0       Extrovert\n",
       "1       Introvert\n",
       "2       Extrovert\n",
       "3       Extrovert\n",
       "4       Introvert\n",
       "          ...    \n",
       "6170    Extrovert\n",
       "6171    Introvert\n",
       "6172    Extrovert\n",
       "6173    Extrovert\n",
       "6174    Introvert\n",
       "Name: Personality, Length: 6175, dtype: object"
      ]
     },
     "execution_count": 28,
     "metadata": {},
     "output_type": "execute_result"
    }
   ],
   "source": [
    "res = predictor.predict(df_test)\n",
    "res"
   ]
  },
  {
   "cell_type": "code",
   "execution_count": 33,
   "id": "555d8b80",
   "metadata": {},
   "outputs": [
    {
     "data": {
      "text/plain": [
       "['Extrovert',\n",
       " 'Introvert',\n",
       " 'Extrovert',\n",
       " 'Extrovert',\n",
       " 'Introvert',\n",
       " 'Extrovert',\n",
       " 'Extrovert',\n",
       " 'Introvert',\n",
       " 'Extrovert',\n",
       " 'Introvert',\n",
       " 'Extrovert',\n",
       " 'Extrovert',\n",
       " 'Introvert',\n",
       " 'Extrovert',\n",
       " 'Introvert',\n",
       " 'Extrovert',\n",
       " 'Extrovert',\n",
       " 'Extrovert',\n",
       " 'Introvert',\n",
       " 'Extrovert',\n",
       " 'Introvert',\n",
       " 'Introvert',\n",
       " 'Extrovert',\n",
       " 'Introvert',\n",
       " 'Extrovert',\n",
       " 'Extrovert',\n",
       " 'Extrovert',\n",
       " 'Extrovert',\n",
       " 'Introvert',\n",
       " 'Introvert',\n",
       " 'Extrovert',\n",
       " 'Extrovert',\n",
       " 'Introvert',\n",
       " 'Extrovert',\n",
       " 'Extrovert',\n",
       " 'Extrovert',\n",
       " 'Extrovert',\n",
       " 'Extrovert',\n",
       " 'Extrovert',\n",
       " 'Extrovert',\n",
       " 'Introvert',\n",
       " 'Introvert',\n",
       " 'Introvert',\n",
       " 'Introvert',\n",
       " 'Extrovert',\n",
       " 'Introvert',\n",
       " 'Extrovert',\n",
       " 'Introvert',\n",
       " 'Extrovert',\n",
       " 'Extrovert',\n",
       " 'Introvert',\n",
       " 'Extrovert',\n",
       " 'Extrovert',\n",
       " 'Extrovert',\n",
       " 'Extrovert',\n",
       " 'Extrovert',\n",
       " 'Extrovert',\n",
       " 'Extrovert',\n",
       " 'Introvert',\n",
       " 'Extrovert',\n",
       " 'Extrovert',\n",
       " 'Extrovert',\n",
       " 'Extrovert',\n",
       " 'Extrovert',\n",
       " 'Extrovert',\n",
       " 'Extrovert',\n",
       " 'Extrovert',\n",
       " 'Introvert',\n",
       " 'Extrovert',\n",
       " 'Extrovert',\n",
       " 'Introvert',\n",
       " 'Introvert',\n",
       " 'Extrovert',\n",
       " 'Extrovert',\n",
       " 'Extrovert',\n",
       " 'Extrovert',\n",
       " 'Extrovert',\n",
       " 'Extrovert',\n",
       " 'Extrovert',\n",
       " 'Extrovert',\n",
       " 'Extrovert',\n",
       " 'Extrovert',\n",
       " 'Extrovert',\n",
       " 'Extrovert',\n",
       " 'Extrovert',\n",
       " 'Extrovert',\n",
       " 'Extrovert',\n",
       " 'Introvert',\n",
       " 'Extrovert',\n",
       " 'Introvert',\n",
       " 'Extrovert',\n",
       " 'Introvert',\n",
       " 'Extrovert',\n",
       " 'Extrovert',\n",
       " 'Extrovert',\n",
       " 'Extrovert',\n",
       " 'Extrovert',\n",
       " 'Extrovert',\n",
       " 'Extrovert',\n",
       " 'Introvert',\n",
       " 'Introvert',\n",
       " 'Extrovert',\n",
       " 'Extrovert',\n",
       " 'Extrovert',\n",
       " 'Introvert',\n",
       " 'Extrovert',\n",
       " 'Extrovert',\n",
       " 'Extrovert',\n",
       " 'Extrovert',\n",
       " 'Introvert',\n",
       " 'Extrovert',\n",
       " 'Extrovert',\n",
       " 'Introvert',\n",
       " 'Introvert',\n",
       " 'Extrovert',\n",
       " 'Extrovert',\n",
       " 'Extrovert',\n",
       " 'Extrovert',\n",
       " 'Extrovert',\n",
       " 'Introvert',\n",
       " 'Extrovert',\n",
       " 'Introvert',\n",
       " 'Extrovert',\n",
       " 'Extrovert',\n",
       " 'Extrovert',\n",
       " 'Introvert',\n",
       " 'Extrovert',\n",
       " 'Extrovert',\n",
       " 'Extrovert',\n",
       " 'Extrovert',\n",
       " 'Introvert',\n",
       " 'Extrovert',\n",
       " 'Extrovert',\n",
       " 'Extrovert',\n",
       " 'Extrovert',\n",
       " 'Extrovert',\n",
       " 'Introvert',\n",
       " 'Introvert',\n",
       " 'Extrovert',\n",
       " 'Introvert',\n",
       " 'Extrovert',\n",
       " 'Extrovert',\n",
       " 'Extrovert',\n",
       " 'Extrovert',\n",
       " 'Extrovert',\n",
       " 'Extrovert',\n",
       " 'Introvert',\n",
       " 'Extrovert',\n",
       " 'Introvert',\n",
       " 'Introvert',\n",
       " 'Extrovert',\n",
       " 'Extrovert',\n",
       " 'Extrovert',\n",
       " 'Extrovert',\n",
       " 'Extrovert',\n",
       " 'Extrovert',\n",
       " 'Extrovert',\n",
       " 'Introvert',\n",
       " 'Extrovert',\n",
       " 'Extrovert',\n",
       " 'Extrovert',\n",
       " 'Introvert',\n",
       " 'Extrovert',\n",
       " 'Extrovert',\n",
       " 'Introvert',\n",
       " 'Extrovert',\n",
       " 'Extrovert',\n",
       " 'Extrovert',\n",
       " 'Extrovert',\n",
       " 'Introvert',\n",
       " 'Extrovert',\n",
       " 'Extrovert',\n",
       " 'Introvert',\n",
       " 'Introvert',\n",
       " 'Introvert',\n",
       " 'Introvert',\n",
       " 'Extrovert',\n",
       " 'Introvert',\n",
       " 'Extrovert',\n",
       " 'Extrovert',\n",
       " 'Extrovert',\n",
       " 'Introvert',\n",
       " 'Extrovert',\n",
       " 'Introvert',\n",
       " 'Extrovert',\n",
       " 'Extrovert',\n",
       " 'Extrovert',\n",
       " 'Introvert',\n",
       " 'Extrovert',\n",
       " 'Extrovert',\n",
       " 'Extrovert',\n",
       " 'Extrovert',\n",
       " 'Extrovert',\n",
       " 'Extrovert',\n",
       " 'Introvert',\n",
       " 'Introvert',\n",
       " 'Introvert',\n",
       " 'Extrovert',\n",
       " 'Extrovert',\n",
       " 'Extrovert',\n",
       " 'Introvert',\n",
       " 'Introvert',\n",
       " 'Extrovert',\n",
       " 'Extrovert',\n",
       " 'Introvert',\n",
       " 'Introvert',\n",
       " 'Extrovert',\n",
       " 'Extrovert',\n",
       " 'Extrovert',\n",
       " 'Extrovert',\n",
       " 'Introvert',\n",
       " 'Extrovert',\n",
       " 'Extrovert',\n",
       " 'Extrovert',\n",
       " 'Introvert',\n",
       " 'Extrovert',\n",
       " 'Extrovert',\n",
       " 'Extrovert',\n",
       " 'Extrovert',\n",
       " 'Extrovert',\n",
       " 'Extrovert',\n",
       " 'Introvert',\n",
       " 'Introvert',\n",
       " 'Introvert',\n",
       " 'Extrovert',\n",
       " 'Extrovert',\n",
       " 'Extrovert',\n",
       " 'Extrovert',\n",
       " 'Extrovert',\n",
       " 'Extrovert',\n",
       " 'Extrovert',\n",
       " 'Introvert',\n",
       " 'Extrovert',\n",
       " 'Extrovert',\n",
       " 'Introvert',\n",
       " 'Extrovert',\n",
       " 'Extrovert',\n",
       " 'Extrovert',\n",
       " 'Extrovert',\n",
       " 'Extrovert',\n",
       " 'Extrovert',\n",
       " 'Introvert',\n",
       " 'Introvert',\n",
       " 'Extrovert',\n",
       " 'Extrovert',\n",
       " 'Introvert',\n",
       " 'Extrovert',\n",
       " 'Extrovert',\n",
       " 'Extrovert',\n",
       " 'Extrovert',\n",
       " 'Extrovert',\n",
       " 'Extrovert',\n",
       " 'Extrovert',\n",
       " 'Introvert',\n",
       " 'Extrovert',\n",
       " 'Extrovert',\n",
       " 'Extrovert',\n",
       " 'Extrovert',\n",
       " 'Extrovert',\n",
       " 'Extrovert',\n",
       " 'Extrovert',\n",
       " 'Extrovert',\n",
       " 'Extrovert',\n",
       " 'Introvert',\n",
       " 'Introvert',\n",
       " 'Extrovert',\n",
       " 'Introvert',\n",
       " 'Extrovert',\n",
       " 'Extrovert',\n",
       " 'Extrovert',\n",
       " 'Extrovert',\n",
       " 'Extrovert',\n",
       " 'Extrovert',\n",
       " 'Extrovert',\n",
       " 'Extrovert',\n",
       " 'Introvert',\n",
       " 'Extrovert',\n",
       " 'Introvert',\n",
       " 'Extrovert',\n",
       " 'Extrovert',\n",
       " 'Introvert',\n",
       " 'Introvert',\n",
       " 'Extrovert',\n",
       " 'Extrovert',\n",
       " 'Extrovert',\n",
       " 'Extrovert',\n",
       " 'Extrovert',\n",
       " 'Extrovert',\n",
       " 'Extrovert',\n",
       " 'Extrovert',\n",
       " 'Extrovert',\n",
       " 'Extrovert',\n",
       " 'Introvert',\n",
       " 'Extrovert',\n",
       " 'Extrovert',\n",
       " 'Extrovert',\n",
       " 'Extrovert',\n",
       " 'Extrovert',\n",
       " 'Introvert',\n",
       " 'Extrovert',\n",
       " 'Extrovert',\n",
       " 'Extrovert',\n",
       " 'Extrovert',\n",
       " 'Extrovert',\n",
       " 'Extrovert',\n",
       " 'Extrovert',\n",
       " 'Extrovert',\n",
       " 'Introvert',\n",
       " 'Extrovert',\n",
       " 'Extrovert',\n",
       " 'Extrovert',\n",
       " 'Introvert',\n",
       " 'Extrovert',\n",
       " 'Extrovert',\n",
       " 'Extrovert',\n",
       " 'Extrovert',\n",
       " 'Introvert',\n",
       " 'Extrovert',\n",
       " 'Introvert',\n",
       " 'Extrovert',\n",
       " 'Extrovert',\n",
       " 'Introvert',\n",
       " 'Extrovert',\n",
       " 'Extrovert',\n",
       " 'Extrovert',\n",
       " 'Extrovert',\n",
       " 'Introvert',\n",
       " 'Extrovert',\n",
       " 'Extrovert',\n",
       " 'Extrovert',\n",
       " 'Extrovert',\n",
       " 'Extrovert',\n",
       " 'Extrovert',\n",
       " 'Introvert',\n",
       " 'Extrovert',\n",
       " 'Extrovert',\n",
       " 'Extrovert',\n",
       " 'Extrovert',\n",
       " 'Extrovert',\n",
       " 'Extrovert',\n",
       " 'Introvert',\n",
       " 'Extrovert',\n",
       " 'Extrovert',\n",
       " 'Extrovert',\n",
       " 'Extrovert',\n",
       " 'Extrovert',\n",
       " 'Extrovert',\n",
       " 'Extrovert',\n",
       " 'Introvert',\n",
       " 'Extrovert',\n",
       " 'Introvert',\n",
       " 'Extrovert',\n",
       " 'Introvert',\n",
       " 'Extrovert',\n",
       " 'Extrovert',\n",
       " 'Introvert',\n",
       " 'Extrovert',\n",
       " 'Extrovert',\n",
       " 'Extrovert',\n",
       " 'Introvert',\n",
       " 'Extrovert',\n",
       " 'Introvert',\n",
       " 'Extrovert',\n",
       " 'Introvert',\n",
       " 'Extrovert',\n",
       " 'Extrovert',\n",
       " 'Introvert',\n",
       " 'Extrovert',\n",
       " 'Extrovert',\n",
       " 'Extrovert',\n",
       " 'Extrovert',\n",
       " 'Extrovert',\n",
       " 'Extrovert',\n",
       " 'Extrovert',\n",
       " 'Extrovert',\n",
       " 'Extrovert',\n",
       " 'Extrovert',\n",
       " 'Extrovert',\n",
       " 'Introvert',\n",
       " 'Extrovert',\n",
       " 'Introvert',\n",
       " 'Extrovert',\n",
       " 'Introvert',\n",
       " 'Extrovert',\n",
       " 'Introvert',\n",
       " 'Introvert',\n",
       " 'Extrovert',\n",
       " 'Introvert',\n",
       " 'Extrovert',\n",
       " 'Extrovert',\n",
       " 'Extrovert',\n",
       " 'Extrovert',\n",
       " 'Extrovert',\n",
       " 'Extrovert',\n",
       " 'Extrovert',\n",
       " 'Introvert',\n",
       " 'Extrovert',\n",
       " 'Introvert',\n",
       " 'Extrovert',\n",
       " 'Introvert',\n",
       " 'Extrovert',\n",
       " 'Introvert',\n",
       " 'Introvert',\n",
       " 'Introvert',\n",
       " 'Introvert',\n",
       " 'Extrovert',\n",
       " 'Extrovert',\n",
       " 'Extrovert',\n",
       " 'Introvert',\n",
       " 'Introvert',\n",
       " 'Extrovert',\n",
       " 'Extrovert',\n",
       " 'Extrovert',\n",
       " 'Extrovert',\n",
       " 'Extrovert',\n",
       " 'Introvert',\n",
       " 'Extrovert',\n",
       " 'Introvert',\n",
       " 'Extrovert',\n",
       " 'Introvert',\n",
       " 'Introvert',\n",
       " 'Extrovert',\n",
       " 'Extrovert',\n",
       " 'Introvert',\n",
       " 'Extrovert',\n",
       " 'Introvert',\n",
       " 'Extrovert',\n",
       " 'Extrovert',\n",
       " 'Introvert',\n",
       " 'Introvert',\n",
       " 'Extrovert',\n",
       " 'Extrovert',\n",
       " 'Introvert',\n",
       " 'Introvert',\n",
       " 'Extrovert',\n",
       " 'Extrovert',\n",
       " 'Extrovert',\n",
       " 'Extrovert',\n",
       " 'Extrovert',\n",
       " 'Introvert',\n",
       " 'Extrovert',\n",
       " 'Extrovert',\n",
       " 'Introvert',\n",
       " 'Extrovert',\n",
       " 'Extrovert',\n",
       " 'Extrovert',\n",
       " 'Extrovert',\n",
       " 'Introvert',\n",
       " 'Introvert',\n",
       " 'Introvert',\n",
       " 'Extrovert',\n",
       " 'Extrovert',\n",
       " 'Extrovert',\n",
       " 'Extrovert',\n",
       " 'Extrovert',\n",
       " 'Extrovert',\n",
       " 'Extrovert',\n",
       " 'Introvert',\n",
       " 'Introvert',\n",
       " 'Introvert',\n",
       " 'Introvert',\n",
       " 'Extrovert',\n",
       " 'Extrovert',\n",
       " 'Extrovert',\n",
       " 'Extrovert',\n",
       " 'Extrovert',\n",
       " 'Extrovert',\n",
       " 'Extrovert',\n",
       " 'Extrovert',\n",
       " 'Introvert',\n",
       " 'Extrovert',\n",
       " 'Extrovert',\n",
       " 'Extrovert',\n",
       " 'Extrovert',\n",
       " 'Introvert',\n",
       " 'Introvert',\n",
       " 'Extrovert',\n",
       " 'Extrovert',\n",
       " 'Extrovert',\n",
       " 'Introvert',\n",
       " 'Extrovert',\n",
       " 'Extrovert',\n",
       " 'Extrovert',\n",
       " 'Introvert',\n",
       " 'Extrovert',\n",
       " 'Extrovert',\n",
       " 'Extrovert',\n",
       " 'Introvert',\n",
       " 'Extrovert',\n",
       " 'Extrovert',\n",
       " 'Extrovert',\n",
       " 'Extrovert',\n",
       " 'Extrovert',\n",
       " 'Introvert',\n",
       " 'Extrovert',\n",
       " 'Introvert',\n",
       " 'Extrovert',\n",
       " 'Extrovert',\n",
       " 'Extrovert',\n",
       " 'Extrovert',\n",
       " 'Extrovert',\n",
       " 'Extrovert',\n",
       " 'Extrovert',\n",
       " 'Extrovert',\n",
       " 'Extrovert',\n",
       " 'Extrovert',\n",
       " 'Introvert',\n",
       " 'Extrovert',\n",
       " 'Introvert',\n",
       " 'Extrovert',\n",
       " 'Extrovert',\n",
       " 'Extrovert',\n",
       " 'Extrovert',\n",
       " 'Introvert',\n",
       " 'Introvert',\n",
       " 'Extrovert',\n",
       " 'Extrovert',\n",
       " 'Extrovert',\n",
       " 'Introvert',\n",
       " 'Introvert',\n",
       " 'Extrovert',\n",
       " 'Extrovert',\n",
       " 'Extrovert',\n",
       " 'Extrovert',\n",
       " 'Extrovert',\n",
       " 'Introvert',\n",
       " 'Extrovert',\n",
       " 'Introvert',\n",
       " 'Extrovert',\n",
       " 'Extrovert',\n",
       " 'Introvert',\n",
       " 'Introvert',\n",
       " 'Extrovert',\n",
       " 'Extrovert',\n",
       " 'Extrovert',\n",
       " 'Extrovert',\n",
       " 'Extrovert',\n",
       " 'Extrovert',\n",
       " 'Extrovert',\n",
       " 'Extrovert',\n",
       " 'Extrovert',\n",
       " 'Extrovert',\n",
       " 'Introvert',\n",
       " 'Extrovert',\n",
       " 'Extrovert',\n",
       " 'Extrovert',\n",
       " 'Extrovert',\n",
       " 'Extrovert',\n",
       " 'Introvert',\n",
       " 'Extrovert',\n",
       " 'Extrovert',\n",
       " 'Extrovert',\n",
       " 'Extrovert',\n",
       " 'Extrovert',\n",
       " 'Extrovert',\n",
       " 'Extrovert',\n",
       " 'Extrovert',\n",
       " 'Extrovert',\n",
       " 'Extrovert',\n",
       " 'Extrovert',\n",
       " 'Extrovert',\n",
       " 'Extrovert',\n",
       " 'Extrovert',\n",
       " 'Introvert',\n",
       " 'Extrovert',\n",
       " 'Introvert',\n",
       " 'Extrovert',\n",
       " 'Extrovert',\n",
       " 'Introvert',\n",
       " 'Extrovert',\n",
       " 'Extrovert',\n",
       " 'Extrovert',\n",
       " 'Introvert',\n",
       " 'Introvert',\n",
       " 'Introvert',\n",
       " 'Extrovert',\n",
       " 'Extrovert',\n",
       " 'Extrovert',\n",
       " 'Extrovert',\n",
       " 'Extrovert',\n",
       " 'Extrovert',\n",
       " 'Introvert',\n",
       " 'Introvert',\n",
       " 'Extrovert',\n",
       " 'Extrovert',\n",
       " 'Extrovert',\n",
       " 'Extrovert',\n",
       " 'Extrovert',\n",
       " 'Introvert',\n",
       " 'Extrovert',\n",
       " 'Extrovert',\n",
       " 'Extrovert',\n",
       " 'Extrovert',\n",
       " 'Extrovert',\n",
       " 'Extrovert',\n",
       " 'Introvert',\n",
       " 'Introvert',\n",
       " 'Extrovert',\n",
       " 'Introvert',\n",
       " 'Extrovert',\n",
       " 'Extrovert',\n",
       " 'Extrovert',\n",
       " 'Extrovert',\n",
       " 'Extrovert',\n",
       " 'Extrovert',\n",
       " 'Extrovert',\n",
       " 'Extrovert',\n",
       " 'Extrovert',\n",
       " 'Extrovert',\n",
       " 'Introvert',\n",
       " 'Extrovert',\n",
       " 'Introvert',\n",
       " 'Extrovert',\n",
       " 'Extrovert',\n",
       " 'Extrovert',\n",
       " 'Extrovert',\n",
       " 'Extrovert',\n",
       " 'Extrovert',\n",
       " 'Introvert',\n",
       " 'Introvert',\n",
       " 'Extrovert',\n",
       " 'Extrovert',\n",
       " 'Extrovert',\n",
       " 'Extrovert',\n",
       " 'Extrovert',\n",
       " 'Extrovert',\n",
       " 'Extrovert',\n",
       " 'Extrovert',\n",
       " 'Extrovert',\n",
       " 'Extrovert',\n",
       " 'Extrovert',\n",
       " 'Introvert',\n",
       " 'Extrovert',\n",
       " 'Extrovert',\n",
       " 'Introvert',\n",
       " 'Extrovert',\n",
       " 'Extrovert',\n",
       " 'Extrovert',\n",
       " 'Extrovert',\n",
       " 'Extrovert',\n",
       " 'Extrovert',\n",
       " 'Extrovert',\n",
       " 'Extrovert',\n",
       " 'Extrovert',\n",
       " 'Extrovert',\n",
       " 'Extrovert',\n",
       " 'Introvert',\n",
       " 'Extrovert',\n",
       " 'Extrovert',\n",
       " 'Introvert',\n",
       " 'Extrovert',\n",
       " 'Extrovert',\n",
       " 'Introvert',\n",
       " 'Introvert',\n",
       " 'Extrovert',\n",
       " 'Introvert',\n",
       " 'Introvert',\n",
       " 'Introvert',\n",
       " 'Extrovert',\n",
       " 'Extrovert',\n",
       " 'Introvert',\n",
       " 'Introvert',\n",
       " 'Extrovert',\n",
       " 'Extrovert',\n",
       " 'Extrovert',\n",
       " 'Extrovert',\n",
       " 'Introvert',\n",
       " 'Extrovert',\n",
       " 'Extrovert',\n",
       " 'Introvert',\n",
       " 'Extrovert',\n",
       " 'Extrovert',\n",
       " 'Extrovert',\n",
       " 'Extrovert',\n",
       " 'Extrovert',\n",
       " 'Introvert',\n",
       " 'Extrovert',\n",
       " 'Extrovert',\n",
       " 'Extrovert',\n",
       " 'Extrovert',\n",
       " 'Extrovert',\n",
       " 'Extrovert',\n",
       " 'Introvert',\n",
       " 'Introvert',\n",
       " 'Extrovert',\n",
       " 'Extrovert',\n",
       " 'Introvert',\n",
       " 'Extrovert',\n",
       " 'Extrovert',\n",
       " 'Extrovert',\n",
       " 'Extrovert',\n",
       " 'Extrovert',\n",
       " 'Extrovert',\n",
       " 'Extrovert',\n",
       " 'Introvert',\n",
       " 'Extrovert',\n",
       " 'Extrovert',\n",
       " 'Extrovert',\n",
       " 'Extrovert',\n",
       " 'Extrovert',\n",
       " 'Extrovert',\n",
       " 'Introvert',\n",
       " 'Extrovert',\n",
       " 'Extrovert',\n",
       " 'Introvert',\n",
       " 'Extrovert',\n",
       " 'Extrovert',\n",
       " 'Extrovert',\n",
       " 'Extrovert',\n",
       " 'Extrovert',\n",
       " 'Extrovert',\n",
       " 'Extrovert',\n",
       " 'Extrovert',\n",
       " 'Extrovert',\n",
       " 'Extrovert',\n",
       " 'Extrovert',\n",
       " 'Introvert',\n",
       " 'Extrovert',\n",
       " 'Extrovert',\n",
       " 'Extrovert',\n",
       " 'Introvert',\n",
       " 'Extrovert',\n",
       " 'Introvert',\n",
       " 'Extrovert',\n",
       " 'Extrovert',\n",
       " 'Extrovert',\n",
       " 'Extrovert',\n",
       " 'Introvert',\n",
       " 'Extrovert',\n",
       " 'Extrovert',\n",
       " 'Extrovert',\n",
       " 'Extrovert',\n",
       " 'Extrovert',\n",
       " 'Introvert',\n",
       " 'Extrovert',\n",
       " 'Extrovert',\n",
       " 'Extrovert',\n",
       " 'Extrovert',\n",
       " 'Extrovert',\n",
       " 'Extrovert',\n",
       " 'Extrovert',\n",
       " 'Extrovert',\n",
       " 'Introvert',\n",
       " 'Extrovert',\n",
       " 'Extrovert',\n",
       " 'Extrovert',\n",
       " 'Extrovert',\n",
       " 'Introvert',\n",
       " 'Introvert',\n",
       " 'Introvert',\n",
       " 'Introvert',\n",
       " 'Introvert',\n",
       " 'Extrovert',\n",
       " 'Extrovert',\n",
       " 'Extrovert',\n",
       " 'Extrovert',\n",
       " 'Extrovert',\n",
       " 'Introvert',\n",
       " 'Extrovert',\n",
       " 'Extrovert',\n",
       " 'Extrovert',\n",
       " 'Extrovert',\n",
       " 'Extrovert',\n",
       " 'Introvert',\n",
       " 'Extrovert',\n",
       " 'Introvert',\n",
       " 'Extrovert',\n",
       " 'Introvert',\n",
       " 'Extrovert',\n",
       " 'Extrovert',\n",
       " 'Extrovert',\n",
       " 'Extrovert',\n",
       " 'Extrovert',\n",
       " 'Extrovert',\n",
       " 'Introvert',\n",
       " 'Introvert',\n",
       " 'Extrovert',\n",
       " 'Extrovert',\n",
       " 'Extrovert',\n",
       " 'Introvert',\n",
       " 'Extrovert',\n",
       " 'Extrovert',\n",
       " 'Extrovert',\n",
       " 'Introvert',\n",
       " 'Extrovert',\n",
       " 'Introvert',\n",
       " 'Extrovert',\n",
       " 'Introvert',\n",
       " 'Extrovert',\n",
       " 'Extrovert',\n",
       " 'Extrovert',\n",
       " 'Introvert',\n",
       " 'Extrovert',\n",
       " 'Extrovert',\n",
       " 'Extrovert',\n",
       " 'Extrovert',\n",
       " 'Extrovert',\n",
       " 'Extrovert',\n",
       " 'Extrovert',\n",
       " 'Extrovert',\n",
       " 'Extrovert',\n",
       " 'Extrovert',\n",
       " 'Extrovert',\n",
       " 'Extrovert',\n",
       " 'Extrovert',\n",
       " 'Introvert',\n",
       " 'Extrovert',\n",
       " 'Extrovert',\n",
       " 'Extrovert',\n",
       " 'Extrovert',\n",
       " 'Extrovert',\n",
       " 'Extrovert',\n",
       " 'Extrovert',\n",
       " 'Extrovert',\n",
       " 'Extrovert',\n",
       " 'Introvert',\n",
       " 'Extrovert',\n",
       " 'Extrovert',\n",
       " 'Introvert',\n",
       " 'Extrovert',\n",
       " 'Extrovert',\n",
       " 'Extrovert',\n",
       " 'Extrovert',\n",
       " 'Extrovert',\n",
       " 'Extrovert',\n",
       " 'Extrovert',\n",
       " 'Extrovert',\n",
       " 'Extrovert',\n",
       " 'Extrovert',\n",
       " 'Extrovert',\n",
       " 'Extrovert',\n",
       " 'Introvert',\n",
       " 'Extrovert',\n",
       " 'Introvert',\n",
       " 'Introvert',\n",
       " 'Extrovert',\n",
       " 'Introvert',\n",
       " 'Extrovert',\n",
       " 'Extrovert',\n",
       " 'Extrovert',\n",
       " 'Extrovert',\n",
       " 'Introvert',\n",
       " 'Extrovert',\n",
       " 'Extrovert',\n",
       " 'Introvert',\n",
       " 'Extrovert',\n",
       " 'Extrovert',\n",
       " 'Introvert',\n",
       " 'Introvert',\n",
       " 'Extrovert',\n",
       " 'Extrovert',\n",
       " 'Extrovert',\n",
       " 'Introvert',\n",
       " 'Extrovert',\n",
       " 'Introvert',\n",
       " 'Extrovert',\n",
       " 'Introvert',\n",
       " 'Extrovert',\n",
       " 'Extrovert',\n",
       " 'Introvert',\n",
       " 'Extrovert',\n",
       " 'Introvert',\n",
       " 'Introvert',\n",
       " 'Introvert',\n",
       " 'Extrovert',\n",
       " 'Introvert',\n",
       " 'Introvert',\n",
       " 'Extrovert',\n",
       " 'Extrovert',\n",
       " 'Introvert',\n",
       " 'Extrovert',\n",
       " 'Extrovert',\n",
       " 'Introvert',\n",
       " 'Extrovert',\n",
       " 'Introvert',\n",
       " 'Extrovert',\n",
       " 'Extrovert',\n",
       " 'Extrovert',\n",
       " 'Extrovert',\n",
       " 'Extrovert',\n",
       " 'Extrovert',\n",
       " 'Introvert',\n",
       " 'Extrovert',\n",
       " 'Extrovert',\n",
       " 'Extrovert',\n",
       " 'Extrovert',\n",
       " 'Extrovert',\n",
       " 'Introvert',\n",
       " 'Introvert',\n",
       " 'Introvert',\n",
       " 'Extrovert',\n",
       " 'Extrovert',\n",
       " 'Extrovert',\n",
       " 'Introvert',\n",
       " 'Extrovert',\n",
       " 'Introvert',\n",
       " 'Introvert',\n",
       " 'Extrovert',\n",
       " 'Introvert',\n",
       " 'Extrovert',\n",
       " 'Extrovert',\n",
       " 'Extrovert',\n",
       " 'Extrovert',\n",
       " 'Extrovert',\n",
       " 'Introvert',\n",
       " 'Introvert',\n",
       " 'Extrovert',\n",
       " 'Extrovert',\n",
       " 'Extrovert',\n",
       " 'Extrovert',\n",
       " 'Introvert',\n",
       " 'Extrovert',\n",
       " 'Extrovert',\n",
       " 'Extrovert',\n",
       " 'Introvert',\n",
       " 'Introvert',\n",
       " 'Extrovert',\n",
       " 'Extrovert',\n",
       " 'Extrovert',\n",
       " 'Extrovert',\n",
       " 'Introvert',\n",
       " 'Extrovert',\n",
       " 'Extrovert',\n",
       " 'Extrovert',\n",
       " 'Extrovert',\n",
       " 'Extrovert',\n",
       " 'Introvert',\n",
       " 'Extrovert',\n",
       " 'Extrovert',\n",
       " 'Extrovert',\n",
       " 'Extrovert',\n",
       " 'Extrovert',\n",
       " 'Introvert',\n",
       " 'Extrovert',\n",
       " 'Extrovert',\n",
       " 'Extrovert',\n",
       " 'Extrovert',\n",
       " 'Extrovert',\n",
       " 'Introvert',\n",
       " 'Extrovert',\n",
       " 'Extrovert',\n",
       " 'Extrovert',\n",
       " 'Extrovert',\n",
       " 'Introvert',\n",
       " 'Extrovert',\n",
       " 'Introvert',\n",
       " 'Extrovert',\n",
       " 'Introvert',\n",
       " 'Introvert',\n",
       " 'Introvert',\n",
       " 'Extrovert',\n",
       " 'Introvert',\n",
       " 'Extrovert',\n",
       " 'Extrovert',\n",
       " 'Extrovert',\n",
       " 'Introvert',\n",
       " 'Extrovert',\n",
       " 'Extrovert',\n",
       " 'Introvert',\n",
       " 'Introvert',\n",
       " 'Extrovert',\n",
       " 'Extrovert',\n",
       " 'Extrovert',\n",
       " 'Extrovert',\n",
       " 'Extrovert',\n",
       " 'Extrovert',\n",
       " 'Extrovert',\n",
       " 'Extrovert',\n",
       " 'Extrovert',\n",
       " 'Extrovert',\n",
       " 'Extrovert',\n",
       " 'Extrovert',\n",
       " 'Extrovert',\n",
       " 'Extrovert',\n",
       " 'Extrovert',\n",
       " 'Extrovert',\n",
       " 'Extrovert',\n",
       " 'Extrovert',\n",
       " 'Introvert',\n",
       " 'Introvert',\n",
       " 'Extrovert',\n",
       " 'Extrovert',\n",
       " 'Extrovert',\n",
       " 'Introvert',\n",
       " 'Introvert',\n",
       " 'Extrovert',\n",
       " 'Extrovert',\n",
       " 'Extrovert',\n",
       " 'Extrovert',\n",
       " 'Introvert',\n",
       " 'Extrovert',\n",
       " 'Extrovert',\n",
       " 'Extrovert',\n",
       " 'Extrovert',\n",
       " 'Extrovert',\n",
       " 'Introvert',\n",
       " 'Extrovert',\n",
       " 'Extrovert',\n",
       " 'Extrovert',\n",
       " 'Extrovert',\n",
       " ...]"
      ]
     },
     "execution_count": 33,
     "metadata": {},
     "output_type": "execute_result"
    }
   ],
   "source": [
    "res.tolist()"
   ]
  },
  {
   "cell_type": "code",
   "execution_count": 34,
   "id": "af8d5ef9",
   "metadata": {},
   "outputs": [
    {
     "data": {
      "application/vnd.microsoft.datawrangler.viewer.v0+json": {
       "columns": [
        {
         "name": "index",
         "rawType": "int64",
         "type": "integer"
        },
        {
         "name": "id",
         "rawType": "int64",
         "type": "integer"
        },
        {
         "name": "Personality",
         "rawType": "object",
         "type": "string"
        }
       ],
       "ref": "87500439-556c-4d15-ba9b-511ebe300d82",
       "rows": [
        [
         "0",
         "18524",
         "Extrovert"
        ],
        [
         "1",
         "18525",
         "Introvert"
        ],
        [
         "2",
         "18526",
         "Extrovert"
        ],
        [
         "3",
         "18527",
         "Extrovert"
        ],
        [
         "4",
         "18528",
         "Introvert"
        ],
        [
         "5",
         "18529",
         "Extrovert"
        ],
        [
         "6",
         "18530",
         "Extrovert"
        ],
        [
         "7",
         "18531",
         "Introvert"
        ],
        [
         "8",
         "18532",
         "Extrovert"
        ],
        [
         "9",
         "18533",
         "Introvert"
        ],
        [
         "10",
         "18534",
         "Extrovert"
        ],
        [
         "11",
         "18535",
         "Extrovert"
        ],
        [
         "12",
         "18536",
         "Introvert"
        ],
        [
         "13",
         "18537",
         "Extrovert"
        ],
        [
         "14",
         "18538",
         "Introvert"
        ],
        [
         "15",
         "18539",
         "Extrovert"
        ],
        [
         "16",
         "18540",
         "Extrovert"
        ],
        [
         "17",
         "18541",
         "Extrovert"
        ],
        [
         "18",
         "18542",
         "Introvert"
        ],
        [
         "19",
         "18543",
         "Extrovert"
        ],
        [
         "20",
         "18544",
         "Introvert"
        ],
        [
         "21",
         "18545",
         "Introvert"
        ],
        [
         "22",
         "18546",
         "Extrovert"
        ],
        [
         "23",
         "18547",
         "Introvert"
        ],
        [
         "24",
         "18548",
         "Extrovert"
        ],
        [
         "25",
         "18549",
         "Extrovert"
        ],
        [
         "26",
         "18550",
         "Extrovert"
        ],
        [
         "27",
         "18551",
         "Extrovert"
        ],
        [
         "28",
         "18552",
         "Introvert"
        ],
        [
         "29",
         "18553",
         "Introvert"
        ],
        [
         "30",
         "18554",
         "Extrovert"
        ],
        [
         "31",
         "18555",
         "Extrovert"
        ],
        [
         "32",
         "18556",
         "Introvert"
        ],
        [
         "33",
         "18557",
         "Extrovert"
        ],
        [
         "34",
         "18558",
         "Extrovert"
        ],
        [
         "35",
         "18559",
         "Extrovert"
        ],
        [
         "36",
         "18560",
         "Extrovert"
        ],
        [
         "37",
         "18561",
         "Extrovert"
        ],
        [
         "38",
         "18562",
         "Extrovert"
        ],
        [
         "39",
         "18563",
         "Extrovert"
        ],
        [
         "40",
         "18564",
         "Introvert"
        ],
        [
         "41",
         "18565",
         "Introvert"
        ],
        [
         "42",
         "18566",
         "Introvert"
        ],
        [
         "43",
         "18567",
         "Introvert"
        ],
        [
         "44",
         "18568",
         "Extrovert"
        ],
        [
         "45",
         "18569",
         "Introvert"
        ],
        [
         "46",
         "18570",
         "Extrovert"
        ],
        [
         "47",
         "18571",
         "Introvert"
        ],
        [
         "48",
         "18572",
         "Extrovert"
        ],
        [
         "49",
         "18573",
         "Extrovert"
        ]
       ],
       "shape": {
        "columns": 2,
        "rows": 6175
       }
      },
      "text/html": [
       "<div>\n",
       "<style scoped>\n",
       "    .dataframe tbody tr th:only-of-type {\n",
       "        vertical-align: middle;\n",
       "    }\n",
       "\n",
       "    .dataframe tbody tr th {\n",
       "        vertical-align: top;\n",
       "    }\n",
       "\n",
       "    .dataframe thead th {\n",
       "        text-align: right;\n",
       "    }\n",
       "</style>\n",
       "<table border=\"1\" class=\"dataframe\">\n",
       "  <thead>\n",
       "    <tr style=\"text-align: right;\">\n",
       "      <th></th>\n",
       "      <th>id</th>\n",
       "      <th>Personality</th>\n",
       "    </tr>\n",
       "  </thead>\n",
       "  <tbody>\n",
       "    <tr>\n",
       "      <th>0</th>\n",
       "      <td>18524</td>\n",
       "      <td>Extrovert</td>\n",
       "    </tr>\n",
       "    <tr>\n",
       "      <th>1</th>\n",
       "      <td>18525</td>\n",
       "      <td>Introvert</td>\n",
       "    </tr>\n",
       "    <tr>\n",
       "      <th>2</th>\n",
       "      <td>18526</td>\n",
       "      <td>Extrovert</td>\n",
       "    </tr>\n",
       "    <tr>\n",
       "      <th>3</th>\n",
       "      <td>18527</td>\n",
       "      <td>Extrovert</td>\n",
       "    </tr>\n",
       "    <tr>\n",
       "      <th>4</th>\n",
       "      <td>18528</td>\n",
       "      <td>Introvert</td>\n",
       "    </tr>\n",
       "    <tr>\n",
       "      <th>...</th>\n",
       "      <td>...</td>\n",
       "      <td>...</td>\n",
       "    </tr>\n",
       "    <tr>\n",
       "      <th>6170</th>\n",
       "      <td>24694</td>\n",
       "      <td>Extrovert</td>\n",
       "    </tr>\n",
       "    <tr>\n",
       "      <th>6171</th>\n",
       "      <td>24695</td>\n",
       "      <td>Introvert</td>\n",
       "    </tr>\n",
       "    <tr>\n",
       "      <th>6172</th>\n",
       "      <td>24696</td>\n",
       "      <td>Extrovert</td>\n",
       "    </tr>\n",
       "    <tr>\n",
       "      <th>6173</th>\n",
       "      <td>24697</td>\n",
       "      <td>Extrovert</td>\n",
       "    </tr>\n",
       "    <tr>\n",
       "      <th>6174</th>\n",
       "      <td>24698</td>\n",
       "      <td>Introvert</td>\n",
       "    </tr>\n",
       "  </tbody>\n",
       "</table>\n",
       "<p>6175 rows × 2 columns</p>\n",
       "</div>"
      ],
      "text/plain": [
       "         id Personality\n",
       "0     18524   Extrovert\n",
       "1     18525   Introvert\n",
       "2     18526   Extrovert\n",
       "3     18527   Extrovert\n",
       "4     18528   Introvert\n",
       "...     ...         ...\n",
       "6170  24694   Extrovert\n",
       "6171  24695   Introvert\n",
       "6172  24696   Extrovert\n",
       "6173  24697   Extrovert\n",
       "6174  24698   Introvert\n",
       "\n",
       "[6175 rows x 2 columns]"
      ]
     },
     "execution_count": 34,
     "metadata": {},
     "output_type": "execute_result"
    }
   ],
   "source": [
    "submission[\"Personality\"] = res.tolist()\n",
    "submission"
   ]
  },
  {
   "cell_type": "code",
   "execution_count": 35,
   "id": "345ca112",
   "metadata": {},
   "outputs": [],
   "source": [
    "# submission[\"Personality\"] = submission[\"Personality\"].map({0: \"Introvert\", 1: \"Extrovert\"})\n",
    "# submission"
   ]
  },
  {
   "cell_type": "code",
   "execution_count": 36,
   "id": "823efd58",
   "metadata": {},
   "outputs": [],
   "source": [
    "submission.to_csv(\"submission.csv\",index=False)"
   ]
  },
  {
   "cell_type": "code",
   "execution_count": null,
   "id": "c362f779",
   "metadata": {},
   "outputs": [],
   "source": []
  }
 ],
 "metadata": {
  "kernelspec": {
   "display_name": "predict-the-introverts-from-the-extroverts",
   "language": "python",
   "name": "python3"
  },
  "language_info": {
   "codemirror_mode": {
    "name": "ipython",
    "version": 3
   },
   "file_extension": ".py",
   "mimetype": "text/x-python",
   "name": "python",
   "nbconvert_exporter": "python",
   "pygments_lexer": "ipython3",
   "version": "3.12.4"
  }
 },
 "nbformat": 4,
 "nbformat_minor": 5
}
